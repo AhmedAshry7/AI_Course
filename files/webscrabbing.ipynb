{
 "cells": [
  {
   "cell_type": "code",
   "execution_count": 42,
   "id": "399de2e5",
   "metadata": {},
   "outputs": [
    {
     "name": "stdout",
     "output_type": "stream",
     "text": [
      "['Saturday ', ' Monday ', ' Wednesday']\n",
      "['Fighters class', 'Foundation/Beginners class', 'SHRED \"Strength & Conditioning\"', 'Intermediates/Advanced class', '\\u200b']\n",
      "['6:00 PM', '7:00 PM', '8:00 PM', '9:00 PM']\n"
     ]
    }
   ],
   "source": [
    "import requests                    #!pip install requests --> to get the page that i need to scrapping\n",
    "from bs4 import BeautifulSoup      #beautiful soup version 4   --> to get information or parsing html\n",
    "import csv\n",
    "page1=requests.get('https://www.teamhashash.com/kickboxing')\n",
    "code=page1.content\n",
    "html1=BeautifulSoup(code,'lxml') \n",
    "data1=html1.find('div', class_=\"KcpHeO tz5f0K comp-lgwaw4zw wixui-rich-text\").text\n",
    "data1=data1.split('-')\n",
    "days1=[]\n",
    "for i in data1:\n",
    "    days1.append(i)\n",
    "print(days1)\n",
    "data2=html1.find('div',class_=\"KcpHeO tz5f0K comp-lgwavyoj wixui-rich-text\").text\n",
    "data2=data2.split('\\n')\n",
    "classes=[]\n",
    "time=[]\n",
    "count=0\n",
    "for i in data2:\n",
    "    if count%2==0:\n",
    "        classes.append(i)\n",
    "    else:\n",
    "        time.append(i)\n",
    "    count+=1\n",
    "print(classes)\n",
    "print(time)\n",
    "csvf=open('sheikhzayed.csv','w')\n",
    "writer=csv.writer(csvf)\n",
    "writer.writerow(['Days:',days1[0],days1[1],days1[2]])\n",
    "writer.writerow(['Classes','Times'])\n",
    "count=0\n",
    "for i in time:\n",
    "    writer.writerow([classes[count],time[count]])\n",
    "    count+=1\n",
    "csvf.close()"
   ]
  },
  {
   "cell_type": "code",
   "execution_count": null,
   "id": "d0717a65",
   "metadata": {},
   "outputs": [],
   "source": []
  }
 ],
 "metadata": {
  "kernelspec": {
   "display_name": "Python 3 (ipykernel)",
   "language": "python",
   "name": "python3"
  },
  "language_info": {
   "codemirror_mode": {
    "name": "ipython",
    "version": 3
   },
   "file_extension": ".py",
   "mimetype": "text/x-python",
   "name": "python",
   "nbconvert_exporter": "python",
   "pygments_lexer": "ipython3",
   "version": "3.10.9"
  }
 },
 "nbformat": 4,
 "nbformat_minor": 5
}
