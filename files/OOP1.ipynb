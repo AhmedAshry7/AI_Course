{
 "cells": [
  {
   "cell_type": "code",
   "execution_count": 13,
   "id": "d594760d",
   "metadata": {},
   "outputs": [
    {
     "name": "stdout",
     "output_type": "stream",
     "text": [
      "enter the name: ahmed\n",
      "enter M for Male and F for Female: M\n",
      "enter the your phone number: 010\n",
      "Hello my name is ahmed and I am a M and my contact is 010\n",
      "\n"
     ]
    }
   ],
   "source": [
    "class Human:\n",
    "    _phone=' '\n",
    "    _gender=' '\n",
    "    _name=' '\n",
    "    def setphone(self):\n",
    "        self.phone=input('enter the your phone number: ')\n",
    "    def setname(self):\n",
    "        self.name=input('enter the name: ')\n",
    "    def setgender(self):\n",
    "        self.gender=input('enter M for Male and F for Female: ')\n",
    "    def printdata(self):\n",
    "        z='Hello my name is '+self.name+' and I am a '+self.gender+' and my contact is '+ self.phone\n",
    "        print(z)\n",
    "        return z\n",
    "a1=Human()\n",
    "a1.setname()\n",
    "a1.setgender()\n",
    "a1.setphone()\n",
    "msg=a1.printdata()\n",
    "f=open('data.txt','w')\n",
    "f.write(msg)\n",
    "f.close()\n",
    "f=open('data.txt','r')\n",
    "msg2=f.readline()\n",
    "print(f.readline())\n",
    "f.close()"
   ]
  },
  {
   "cell_type": "code",
   "execution_count": 2,
   "id": "419a746b",
   "metadata": {},
   "outputs": [
    {
     "name": "stdout",
     "output_type": "stream",
     "text": [
      "enter the name: ahmed\n",
      "enter the the graduation year: 2026\n",
      "Hello my name is ahmed and my graduation year is 2026 .\n"
     ]
    }
   ],
   "source": [
    "class Human:\n",
    "    _phone=' '\n",
    "    _gender=' '\n",
    "    _name=' '\n",
    "    def setphone(self):\n",
    "        self.phone=input('enter the your phone number: ')\n",
    "    def setname(self):\n",
    "        self.name=input('enter the name: ')\n",
    "    def setgender(self):\n",
    "        self.gender=input('enter M for Male and F for Female: ')\n",
    "    def printdata(self):\n",
    "        z='Hello my name is '+self.name+' and I am a '+self.gender+' and my contact is '+ self.phone\n",
    "        print(z)\n",
    "        return z\n",
    "class student(Human):\n",
    "    _gradyear=' '\n",
    "    def setgrad(self):\n",
    "        self.gradyear=input('enter the the graduation year: ')\n",
    "    def printdata(self):\n",
    "        print('Hello my name is '+self.name+' and my graduation year is '+self.gradyear+' .')\n",
    "s1=student()\n",
    "s1.setname()\n",
    "s1.setgrad()\n",
    "s1.printdata()"
   ]
  },
  {
   "cell_type": "code",
   "execution_count": null,
   "id": "f5773b11",
   "metadata": {},
   "outputs": [],
   "source": []
  }
 ],
 "metadata": {
  "kernelspec": {
   "display_name": "Python 3 (ipykernel)",
   "language": "python",
   "name": "python3"
  },
  "language_info": {
   "codemirror_mode": {
    "name": "ipython",
    "version": 3
   },
   "file_extension": ".py",
   "mimetype": "text/x-python",
   "name": "python",
   "nbconvert_exporter": "python",
   "pygments_lexer": "ipython3",
   "version": "3.10.9"
  }
 },
 "nbformat": 4,
 "nbformat_minor": 5
}
