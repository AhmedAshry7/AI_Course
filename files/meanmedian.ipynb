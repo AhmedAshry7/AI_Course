{
 "cells": [
  {
   "cell_type": "code",
   "execution_count": 25,
   "id": "01efc5ec",
   "metadata": {},
   "outputs": [
    {
     "name": "stdout",
     "output_type": "stream",
     "text": [
      "[3, 4, 13, 15, 33, 42, 53]\n",
      "163 7\n",
      "15\n",
      "23.285714285714285\n"
     ]
    }
   ],
   "source": [
    "import numpy as np\n",
    "l=[13,15,33,3,42,53,4]\n",
    "l2=sorted(l)\n",
    "print(l2)\n",
    "count=0\n",
    "sum1=0\n",
    "for i in l2:\n",
    "    sum1+=l2[count]\n",
    "    count+=1\n",
    "print(sum1,count)\n",
    "imedian=np.floor((count/2))\n",
    "print(l2[int(imedian)])\n",
    "mean=sum1/count\n",
    "print(mean)"
   ]
  },
  {
   "cell_type": "code",
   "execution_count": 26,
   "id": "50a43997",
   "metadata": {},
   "outputs": [
    {
     "name": "stdout",
     "output_type": "stream",
     "text": [
      "enter the number of the list5\n",
      "enter a number: 12\n",
      "enter a number: 13\n",
      "enter a number: 4\n",
      "enter a number: 55\n",
      "enter a number: 30\n",
      "[12, 13, 4, 55, 30]\n"
     ]
    }
   ],
   "source": [
    "l=[]\n",
    "x=int(input('enter the size of the list'))\n",
    "for i in range(x):\n",
    "    y=int(input('enter a number: '))\n",
    "    l.append(y)\n",
    "print(l)"
   ]
  },
  {
   "cell_type": "code",
   "execution_count": null,
   "id": "9d5357d6",
   "metadata": {},
   "outputs": [],
   "source": []
  }
 ],
 "metadata": {
  "kernelspec": {
   "display_name": "Python 3 (ipykernel)",
   "language": "python",
   "name": "python3"
  },
  "language_info": {
   "codemirror_mode": {
    "name": "ipython",
    "version": 3
   },
   "file_extension": ".py",
   "mimetype": "text/x-python",
   "name": "python",
   "nbconvert_exporter": "python",
   "pygments_lexer": "ipython3",
   "version": "3.10.9"
  }
 },
 "nbformat": 4,
 "nbformat_minor": 5
}
