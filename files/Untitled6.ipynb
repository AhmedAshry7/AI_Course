{
 "cells": [
  {
   "cell_type": "code",
   "execution_count": 2,
   "id": "ef849e98",
   "metadata": {},
   "outputs": [
    {
     "name": "stdout",
     "output_type": "stream",
     "text": [
      "[  0  10  20  30  40  50  60  70  80  90 100]\n",
      "11\n"
     ]
    }
   ],
   "source": [
    "import numpy as np\n",
    "arr=np.arange(0,101,10)\n",
    "print(arr)\n",
    "print(arr.size)"
   ]
  },
  {
   "cell_type": "code",
   "execution_count": 3,
   "id": "7cb39216",
   "metadata": {},
   "outputs": [
    {
     "name": "stdout",
     "output_type": "stream",
     "text": [
      "[1 2 3]\n",
      "<class 'numpy.ndarray'>\n"
     ]
    }
   ],
   "source": [
    "l=[1,2,3]\n",
    "arr=np.array(l)\n",
    "print(arr)\n",
    "print(type(arr))"
   ]
  },
  {
   "cell_type": "code",
   "execution_count": 6,
   "id": "6ea93ce4",
   "metadata": {},
   "outputs": [
    {
     "name": "stdout",
     "output_type": "stream",
     "text": [
      "[0.         3.33333333 6.66666667]\n",
      "3.3333333333333335\n"
     ]
    }
   ],
   "source": [
    "arr,stp=np.linspace(0,10,3,endpoint=False,retstep=True)\n",
    "print(arr)\n",
    "print(stp)"
   ]
  },
  {
   "cell_type": "code",
   "execution_count": 9,
   "id": "15589115",
   "metadata": {},
   "outputs": [
    {
     "name": "stdout",
     "output_type": "stream",
     "text": [
      "[ 0 10 20 30 40 50 60 70 80 90]\n",
      "[[ 0 10 20 30 40]\n",
      " [50 60 70 80 90]]\n"
     ]
    }
   ],
   "source": [
    "arr=np.array(range(0,100,10))\n",
    "print(arr)\n",
    "arr=arr.reshape(2,5)\n",
    "print(arr)"
   ]
  },
  {
   "cell_type": "code",
   "execution_count": 13,
   "id": "d1b1a32f",
   "metadata": {},
   "outputs": [
    {
     "ename": "AttributeError",
     "evalue": "'numpy.ndarray' object has no attribute 'apennd'",
     "output_type": "error",
     "traceback": [
      "\u001b[1;31m---------------------------------------------------------------------------\u001b[0m",
      "\u001b[1;31mAttributeError\u001b[0m                            Traceback (most recent call last)",
      "Cell \u001b[1;32mIn[13], line 2\u001b[0m\n\u001b[0;32m      1\u001b[0m arr\u001b[38;5;241m=\u001b[39mnp\u001b[38;5;241m.\u001b[39marray((\u001b[38;5;241m10\u001b[39m,\u001b[38;5;241m20\u001b[39m,\u001b[38;5;241m14\u001b[39m))\n\u001b[1;32m----> 2\u001b[0m \u001b[43marr\u001b[49m\u001b[38;5;241;43m.\u001b[39;49m\u001b[43mapennd\u001b[49m(\u001b[38;5;241m15\u001b[39m)\n\u001b[0;32m      3\u001b[0m \u001b[38;5;28mprint\u001b[39m(arr)\n",
      "\u001b[1;31mAttributeError\u001b[0m: 'numpy.ndarray' object has no attribute 'apennd'"
     ]
    }
   ],
   "source": [
    "arr=np.array((10,20,14))\n",
    "arr.apennd(15)\n",
    "print(arr)"
   ]
  },
  {
   "cell_type": "code",
   "execution_count": 22,
   "id": "aab2f269",
   "metadata": {},
   "outputs": [
    {
     "name": "stdout",
     "output_type": "stream",
     "text": [
      "[ 0  1  2  3  4  5  6  7  8  9 10 11 12 13 14 15 16 17 18 19 20 21 22 23\n",
      " 24 25 26 27 28 29 30 31 32 33 34 35 36 37 38 39 40 41 42 43 44 45 46 47\n",
      " 48 49 50 51 52 53 54 55 56 57 58 59 60 61 62 63]\n",
      "[[1 0 1 0 1 0 1 1]\n",
      " [0 1 0 1 0 1 1 0]\n",
      " [1 0 1 0 1 1 0 1]\n",
      " [0 1 0 1 1 0 1 0]\n",
      " [1 0 1 1 0 1 0 1]\n",
      " [0 1 1 0 1 0 1 0]\n",
      " [1 1 0 1 0 1 0 1]\n",
      " [1 0 1 0 1 0 1 1]]\n"
     ]
    }
   ],
   "source": [
    "arr=np.arange(0,64)\n",
    "print(arr)\n",
    "count=0\n",
    "z=0\n",
    "for i in arr:\n",
    "    if z%2==0:\n",
    "        arr[count]=1\n",
    "    else:\n",
    "        arr[count]=0\n",
    "    count+=1\n",
    "    z+=1\n",
    "    if z==8:\n",
    "        z=1\n",
    "    if z==7:\n",
    "        z=0\n",
    "arr=arr.reshape(8,8)\n",
    "print(arr)"
   ]
  },
  {
   "cell_type": "code",
   "execution_count": null,
   "id": "c1cff422",
   "metadata": {},
   "outputs": [],
   "source": []
  }
 ],
 "metadata": {
  "kernelspec": {
   "display_name": "Python 3 (ipykernel)",
   "language": "python",
   "name": "python3"
  },
  "language_info": {
   "codemirror_mode": {
    "name": "ipython",
    "version": 3
   },
   "file_extension": ".py",
   "mimetype": "text/x-python",
   "name": "python",
   "nbconvert_exporter": "python",
   "pygments_lexer": "ipython3",
   "version": "3.10.9"
  }
 },
 "nbformat": 4,
 "nbformat_minor": 5
}
