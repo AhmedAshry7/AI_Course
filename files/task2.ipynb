{
 "cells": [
  {
   "cell_type": "code",
   "execution_count": 3,
   "id": "b1c53850",
   "metadata": {},
   "outputs": [
    {
     "name": "stdout",
     "output_type": "stream",
     "text": [
      "programmer\n",
      "hello, programmer\n"
     ]
    }
   ],
   "source": [
    "msg=input('')\n",
    "print('hello, '+msg)"
   ]
  },
  {
   "cell_type": "code",
   "execution_count": 4,
   "id": "d4f3d350",
   "metadata": {},
   "outputs": [
    {
     "name": "stdout",
     "output_type": "stream",
     "text": [
      "3 12345678912345 a 334.23 14049.30493\n",
      "['3', ' ', '1', '2', '3', '4', '5', '6', '7', '8', '9', '1', '2', '3', '4', '5', ' ', 'a', ' ', '3', '3', '4', '.', '2', '3', ' ', '1', '4', '0', '4', '9', '.', '3', '0', '4', '9', '3']\n"
     ]
    }
   ],
   "source": [
    "l=list(input())\n",
    "print(l)"
   ]
  },
  {
   "cell_type": "code",
   "execution_count": 6,
   "id": "90a4627f",
   "metadata": {},
   "outputs": [
    {
     "name": "stdout",
     "output_type": "stream",
     "text": [
      "5\n",
      "10\n",
      "5 + 10 = 15\n",
      "5 * 10 = 50\n",
      "5 - 10 = -5\n"
     ]
    }
   ],
   "source": [
    "a=int(input())\n",
    "b=int(input())\n",
    "print(a,'+',b,'=',a+b)\n",
    "print(a,'*',b,'=',a*b)\n",
    "print(a,'-',b,'=',a-b)"
   ]
  },
  {
   "cell_type": "code",
   "execution_count": 17,
   "id": "4bd74154",
   "metadata": {},
   "outputs": [
    {
     "name": "stdout",
     "output_type": "stream",
     "text": [
      "1 2 3 4\n",
      " \n",
      "-10\n"
     ]
    }
   ],
   "source": [
    "l1=list(input())\n",
    "print(l[1])\n",
    "print(int(l[0])*int(l[2])-int(l[4])*int(l[6]))"
   ]
  },
  {
   "cell_type": "code",
   "execution_count": 18,
   "id": "81b3036f",
   "metadata": {},
   "outputs": [
    {
     "name": "stdout",
     "output_type": "stream",
     "text": [
      "2\n",
      "12.566370614359172\n"
     ]
    }
   ],
   "source": [
    "import numpy as np\n",
    "a=int(input())\n",
    "print(np.pi*(a**2))"
   ]
  },
  {
   "cell_type": "code",
   "execution_count": 19,
   "id": "25f476f8",
   "metadata": {},
   "outputs": [
    {
     "name": "stdout",
     "output_type": "stream",
     "text": [
      "12\n",
      "13\n",
      "5\n"
     ]
    }
   ],
   "source": [
    "a=int(input())\n",
    "b=int(input())\n",
    "c=a%10\n",
    "d=b%10\n",
    "print(c+d)"
   ]
  },
  {
   "cell_type": "code",
   "execution_count": 23,
   "id": "1240a8f8",
   "metadata": {},
   "outputs": [
    {
     "name": "stdout",
     "output_type": "stream",
     "text": [
      "10\n",
      "55\n"
     ]
    }
   ],
   "source": [
    "s=0\n",
    "a=int(input())\n",
    "for i in range(a+1):\n",
    "    s=s+i\n",
    "print(s)"
   ]
  },
  {
   "cell_type": "code",
   "execution_count": 34,
   "id": "be4d0e5a",
   "metadata": {},
   "outputs": [
    {
     "name": "stdout",
     "output_type": "stream",
     "text": [
      "11\n",
      "4\n",
      "floor 11 / 4 = 2.0\n",
      "ceil 11 / 4 = 3.0\n",
      "round 11 / 4 = 3.0\n"
     ]
    }
   ],
   "source": [
    "import numpy as np\n",
    "a=int(input())\n",
    "b=int(input())\n",
    "c=a/b\n",
    "print('floor',a,'/',b,'=', np.floor(c))\n",
    "print('ceil',a,'/',b,'=', np.ceil(c))\n",
    "print('round',a,'/',b,'=', np.round(c))"
   ]
  },
  {
   "cell_type": "code",
   "execution_count": 36,
   "id": "0cb39131",
   "metadata": {},
   "outputs": [
    {
     "name": "stdout",
     "output_type": "stream",
     "text": [
      "5\n",
      "7\n",
      "no\n"
     ]
    }
   ],
   "source": [
    "a=int(input())\n",
    "b=int(input())\n",
    "if a>=b:\n",
    "    print('yes')\n",
    "else:\n",
    "    print('no')"
   ]
  },
  {
   "cell_type": "code",
   "execution_count": 40,
   "id": "9c95655c",
   "metadata": {},
   "outputs": [
    {
     "name": "stdout",
     "output_type": "stream",
     "text": [
      "5\n",
      "12\n",
      "no multiples\n"
     ]
    }
   ],
   "source": [
    "a=int(input())\n",
    "b=int(input())\n",
    "if a>=b:\n",
    "    if a%b==0:\n",
    "        print('multiples')\n",
    "    else:\n",
    "        print('no multiples')\n",
    "elif b%a==0:\n",
    "    print('multiples')\n",
    "else:\n",
    "    print('no multiples')"
   ]
  },
  {
   "cell_type": "code",
   "execution_count": 50,
   "id": "ba0ceb3f",
   "metadata": {},
   "outputs": [
    {
     "name": "stdout",
     "output_type": "stream",
     "text": [
      "1\n",
      "2\n",
      "3\n",
      "1.0\n",
      "3.0\n"
     ]
    }
   ],
   "source": [
    "import numpy as np \n",
    "a=np.array([])\n",
    "for i in range(3):\n",
    "    z=int(input())\n",
    "    a =np.append(a, z)\n",
    "print(np.min(a))\n",
    "print(np.max(a))"
   ]
  },
  {
   "cell_type": "code",
   "execution_count": 51,
   "id": "069532a4",
   "metadata": {},
   "outputs": [
    {
     "name": "stdout",
     "output_type": "stream",
     "text": [
      "3\n",
      "2\n",
      "5\n",
      "4\n",
      "no\n"
     ]
    }
   ],
   "source": [
    "a=int(input())\n",
    "b=int(input())\n",
    "c=int(input())\n",
    "d=int(input())\n",
    "if a**b>c**d:\n",
    "    print('yes')\n",
    "else:\n",
    "    print('no')"
   ]
  },
  {
   "cell_type": "code",
   "execution_count": 53,
   "id": "db275e7c",
   "metadata": {},
   "outputs": [
    {
     "name": "stdout",
     "output_type": "stream",
     "text": [
      "3\n",
      "9\n",
      "9\n",
      "9\n",
      "87\n"
     ]
    }
   ],
   "source": [
    "a=int(input())\n",
    "b=int(input())\n",
    "c=int(input())\n",
    "d=int(input())\n",
    "z=a*b*c*d\n",
    "print(z%100)"
   ]
  },
  {
   "cell_type": "code",
   "execution_count": 55,
   "id": "9c81e7a0",
   "metadata": {},
   "outputs": [
    {
     "name": "stdout",
     "output_type": "stream",
     "text": [
      "1\n",
      "15\n",
      "5\n",
      "27\n",
      "5 15\n"
     ]
    }
   ],
   "source": [
    "a=int(input())\n",
    "b=int(input())\n",
    "c=int(input())\n",
    "d=int(input())\n",
    "if b>c:\n",
    "    print(c,b)\n",
    "else:\n",
    "    print(-1)"
   ]
  },
  {
   "cell_type": "code",
   "execution_count": null,
   "id": "3ac8ae1c",
   "metadata": {},
   "outputs": [],
   "source": []
  }
 ],
 "metadata": {
  "kernelspec": {
   "display_name": "Python 3 (ipykernel)",
   "language": "python",
   "name": "python3"
  },
  "language_info": {
   "codemirror_mode": {
    "name": "ipython",
    "version": 3
   },
   "file_extension": ".py",
   "mimetype": "text/x-python",
   "name": "python",
   "nbconvert_exporter": "python",
   "pygments_lexer": "ipython3",
   "version": "3.10.9"
  }
 },
 "nbformat": 4,
 "nbformat_minor": 5
}
