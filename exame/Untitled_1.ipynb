{
 "cells": [
  {
   "cell_type": "markdown",
   "id": "f3963300",
   "metadata": {},
   "source": [
    " 1-Create an array of 10 fives"
   ]
  },
  {
   "cell_type": "code",
   "execution_count": 143,
   "id": "206ecc2c",
   "metadata": {},
   "outputs": [
    {
     "name": "stdout",
     "output_type": "stream",
     "text": [
      "[5. 5. 5. 5. 5. 5. 5. 5. 5. 5.]\n"
     ]
    }
   ],
   "source": [
    "import numpy as np\n",
    "arr=(np.ones(10)*5)\n",
    "print(arr)"
   ]
  },
  {
   "cell_type": "markdown",
   "id": "31ebaef3",
   "metadata": {},
   "source": [
    "2-Create an array of all the even integers from 10 to 50"
   ]
  },
  {
   "cell_type": "code",
   "execution_count": 4,
   "id": "7b2562be",
   "metadata": {},
   "outputs": [
    {
     "data": {
      "text/plain": [
       "array([10, 12, 14, 16, 18, 20, 22, 24, 26, 28, 30, 32, 34, 36, 38, 40, 42,\n",
       "       44, 46, 48])"
      ]
     },
     "execution_count": 4,
     "metadata": {},
     "output_type": "execute_result"
    }
   ],
   "source": [
    "arr2=np.arange(10,50,2)\n",
    "arr2"
   ]
  },
  {
   "cell_type": "markdown",
   "id": "b88ed68d",
   "metadata": {},
   "source": [
    "3-Create a 3x3 matrix with values ranging from 0 to 8"
   ]
  },
  {
   "cell_type": "markdown",
   "id": "b8a3c8f3",
   "metadata": {},
   "source": [
    "#"
   ]
  },
  {
   "cell_type": "code",
   "execution_count": 8,
   "id": "a56329ab",
   "metadata": {},
   "outputs": [
    {
     "name": "stdout",
     "output_type": "stream",
     "text": [
      "[[0. 1. 2.]\n",
      " [3. 4. 5.]\n",
      " [6. 7. 8.]]\n"
     ]
    }
   ],
   "source": [
    "arr3=np.linspace(0,8,9).reshape(3,3)\n",
    "print(arr3)"
   ]
  },
  {
   "cell_type": "markdown",
   "id": "a52f6669",
   "metadata": {},
   "source": [
    "4-Create the following matrix:\n",
    "\n",
    "array([[0.01, 0.02, 0.03, 0.04, 0.05, 0.06, 0.07, 0.08, 0.09, 0.1 ],\n",
    "       [0.11, 0.12, 0.13, 0.14, 0.15, 0.16, 0.17, 0.18, 0.19, 0.2 ],\n",
    "       [0.21, 0.22, 0.23, 0.24, 0.25, 0.26, 0.27, 0.28, 0.29, 0.3 ],\n",
    "       [0.31, 0.32, 0.33, 0.34, 0.35, 0.36, 0.37, 0.38, 0.39, 0.4 ],\n",
    "       [0.41, 0.42, 0.43, 0.44, 0.45, 0.46, 0.47, 0.48, 0.49, 0.5 ],\n",
    "       [0.51, 0.52, 0.53, 0.54, 0.55, 0.56, 0.57, 0.58, 0.59, 0.6 ],\n",
    "       [0.61, 0.62, 0.63, 0.64, 0.65, 0.66, 0.67, 0.68, 0.69, 0.7 ],\n",
    "       [0.71, 0.72, 0.73, 0.74, 0.75, 0.76, 0.77, 0.78, 0.79, 0.8 ],\n",
    "       [0.81, 0.82, 0.83, 0.84, 0.85, 0.86, 0.87, 0.88, 0.89, 0.9 ],\n",
    "       [0.91, 0.92, 0.93, 0.94, 0.95, 0.96, 0.97, 0.98, 0.99, 1.  ]])"
   ]
  },
  {
   "cell_type": "raw",
   "id": "0736813b",
   "metadata": {},
   "source": []
  },
  {
   "cell_type": "code",
   "execution_count": 14,
   "id": "cb99da0a",
   "metadata": {},
   "outputs": [
    {
     "name": "stdout",
     "output_type": "stream",
     "text": [
      "[[0.01 0.02 0.03 0.04 0.05 0.06 0.07 0.08 0.09 0.1 ]\n",
      " [0.11 0.12 0.13 0.14 0.15 0.16 0.17 0.18 0.19 0.2 ]\n",
      " [0.21 0.22 0.23 0.24 0.25 0.26 0.27 0.28 0.29 0.3 ]\n",
      " [0.31 0.32 0.33 0.34 0.35 0.36 0.37 0.38 0.39 0.4 ]\n",
      " [0.41 0.42 0.43 0.44 0.45 0.46 0.47 0.48 0.49 0.5 ]\n",
      " [0.51 0.52 0.53 0.54 0.55 0.56 0.57 0.58 0.59 0.6 ]\n",
      " [0.61 0.62 0.63 0.64 0.65 0.66 0.67 0.68 0.69 0.7 ]\n",
      " [0.71 0.72 0.73 0.74 0.75 0.76 0.77 0.78 0.79 0.8 ]\n",
      " [0.81 0.82 0.83 0.84 0.85 0.86 0.87 0.88 0.89 0.9 ]\n",
      " [0.91 0.92 0.93 0.94 0.95 0.96 0.97 0.98 0.99 1.  ]]\n"
     ]
    }
   ],
   "source": [
    "arr4=np.linspace(0.01,1,100).reshape(10,10)\n",
    "print(arr4)"
   ]
  },
  {
   "cell_type": "markdown",
   "id": "877b4c4b",
   "metadata": {},
   "source": [
    "5-So Provided that we have a set of data. How can we find the median? (implement median function)\n",
    "x = [6, 3, 8, 1, 7, 9, 3] , x = [6, 3, 2, 8, 9, 1, 5, 4]"
   ]
  },
  {
   "cell_type": "code",
   "execution_count": 17,
   "id": "fc943451",
   "metadata": {},
   "outputs": [
    {
     "name": "stdout",
     "output_type": "stream",
     "text": [
      "6.0\n",
      "4.5\n"
     ]
    }
   ],
   "source": [
    "# first we will sort them then we will remove one from each side until there is one left this will be the median and if there is two left we will add them and divide them by 2\n",
    "# for the first x after sorting(1,3,3,6,7,8,9) then after crossing left and right the median is 6\n",
    "l1=(1,3,3,6,7,8,9)\n",
    "print(np.median(l1))\n",
    "# for the second x after sorting(1,2,3,4,5,6,8,9) then after crossing left and right 4,5 is left and the median is their average is 4.5 \n",
    "l2=(1,2,3,4,5,6,8,9)\n",
    "print(np.median(l2))"
   ]
  },
  {
   "cell_type": "markdown",
   "id": "a9157bf2",
   "metadata": {},
   "source": [
    "6-What is AI?"
   ]
  },
  {
   "cell_type": "code",
   "execution_count": null,
   "id": "ba89785d",
   "metadata": {},
   "outputs": [],
   "source": [
    "# artifcial intellegence it is human_like intellegnce that can nearly think as humans, but without emotions"
   ]
  },
  {
   "cell_type": "markdown",
   "id": "49acdce7",
   "metadata": {},
   "source": [
    "7-Why AI is used ?"
   ]
  },
  {
   "cell_type": "code",
   "execution_count": null,
   "id": "e346f159",
   "metadata": {},
   "outputs": [],
   "source": [
    "# it is used as it is faster then humans, more consistent, less human error, no decisions made based on feelings, saves money paid for people"
   ]
  },
  {
   "cell_type": "markdown",
   "id": "37e78b72",
   "metadata": {},
   "source": [
    "8-When to use AI ?"
   ]
  },
  {
   "cell_type": "code",
   "execution_count": null,
   "id": "fa83d17c",
   "metadata": {},
   "outputs": [],
   "source": [
    "# it is used when there is enough data and there is a pattern in the process or somthing that happens over and over again so no need for humans to do it AI can replace them"
   ]
  },
  {
   "cell_type": "markdown",
   "id": "1cdb5994",
   "metadata": {},
   "source": [
    "9-What is  AI pipeline?"
   ]
  },
  {
   "cell_type": "code",
   "execution_count": null,
   "id": "22e15b4d",
   "metadata": {},
   "outputs": [],
   "source": [
    "#data collecting, feature engineering, model selection, train, test"
   ]
  },
  {
   "cell_type": "markdown",
   "id": "1515a112",
   "metadata": {},
   "source": [
    "10-AI is ....% Data Operations , and ..... Model Creation "
   ]
  },
  {
   "cell_type": "code",
   "execution_count": null,
   "id": "911b2a27",
   "metadata": {},
   "outputs": [],
   "source": [
    "# 80% data operations\n",
    "# 20% model creation"
   ]
  },
  {
   "cell_type": "markdown",
   "id": "34f91e24",
   "metadata": {},
   "source": [
    "11-how to convert data that not normal distribution to normal distribution?"
   ]
  },
  {
   "cell_type": "code",
   "execution_count": null,
   "id": "7584fb23",
   "metadata": {},
   "outputs": [],
   "source": [
    "# get samples of the data and get their means then get their mean"
   ]
  },
  {
   "cell_type": "markdown",
   "id": "cca74e1e",
   "metadata": {},
   "source": [
    "11-What is Feature Engineering? "
   ]
  },
  {
   "cell_type": "code",
   "execution_count": null,
   "id": "e125f98e",
   "metadata": {},
   "outputs": [],
   "source": [
    "# he is the engineer that removes tha unuseful data from the data to make it ready to enter to the model"
   ]
  },
  {
   "cell_type": "markdown",
   "id": "fa78aa84",
   "metadata": {},
   "source": [
    "12-How to avoid bad Sampling"
   ]
  },
  {
   "cell_type": "code",
   "execution_count": null,
   "id": "a387c471",
   "metadata": {},
   "outputs": [],
   "source": [
    "# remove outliers and don't take bias data"
   ]
  },
  {
   "cell_type": "markdown",
   "id": "74237b97",
   "metadata": {},
   "source": [
    "13-Why do we do Sampling?"
   ]
  },
  {
   "cell_type": "code",
   "execution_count": null,
   "id": "39aaa61f",
   "metadata": {},
   "outputs": [],
   "source": [
    "# as it is hard to get all the data as it may be too large to work on it at the same time due to not enough storage or not enough ram or it could be costy and time consuming to work on the whole data  "
   ]
  },
  {
   "cell_type": "code",
   "execution_count": null,
   "id": "0f2ef1fd",
   "metadata": {},
   "outputs": [],
   "source": []
  },
  {
   "cell_type": "markdown",
   "id": "33d6d575",
   "metadata": {},
   "source": [
    "14-What is a programming language?"
   ]
  },
  {
   "cell_type": "code",
   "execution_count": null,
   "id": "d4d8c64c",
   "metadata": {},
   "outputs": [],
   "source": [
    "# it is a language that the programmers write in so that the computer can understand what they want and there is high level language that is near the english language that we speak and there is low level language that is near to computers and faster to compile as assembly "
   ]
  },
  {
   "cell_type": "markdown",
   "id": "6e612de0",
   "metadata": {},
   "source": [
    "15-Create a random vector of size 30 and find the mean value"
   ]
  },
  {
   "cell_type": "raw",
   "id": "18a3f1b4",
   "metadata": {},
   "source": []
  },
  {
   "cell_type": "code",
   "execution_count": 21,
   "id": "d1f40015",
   "metadata": {},
   "outputs": [
    {
     "name": "stdout",
     "output_type": "stream",
     "text": [
      "[0.79335387 0.90709749 0.72355737 0.86265447 0.64763105 0.10248231\n",
      " 0.81039685 0.32185662 0.29179238 0.7558597  0.04072109 0.89222121\n",
      " 0.11051055 0.29353642 0.08092421 0.51756835 0.90268376 0.15435381\n",
      " 0.54238028 0.30574253 0.72583516 0.63225657 0.52229349 0.65230306\n",
      " 0.75921158 0.45424179 0.42574798 0.01278768 0.62349122 0.82021769]\n",
      "0.5228570179122585\n"
     ]
    }
   ],
   "source": [
    "arr15=np.random.rand(30)\n",
    "print(arr15)\n",
    "print(arr15.mean())"
   ]
  },
  {
   "cell_type": "markdown",
   "id": "6502d14b",
   "metadata": {},
   "source": [
    "16-Create a 10x10 array with random values and find the minimum and maximum values"
   ]
  },
  {
   "cell_type": "code",
   "execution_count": 24,
   "id": "d533fe4e",
   "metadata": {},
   "outputs": [
    {
     "name": "stdout",
     "output_type": "stream",
     "text": [
      "[[0.46396851 0.13829113 0.91980175 0.51933185 0.57097452 0.72199759\n",
      "  0.6738824  0.81181003 0.87886448 0.54739636]\n",
      " [0.94810368 0.14992626 0.87495114 0.29166172 0.9483205  0.40723529\n",
      "  0.7304923  0.22978869 0.39639106 0.99526919]\n",
      " [0.43494105 0.15220921 0.95884613 0.05748467 0.44374837 0.18327002\n",
      "  0.92295889 0.52095901 0.05500838 0.77282956]\n",
      " [0.6450588  0.97781236 0.17704328 0.79267244 0.39455973 0.21953939\n",
      "  0.22314007 0.9231466  0.82280505 0.72095892]\n",
      " [0.09793438 0.94658334 0.37191746 0.08814018 0.21093213 0.76040869\n",
      "  0.56288456 0.6787552  0.04157885 0.60559136]\n",
      " [0.69657956 0.77035537 0.19595607 0.79119588 0.11508053 0.25832508\n",
      "  0.8176668  0.75956898 0.36125326 0.36465729]\n",
      " [0.48165291 0.27935152 0.55423733 0.63405753 0.68563802 0.110756\n",
      "  0.69279418 0.1547348  0.4288648  0.30546336]\n",
      " [0.70457925 0.05127024 0.35625614 0.54327966 0.83541795 0.75535455\n",
      "  0.47010979 0.46803145 0.49333518 0.67618061]\n",
      " [0.05589958 0.25847561 0.32650664 0.67837403 0.67060626 0.60180359\n",
      "  0.07706032 0.39053584 0.90826401 0.87694386]\n",
      " [0.55004781 0.62879636 0.0757818  0.77192723 0.04165803 0.08302601\n",
      "  0.55123966 0.95106283 0.29482673 0.67795097]]\n",
      "0.995269192692946\n",
      "0.041578851736646216\n"
     ]
    }
   ],
   "source": [
    "arr16=np.random.rand(100).reshape(10,10)\n",
    "print(arr16)\n",
    "print(arr16.max())\n",
    "print(arr16.min())"
   ]
  },
  {
   "cell_type": "markdown",
   "id": "a14c2a93",
   "metadata": {},
   "source": [
    "17- Write a NumPy program to create a 2D array with 1 on the border and 0 inside"
   ]
  },
  {
   "cell_type": "markdown",
   "id": "d6980c08",
   "metadata": {},
   "source": [
    "# "
   ]
  },
  {
   "cell_type": "code",
   "execution_count": 28,
   "id": "568ff299",
   "metadata": {},
   "outputs": [
    {
     "data": {
      "text/plain": [
       "array([[1., 1.],\n",
       "       [1., 1.]])"
      ]
     },
     "execution_count": 28,
     "metadata": {},
     "output_type": "execute_result"
    }
   ],
   "source": [
    "arr17=np.ones(4).reshape(2,2)\n",
    "arr17"
   ]
  },
  {
   "cell_type": "markdown",
   "id": "6acb9578",
   "metadata": {},
   "source": [
    "18-Create a 8x8 matrix and fill it with a checkerboard pattern"
   ]
  },
  {
   "cell_type": "markdown",
   "id": "6d37ec8b",
   "metadata": {},
   "source": [
    "# "
   ]
  },
  {
   "cell_type": "code",
   "execution_count": 30,
   "id": "2feb83bb",
   "metadata": {},
   "outputs": [
    {
     "data": {
      "text/plain": [
       "array([[1, 0, 1, 0, 1, 0, 1, 0],\n",
       "       [0, 1, 0, 1, 0, 1, 0, 1],\n",
       "       [1, 0, 1, 0, 1, 0, 1, 0],\n",
       "       [0, 1, 0, 1, 0, 1, 0, 1],\n",
       "       [1, 0, 1, 0, 1, 0, 1, 0],\n",
       "       [0, 1, 0, 1, 0, 1, 0, 1],\n",
       "       [1, 0, 1, 0, 1, 0, 1, 0],\n",
       "       [0, 1, 0, 1, 0, 1, 0, 1]])"
      ]
     },
     "execution_count": 30,
     "metadata": {},
     "output_type": "execute_result"
    }
   ],
   "source": [
    "arr18=np.tile([[1,0],[0,1]],(4,4))\n",
    "arr18"
   ]
  },
  {
   "cell_type": "markdown",
   "id": "6abbeb05",
   "metadata": {},
   "source": [
    "19-generates a 5x5 NumPy array filled with random integers from 1 to 99."
   ]
  },
  {
   "cell_type": "code",
   "execution_count": 32,
   "id": "abcb3b28",
   "metadata": {},
   "outputs": [
    {
     "data": {
      "text/plain": [
       "array([[47, 70, 68, 82, 31],\n",
       "       [ 9, 60, 85, 26, 36],\n",
       "       [58, 36, 42, 42, 57],\n",
       "       [14, 85, 83, 47, 83],\n",
       "       [57, 29, 43, 80, 29]])"
      ]
     },
     "execution_count": 32,
     "metadata": {},
     "output_type": "execute_result"
    }
   ],
   "source": [
    "arr19=np.random.randint(1,99,(5,5))\n",
    "arr19"
   ]
  },
  {
   "cell_type": "markdown",
   "id": "f54c8dde",
   "metadata": {},
   "source": [
    "20-mean,std,mim and max"
   ]
  },
  {
   "cell_type": "code",
   "execution_count": 41,
   "id": "2b09b0f9",
   "metadata": {},
   "outputs": [
    {
     "name": "stdout",
     "output_type": "stream",
     "text": [
      "51.96\n",
      "22.649467984921852\n",
      "9\n",
      "85\n"
     ]
    }
   ],
   "source": [
    "print(arr19.mean())\n",
    "print(arr19.std())\n",
    "print(arr19.min())\n",
    "print(arr19.max())"
   ]
  },
  {
   "cell_type": "markdown",
   "id": "b9dd4021",
   "metadata": {},
   "source": [
    "21-what is Types of Data"
   ]
  },
  {
   "cell_type": "code",
   "execution_count": null,
   "id": "efc2bca1",
   "metadata": {},
   "outputs": [],
   "source": [
    "# it represnts how the data is stored and how it can be dealt with as for example integers takes less storage than floats: continous and discrete"
   ]
  },
  {
   "cell_type": "markdown",
   "id": "d9aac0d2",
   "metadata": {},
   "source": [
    "22-calc the Z score x=25 ,std=5 ,mean= 20"
   ]
  },
  {
   "cell_type": "code",
   "execution_count": 33,
   "id": "999a0905",
   "metadata": {},
   "outputs": [
    {
     "name": "stdout",
     "output_type": "stream",
     "text": [
      "1.0\n"
     ]
    }
   ],
   "source": [
    "Z=(25-5)/20\n",
    "print(Z)"
   ]
  },
  {
   "cell_type": "markdown",
   "id": "dcc697a6",
   "metadata": {},
   "source": [
    "23-Create a list of theses elements : 1,3,4,16,17,20, \"Ahmed\", \"Mazen\", True"
   ]
  },
  {
   "cell_type": "code",
   "execution_count": 47,
   "id": "7af3e9ea",
   "metadata": {},
   "outputs": [
    {
     "data": {
      "text/plain": [
       "[1, 3, 4, 16, 17, 20, 'Ahmed', 'Mazen', True]"
      ]
     },
     "execution_count": 47,
     "metadata": {},
     "output_type": "execute_result"
    }
   ],
   "source": [
    "l23=[1,3,4,16,17,20,\"Ahmed\",\"Mazen\",True]\n",
    "l23"
   ]
  },
  {
   "cell_type": "markdown",
   "id": "67f3c9c6",
   "metadata": {},
   "source": [
    "24-add 7 to the list "
   ]
  },
  {
   "cell_type": "code",
   "execution_count": 48,
   "id": "1fde9b3e",
   "metadata": {},
   "outputs": [
    {
     "data": {
      "text/plain": [
       "[1, 3, 4, 16, 17, 20, 'Ahmed', 'Mazen', True, 7]"
      ]
     },
     "execution_count": 48,
     "metadata": {},
     "output_type": "execute_result"
    }
   ],
   "source": [
    "l23.append(7)\n",
    "l23"
   ]
  },
  {
   "cell_type": "markdown",
   "id": "afa177ac",
   "metadata": {},
   "source": [
    "25-remove 3 from the list "
   ]
  },
  {
   "cell_type": "code",
   "execution_count": 49,
   "id": "77d95c57",
   "metadata": {},
   "outputs": [
    {
     "data": {
      "text/plain": [
       "[1, 4, 16, 17, 20, 'Ahmed', 'Mazen', True, 7]"
      ]
     },
     "execution_count": 49,
     "metadata": {},
     "output_type": "execute_result"
    }
   ],
   "source": [
    "l23.remove(3)\n",
    "l23"
   ]
  },
  {
   "cell_type": "markdown",
   "id": "8224cd09",
   "metadata": {},
   "source": [
    "26-Count how many numbers 4 has occured"
   ]
  },
  {
   "cell_type": "code",
   "execution_count": 50,
   "id": "2c5e975a",
   "metadata": {},
   "outputs": [
    {
     "data": {
      "text/plain": [
       "1"
      ]
     },
     "execution_count": 50,
     "metadata": {},
     "output_type": "execute_result"
    }
   ],
   "source": [
    "l23.count(4)"
   ]
  },
  {
   "cell_type": "markdown",
   "id": "4e23668f",
   "metadata": {},
   "source": [
    "l23.count(4)"
   ]
  },
  {
   "cell_type": "markdown",
   "id": "fec25e4f",
   "metadata": {},
   "source": [
    "27-print only the even numbers in the list"
   ]
  },
  {
   "cell_type": "code",
   "execution_count": 60,
   "id": "6192e0b0",
   "metadata": {},
   "outputs": [
    {
     "name": "stdout",
     "output_type": "stream",
     "text": [
      "4\n",
      "16\n",
      "20\n"
     ]
    }
   ],
   "source": [
    "for i in l23:\n",
    "    if str(i).isdigit(): \n",
    "        if i%2==0:\n",
    "            print(i)"
   ]
  },
  {
   "cell_type": "markdown",
   "id": "6ac9cc55",
   "metadata": {},
   "source": [
    "28-Sum only the numeric elements in the list"
   ]
  },
  {
   "cell_type": "code",
   "execution_count": 63,
   "id": "1a6a0505",
   "metadata": {},
   "outputs": [
    {
     "name": "stdout",
     "output_type": "stream",
     "text": [
      "40\n"
     ]
    }
   ],
   "source": [
    "sum1=0\n",
    "for i in l23:\n",
    "    if str(i).isdigit(): \n",
    "        if i%2==0:\n",
    "            sum1+=i\n",
    "print(sum1)"
   ]
  },
  {
   "cell_type": "markdown",
   "id": "175870ea",
   "metadata": {},
   "source": [
    "29-When must we use Assembly?"
   ]
  },
  {
   "cell_type": "code",
   "execution_count": null,
   "id": "9be87ea5",
   "metadata": {},
   "outputs": [],
   "source": [
    "# when we need to run something fastly and on a small device with small storage and small ram "
   ]
  },
  {
   "cell_type": "markdown",
   "id": "d1b305bd",
   "metadata": {},
   "source": [
    "30-Why Companies can't move from OOP to Functional programming?"
   ]
  },
  {
   "cell_type": "code",
   "execution_count": null,
   "id": "48466a34",
   "metadata": {},
   "outputs": [],
   "source": [
    "# as OOP is more organised, more maitainable, so that teams can work on it together easily and understand eachothers work "
   ]
  },
  {
   "cell_type": "markdown",
   "id": "4cfe683d",
   "metadata": {},
   "source": [
    "31- Agile and waterfall\n"
   ]
  },
  {
   "cell_type": "code",
   "execution_count": null,
   "id": "91c430fe",
   "metadata": {},
   "outputs": [],
   "source": [
    "# Agile is that we divide the whole project into cycles and each cycle takes 2-3 weeks where each department work on their part and show it to the costumer instead of waterfall where it is npt a cycle but a flow where each deparment work after the other and shows it to the client at the end "
   ]
  },
  {
   "cell_type": "markdown",
   "id": "7d400c5a",
   "metadata": {},
   "source": [
    "32-What is Sample Size ?"
   ]
  },
  {
   "cell_type": "markdown",
   "id": "e4a0797f",
   "metadata": {},
   "source": [
    "# 30"
   ]
  },
  {
   "cell_type": "markdown",
   "id": "b901c7f3",
   "metadata": {},
   "source": [
    "33-Why do we do Sampling?"
   ]
  },
  {
   "cell_type": "markdown",
   "id": "46045636",
   "metadata": {},
   "source": [
    "34-What are the types of medical image files?"
   ]
  },
  {
   "cell_type": "code",
   "execution_count": null,
   "id": "cacf2dae",
   "metadata": {},
   "outputs": [],
   "source": [
    "#.png, .jpg"
   ]
  },
  {
   "cell_type": "markdown",
   "id": "4cf22724",
   "metadata": {},
   "source": [
    "35-what is series?"
   ]
  },
  {
   "cell_type": "code",
   "execution_count": null,
   "id": "804b8c66",
   "metadata": {},
   "outputs": [],
   "source": [
    "# it is like a numpy array where all the data are of the same type"
   ]
  },
  {
   "cell_type": "markdown",
   "id": "a1257b81",
   "metadata": {},
   "source": [
    "36-Create pandas dataframe as input from users\n",
    "\n",
    "name, age, id, gender, email, phone number, city,\n",
    "\n",
    "then\n",
    "\n",
    "a. group by city\n",
    "b. which city has the most students\n",
    "c. get the average of ages for each gender\n",
    "d. plot the relation between number of males to females\n",
    "e. plot the relation between age and gender"
   ]
  },
  {
   "cell_type": "code",
   "execution_count": null,
   "id": "2868e4f4",
   "metadata": {},
   "outputs": [],
   "source": []
  },
  {
   "cell_type": "markdown",
   "id": "6489def8",
   "metadata": {},
   "source": []
  },
  {
   "cell_type": "code",
   "execution_count": 67,
   "id": "e9788b08",
   "metadata": {},
   "outputs": [
    {
     "name": "stdout",
     "output_type": "stream",
     "text": [
      "enter the number of people: 3\n",
      "enter the name: ahmed\n",
      "enter the age: 20\n",
      "enter the id: 111\n",
      "enter the gender: M\n",
      "enter the email: ah.g\n",
      "enter the phone: 0100\n",
      "enter the city: cairo\n",
      "enter the name: mahmoud\n",
      "enter the age: 15\n",
      "enter the id: 222\n",
      "enter the gender: M\n",
      "enter the email: mh.g\n",
      "enter the phone: 020\n",
      "enter the city: giza\n",
      "enter the name: nour\n",
      "enter the age: 19\n",
      "enter the id: 333\n",
      "enter the gender: F\n",
      "enter the email: nr.g\n",
      "enter the phone: 030\n",
      "enter the city: cairo\n"
     ]
    }
   ],
   "source": [
    "import pandas as pd\n",
    "name=[]\n",
    "age=[]\n",
    "id1=[]\n",
    "gender=[]\n",
    "email=[]\n",
    "phone=[]\n",
    "city=[]\n",
    "n=int(input('enter the number of people: '))\n",
    "for i in range(n):\n",
    "    cn=input('enter the name: ')\n",
    "    ca=int(input('enter the age: '))\n",
    "    ci=int(input('enter the id: '))\n",
    "    cg=input('enter the gender: ')\n",
    "    ce=input('enter the email: ')\n",
    "    cp=input('enter the phone: ')\n",
    "    cc=input('enter the city: ')\n",
    "    name.append(cn)\n",
    "    age.append(ca)\n",
    "    id1.append(ci)\n",
    "    gender.append(cg)\n",
    "    email.append(ce)\n",
    "    phone.append(cp)\n",
    "    city.append(cc)"
   ]
  },
  {
   "cell_type": "code",
   "execution_count": 98,
   "id": "e417539d",
   "metadata": {},
   "outputs": [],
   "source": [
    "df=pd.DataFrame({'name':name,'age':age,'ID':id1,'gender':gender,'email':email,'phone':phone,'city':city})\n",
    "g=df.groupby('city',axis=1)"
   ]
  },
  {
   "cell_type": "code",
   "execution_count": 95,
   "id": "56ce08df",
   "metadata": {},
   "outputs": [
    {
     "data": {
      "text/plain": [
       "cairo    2\n",
       "giza     1\n",
       "Name: city, dtype: int64"
      ]
     },
     "execution_count": 95,
     "metadata": {},
     "output_type": "execute_result"
    }
   ],
   "source": [
    "df.city.value_counts()"
   ]
  },
  {
   "cell_type": "code",
   "execution_count": 118,
   "id": "d67308c2",
   "metadata": {
    "scrolled": true
   },
   "outputs": [
    {
     "name": "stdout",
     "output_type": "stream",
     "text": [
      "17.5\n",
      "19.0\n"
     ]
    }
   ],
   "source": [
    "avgm=df['age'][df['gender']=='M'].mean()\n",
    "avgf=df['age'][df['gender']=='F'].mean()\n",
    "print(avgm)\n",
    "print(avgf)"
   ]
  },
  {
   "cell_type": "code",
   "execution_count": 111,
   "id": "5720856a",
   "metadata": {},
   "outputs": [],
   "source": [
    "import matplotlib.pyplot as plt\n",
    "%matplotlib inline"
   ]
  },
  {
   "cell_type": "code",
   "execution_count": 124,
   "id": "4236a214",
   "metadata": {
    "scrolled": true
   },
   "outputs": [
    {
     "name": "stdout",
     "output_type": "stream",
     "text": [
      "[2, 1]\n"
     ]
    },
    {
     "data": {
      "text/plain": [
       "<BarContainer object of 2 artists>"
      ]
     },
     "execution_count": 124,
     "metadata": {},
     "output_type": "execute_result"
    },
    {
     "data": {
      "image/png": "[encoded data removed]",
      "text/plain": [
       "<Figure size 640x480 with 1 Axes>"
      ]
     },
     "metadata": {},
     "output_type": "display_data"
    }
   ],
   "source": [
    "countm=0\n",
    "countf=0\n",
    "for i in df.gender:\n",
    "    if i=='M':\n",
    "        countm+=1\n",
    "    else:\n",
    "        countf+=1\n",
    "genders=['m','f']\n",
    "l90=[countm,countf]\n",
    "print(l90)\n",
    "plt.bar(genders,l90)"
   ]
  },
  {
   "cell_type": "code",
   "execution_count": 125,
   "id": "1d538172",
   "metadata": {},
   "outputs": [
    {
     "data": {
      "text/plain": [
       "[<matplotlib.lines.Line2D at 0x28aa0abdc90>]"
      ]
     },
     "execution_count": 125,
     "metadata": {},
     "output_type": "execute_result"
    },
    {
     "data": {
      "image/png": "[encoded data removed]",
      "text/plain": [
       "<Figure size 640x480 with 1 Axes>"
      ]
     },
     "metadata": {},
     "output_type": "display_data"
    }
   ],
   "source": [
    "plt.plot(df.age,df.gender)"
   ]
  },
  {
   "cell_type": "code",
   "execution_count": 135,
   "id": "d823ae1a",
   "metadata": {},
   "outputs": [],
   "source": [
    "\n",
    "# Exercises\n",
    "\n",
    "#Follow the instructions to recreate the plots using this data:\n",
    "\n",
    "## Data\n",
    "\n",
    "import numpy as np\n",
    "x = np.arange(0,100)\n",
    "y = x*2\n",
    "z = x**2\n",
    "\n",
    "import matplotlib.pyplot as plt\n",
    "%matplotlib inline"
   ]
  },
  {
   "cell_type": "markdown",
   "id": "7102b638",
   "metadata": {},
   "source": [
    "## Exercise 1\n",
    "\n",
    "** Follow along with these steps: **\n",
    "* ** Create a figure object called fig using plt.figure() **\n",
    "* ** Use add_axes to add an axis to the figure canvas at [0,0,1,1]. Call this new axis ax. **\n",
    "* ** Plot (x,y) on that axes and set the labels and titles to match the plot below:**\n"
   ]
  },
  {
   "cell_type": "code",
   "execution_count": 139,
   "id": "88234511",
   "metadata": {},
   "outputs": [
    {
     "data": {
      "text/plain": [
       "Text(0, 0.5, 'y axis')"
      ]
     },
     "execution_count": 139,
     "metadata": {},
     "output_type": "execute_result"
    },
    {
     "data": {
      "image/png": "[encoded data removed]",
      "text/plain": [
       "<Figure size 640x480 with 1 Axes>"
      ]
     },
     "metadata": {},
     "output_type": "display_data"
    }
   ],
   "source": [
    "fig=plt.figure()\n",
    "ax=fig.add_axes([0,0,1,1])\n",
    "plt.plot(x,y,label='y=2x')\n",
    "plt.legend()\n",
    "plt.title('linear straight line')\n",
    "plt.xlabel('x axis')\n",
    "plt.ylabel('y axis')"
   ]
  },
  {
   "cell_type": "markdown",
   "id": "0d9d77d1",
   "metadata": {},
   "source": [
    "## Exercise 2\n",
    "** Create a figure object and put two axes on it, ax1 and ax2. Located at [0,0,1,1] and [0.2,0.5,.2,.2] respectively.**\n"
   ]
  },
  {
   "cell_type": "code",
   "execution_count": 142,
   "id": "42f0bb10",
   "metadata": {},
   "outputs": [
    {
     "data": {
      "text/plain": [
       "<Figure size 640x480 with 0 Axes>"
      ]
     },
     "metadata": {},
     "output_type": "display_data"
    }
   ],
   "source": [
    "fig2=plt.figure()\n",
    "ax1=fig.add_axes([0,0,1,1])\n",
    "ax2=fig.add_axes([0.2,0.5,0.2,0.2])\n",
    "plt.show()"
   ]
  },
  {
   "cell_type": "code",
   "execution_count": null,
   "id": "f01b718d",
   "metadata": {},
   "outputs": [],
   "source": []
  },
  {
   "cell_type": "code",
   "execution_count": null,
   "id": "089b1f96",
   "metadata": {},
   "outputs": [],
   "source": []
  }
 ],
 "metadata": {
  "kernelspec": {
   "display_name": "Python 3 (ipykernel)",
   "language": "python",
   "name": "python3"
  },
  "language_info": {
   "codemirror_mode": {
    "name": "ipython",
    "version": 3
   },
   "file_extension": ".py",
   "mimetype": "text/x-python",
   "name": "python",
   "nbconvert_exporter": "python",
   "pygments_lexer": "ipython3",
   "version": "3.10.9"
  }
 },
 "nbformat": 4,
 "nbformat_minor": 5
}
