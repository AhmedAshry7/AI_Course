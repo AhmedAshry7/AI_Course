{
 "cells": [
  {
   "cell_type": "code",
   "execution_count": 3,
   "id": "a009be59",
   "metadata": {},
   "outputs": [
    {
     "name": "stdout",
     "output_type": "stream",
     "text": [
      "enter a number: 5\n",
      "the number is less than 10\n"
     ]
    }
   ],
   "source": [
    "n=int(input('enter a number: '))\n",
    "msg=\"the number is \"\n",
    "msg+='greater than 10 ' if n>10 else \"less than 10\"\n",
    "print(msg)"
   ]
  },
  {
   "cell_type": "code",
   "execution_count": 5,
   "id": "2b32ab16",
   "metadata": {},
   "outputs": [
    {
     "name": "stdout",
     "output_type": "stream",
     "text": [
      "enter a number: 4\n",
      "the number is even \n"
     ]
    }
   ],
   "source": [
    "n=int(input('enter a number: '))\n",
    "msg=\"the number is \"\n",
    "msg+='even ' if n%2==0 else \"odd\"\n",
    "print(msg)"
   ]
  },
  {
   "cell_type": "code",
   "execution_count": 7,
   "id": "126cd137",
   "metadata": {},
   "outputs": [
    {
     "name": "stdout",
     "output_type": "stream",
     "text": [
      "enter a number between 1 and 53\n",
      "3--Three\n"
     ]
    }
   ],
   "source": [
    "n=int(input('enter a number between 1 and 5'))\n",
    "if (n==1):\n",
    "    print('1--One')\n",
    "elif(n==2):\n",
    "    print('2--Two')\n",
    "elif(n==3):\n",
    "    print('3--Three')\n",
    "elif(n==4):\n",
    "    print('4--Four')\n",
    "elif(n==5):\n",
    "    print('5--Five')"
   ]
  },
  {
   "cell_type": "code",
   "execution_count": 9,
   "id": "febdb61a",
   "metadata": {},
   "outputs": [
    {
     "name": "stdout",
     "output_type": "stream",
     "text": [
      "enter a character: t\n",
      "the character is: constant\n"
     ]
    }
   ],
   "source": [
    "n=input('enter a character: ')\n",
    "msg='the character is: '\n",
    "msg+='vowel' if n=='a' or n=='o' or n=='i' or n=='u' or n=='e' else 'constant'\n",
    "print(msg)"
   ]
  },
  {
   "cell_type": "code",
   "execution_count": 11,
   "id": "85e66f50",
   "metadata": {},
   "outputs": [
    {
     "name": "stdout",
     "output_type": "stream",
     "text": [
      "enter a number-4\n",
      "4\n"
     ]
    }
   ],
   "source": [
    "n=int(input('enter a number'))\n",
    "n=n*-1 if n<0 else n\n",
    "print(n)"
   ]
  },
  {
   "cell_type": "code",
   "execution_count": null,
   "id": "4857af72",
   "metadata": {},
   "outputs": [],
   "source": []
  },
  {
   "cell_type": "code",
   "execution_count": null,
   "id": "2860e5e7",
   "metadata": {},
   "outputs": [],
   "source": []
  }
 ],
 "metadata": {
  "kernelspec": {
   "display_name": "Python 3 (ipykernel)",
   "language": "python",
   "name": "python3"
  },
  "language_info": {
   "codemirror_mode": {
    "name": "ipython",
    "version": 3
   },
   "file_extension": ".py",
   "mimetype": "text/x-python",
   "name": "python",
   "nbconvert_exporter": "python",
   "pygments_lexer": "ipython3",
   "version": "3.10.9"
  }
 },
 "nbformat": 4,
 "nbformat_minor": 5
}
