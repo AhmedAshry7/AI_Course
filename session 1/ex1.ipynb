{
 "cells": [
  {
   "cell_type": "code",
   "execution_count": 6,
   "id": "a717dcb3",
   "metadata": {},
   "outputs": [
    {
     "name": "stdout",
     "output_type": "stream",
     "text": [
      "enter the first number:  3\n",
      "enter the second number:  4\n",
      "The sum is:   7\n",
      "3 <class 'str'>\n"
     ]
    }
   ],
   "source": [
    "x=int(input('enter the first number:  '))\n",
    "y=int(input('enter the second number:  '))\n",
    "f=str(x)\n",
    "z=x+y\n",
    "print('The sum is:  ',z)\n",
    "print(f, type(f))"
   ]
  },
  {
   "cell_type": "code",
   "execution_count": null,
   "id": "3cc3e82f",
   "metadata": {},
   "outputs": [],
   "source": []
  }
 ],
 "metadata": {
  "kernelspec": {
   "display_name": "Python 3 (ipykernel)",
   "language": "python",
   "name": "python3"
  },
  "language_info": {
   "codemirror_mode": {
    "name": "ipython",
    "version": 3
   },
   "file_extension": ".py",
   "mimetype": "text/x-python",
   "name": "python",
   "nbconvert_exporter": "python",
   "pygments_lexer": "ipython3",
   "version": "3.10.9"
  }
 },
 "nbformat": 4,
 "nbformat_minor": 5
}
