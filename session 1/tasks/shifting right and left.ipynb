{
 "cells": [
  {
   "cell_type": "code",
   "execution_count": 6,
   "id": "635f001e",
   "metadata": {},
   "outputs": [
    {
     "name": "stdout",
     "output_type": "stream",
     "text": [
      "13 52\n"
     ]
    }
   ],
   "source": [
    "a=13 #1101\n",
    "b=a<<2 #110100\n",
    "print (a,b)"
   ]
  },
  {
   "cell_type": "code",
   "execution_count": 5,
   "id": "e0a6de69",
   "metadata": {},
   "outputs": [
    {
     "name": "stdout",
     "output_type": "stream",
     "text": [
      "13 26\n"
     ]
    }
   ],
   "source": [
    "a=13 #1101\n",
    "b=a<<1 #11010\n",
    "print (a,b)"
   ]
  },
  {
   "cell_type": "code",
   "execution_count": 7,
   "id": "68d520c0",
   "metadata": {},
   "outputs": [
    {
     "name": "stdout",
     "output_type": "stream",
     "text": [
      "10 2\n"
     ]
    }
   ],
   "source": [
    "a=10 #1010\n",
    "b=a>>2 #0010\n",
    "print (a,b)"
   ]
  },
  {
   "cell_type": "code",
   "execution_count": null,
   "id": "67e90b65",
   "metadata": {},
   "outputs": [],
   "source": [
    "a=10 #1010\n",
    "b=a>>1 #1010\n",
    "print (a,b)"
   ]
  }
 ],
 "metadata": {
  "kernelspec": {
   "display_name": "Python 3 (ipykernel)",
   "language": "python",
   "name": "python3"
  },
  "language_info": {
   "codemirror_mode": {
    "name": "ipython",
    "version": 3
   },
   "file_extension": ".py",
   "mimetype": "text/x-python",
   "name": "python",
   "nbconvert_exporter": "python",
   "pygments_lexer": "ipython3",
   "version": "3.10.9"
  }
 },
 "nbformat": 4,
 "nbformat_minor": 5
}
