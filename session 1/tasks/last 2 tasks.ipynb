{
 "cells": [
  {
   "cell_type": "code",
   "execution_count": 4,
   "id": "be53a7c6",
   "metadata": {},
   "outputs": [
    {
     "name": "stdout",
     "output_type": "stream",
     "text": [
      "enter a year2222\n",
      "it is not a leap year\n"
     ]
    }
   ],
   "source": [
    "a=int(input('enter a year: '))\n",
    "b='it is a leap year' if (a-2020)%4==0 else 'it is not a leap year'\n",
    "print(b)"
   ]
  },
  {
   "cell_type": "code",
   "execution_count": 7,
   "id": "966a049e",
   "metadata": {},
   "outputs": [
    {
     "name": "stdout",
     "output_type": "stream",
     "text": [
      "enter the age of the first one: 33\n",
      "enter the age of the second one: 31\n",
      "enter the age of the third one: 20\n",
      "the oldest is: \n",
      "33\n",
      "the youngest is: \n",
      "20\n"
     ]
    }
   ],
   "source": [
    "a=int(input('enter the age of the first one: '))\n",
    "b=int(input('enter the age of the second one: '))\n",
    "c=int(input('enter the age of the third one: '))\n",
    "print ('the oldest is: ')\n",
    "if a>b:\n",
    "    if a>c:\n",
    "        print(a)\n",
    "    else:\n",
    "       print(c)\n",
    "elif b>c:\n",
    "    print(b)\n",
    "else:\n",
    "    print (c)\n",
    "print ('the youngest is: ')\n",
    "if a<b:\n",
    "    if a<c:\n",
    "        print(a)\n",
    "    else:\n",
    "       print(c)\n",
    "elif b<c:\n",
    "    print(b)\n",
    "else:\n",
    "    print (c)"
   ]
  },
  {
   "cell_type": "code",
   "execution_count": null,
   "id": "f6aa1d39",
   "metadata": {},
   "outputs": [],
   "source": []
  },
  {
   "cell_type": "code",
   "execution_count": null,
   "id": "784e8a19",
   "metadata": {},
   "outputs": [],
   "source": []
  }
 ],
 "metadata": {
  "kernelspec": {
   "display_name": "Python 3 (ipykernel)",
   "language": "python",
   "name": "python3"
  },
  "language_info": {
   "codemirror_mode": {
    "name": "ipython",
    "version": 3
   },
   "file_extension": ".py",
   "mimetype": "text/x-python",
   "name": "python",
   "nbconvert_exporter": "python",
   "pygments_lexer": "ipython3",
   "version": "3.10.9"
  }
 },
 "nbformat": 4,
 "nbformat_minor": 5
}
