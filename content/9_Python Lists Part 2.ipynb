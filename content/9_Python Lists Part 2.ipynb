{
 "cells": [
  {
   "cell_type": "markdown",
   "id": "59ffebb3",
   "metadata": {
    "id": "59ffebb3"
   },
   "source": [
    "# Python Lists\n",
    "\n",
    "Lists are collection of different type of elements"
   ]
  },
  {
   "cell_type": "code",
   "execution_count": null,
   "id": "76527481",
   "metadata": {
    "id": "76527481"
   },
   "outputs": [],
   "source": [
    "a = 10\n",
    "b = 20\n"
   ]
  },
  {
   "cell_type": "code",
   "execution_count": null,
   "id": "dce3580a",
   "metadata": {
    "id": "dce3580a"
   },
   "outputs": [],
   "source": [
    "a1 = 10\n",
    "a2 = 20\n",
    "a3 = 30"
   ]
  },
  {
   "cell_type": "code",
   "execution_count": null,
   "id": "8c0cf5aa",
   "metadata": {
    "id": "8c0cf5aa",
    "outputId": "ebeba960-61f0-46ec-8789-f4a0d25d1c2e"
   },
   "outputs": [
    {
     "name": "stdout",
     "output_type": "stream",
     "text": [
      "[10, 200, 30, 40]\n"
     ]
    }
   ],
   "source": [
    "l = [10, 200, 30, 40]\n",
    "print(l)"
   ]
  },
  {
   "cell_type": "code",
   "execution_count": null,
   "id": "aa04aa98",
   "metadata": {
    "id": "aa04aa98",
    "outputId": "e7607e95-6790-4e48-d638-09bf6ef39f91"
   },
   "outputs": [
    {
     "name": "stdout",
     "output_type": "stream",
     "text": [
      "['A', 100, 5, 10.5]\n"
     ]
    }
   ],
   "source": [
    "l = [\"A\", 100, 5, 10.5]\n",
    "#     0    1   2   3\n",
    "print(l)"
   ]
  },
  {
   "cell_type": "code",
   "execution_count": null,
   "id": "c158cf39",
   "metadata": {
    "id": "c158cf39",
    "outputId": "9b61a23b-4717-45e0-ea22-85c6637c4718"
   },
   "outputs": [
    {
     "name": "stdout",
     "output_type": "stream",
     "text": [
      "A\n"
     ]
    }
   ],
   "source": [
    "print(l[0])"
   ]
  },
  {
   "cell_type": "code",
   "execution_count": null,
   "id": "4172821c",
   "metadata": {
    "id": "4172821c",
    "outputId": "a07e6cd4-d108-4834-fd64-cf5742d70916"
   },
   "outputs": [
    {
     "name": "stdout",
     "output_type": "stream",
     "text": [
      "10.5\n"
     ]
    }
   ],
   "source": [
    "print(l[3])"
   ]
  },
  {
   "cell_type": "code",
   "execution_count": null,
   "id": "7c79299b",
   "metadata": {
    "id": "7c79299b",
    "outputId": "fe1a910c-a14a-4cd1-95e9-73577e1059c5"
   },
   "outputs": [
    {
     "name": "stdout",
     "output_type": "stream",
     "text": [
      "5\n"
     ]
    }
   ],
   "source": [
    "print(l[2])"
   ]
  },
  {
   "cell_type": "code",
   "execution_count": null,
   "id": "9366c675",
   "metadata": {
    "id": "9366c675",
    "outputId": "184c7871-7d9c-4bd6-b822-3911720014ef"
   },
   "outputs": [
    {
     "name": "stdout",
     "output_type": "stream",
     "text": [
      "<class 'list'>\n"
     ]
    }
   ],
   "source": [
    "print(type(l))"
   ]
  },
  {
   "cell_type": "code",
   "execution_count": null,
   "id": "8f88e2b9",
   "metadata": {
    "id": "8f88e2b9",
    "outputId": "a0a6dae6-6106-4aec-f93e-58acf1c3cc7f"
   },
   "outputs": [
    {
     "name": "stdout",
     "output_type": "stream",
     "text": [
      "<class 'str'>\n"
     ]
    }
   ],
   "source": [
    "print(type(l[0]))"
   ]
  },
  {
   "cell_type": "code",
   "execution_count": null,
   "id": "9219c129",
   "metadata": {
    "id": "9219c129",
    "outputId": "d4998677-7e50-4b7d-b859-671688e84bb7"
   },
   "outputs": [
    {
     "name": "stdout",
     "output_type": "stream",
     "text": [
      "<class 'float'>\n"
     ]
    }
   ],
   "source": [
    "print(type(l[3]))"
   ]
  },
  {
   "cell_type": "code",
   "execution_count": null,
   "id": "50c07d3b",
   "metadata": {
    "id": "50c07d3b",
    "outputId": "ffded23c-aa33-4002-aac1-90d2c6e35d03"
   },
   "outputs": [
    {
     "name": "stdout",
     "output_type": "stream",
     "text": [
      "20\n"
     ]
    }
   ],
   "source": [
    "a = 10\n",
    "a = 20\n",
    "print(a)"
   ]
  },
  {
   "cell_type": "code",
   "execution_count": null,
   "id": "264fa978",
   "metadata": {
    "id": "264fa978",
    "outputId": "5f60126d-65ef-418e-ca57-d305e74ec5f0"
   },
   "outputs": [
    {
     "name": "stdout",
     "output_type": "stream",
     "text": [
      "[10, 2, 14, 5]\n"
     ]
    }
   ],
   "source": [
    "l = [1,2,14,5]\n",
    "\n",
    "l[0] = 10\n",
    "\n",
    "print(l)"
   ]
  },
  {
   "cell_type": "code",
   "execution_count": null,
   "id": "4e89cf5f",
   "metadata": {
    "id": "4e89cf5f",
    "outputId": "068e43e7-4324-4966-b864-4bfa4ce261f6"
   },
   "outputs": [
    {
     "name": "stdout",
     "output_type": "stream",
     "text": [
      "[1, 2, 3, 55]\n"
     ]
    }
   ],
   "source": [
    "n = 55\n",
    "\n",
    "l = [1,2,3,n]\n",
    "\n",
    "print(l)"
   ]
  },
  {
   "cell_type": "code",
   "execution_count": null,
   "id": "1927458b",
   "metadata": {
    "id": "1927458b",
    "outputId": "e95e06b5-1604-4764-ebf7-8651418ea046"
   },
   "outputs": [
    {
     "ename": "IndexError",
     "evalue": "list assignment index out of range",
     "output_type": "error",
     "traceback": [
      "\u001b[1;31m---------------------------------------------------------------------------\u001b[0m",
      "\u001b[1;31mIndexError\u001b[0m                                Traceback (most recent call last)",
      "\u001b[1;32m<ipython-input-12-3004ff7f3a34>\u001b[0m in \u001b[0;36m<module>\u001b[1;34m\u001b[0m\n\u001b[0;32m      1\u001b[0m \u001b[0ml\u001b[0m \u001b[1;33m=\u001b[0m \u001b[1;33m[\u001b[0m\u001b[1;36m1\u001b[0m\u001b[1;33m,\u001b[0m\u001b[1;36m2\u001b[0m\u001b[1;33m,\u001b[0m\u001b[1;36m3\u001b[0m\u001b[1;33m,\u001b[0m\u001b[1;36m44\u001b[0m\u001b[1;33m]\u001b[0m\u001b[1;33m\u001b[0m\u001b[1;33m\u001b[0m\u001b[0m\n\u001b[0;32m      2\u001b[0m \u001b[1;33m\u001b[0m\u001b[0m\n\u001b[1;32m----> 3\u001b[1;33m \u001b[0ml\u001b[0m\u001b[1;33m[\u001b[0m\u001b[1;36m4\u001b[0m\u001b[1;33m]\u001b[0m \u001b[1;33m=\u001b[0m \u001b[1;36m88\u001b[0m\u001b[1;33m\u001b[0m\u001b[1;33m\u001b[0m\u001b[0m\n\u001b[0m\u001b[0;32m      4\u001b[0m \u001b[1;33m\u001b[0m\u001b[0m\n\u001b[0;32m      5\u001b[0m \u001b[0mprint\u001b[0m\u001b[1;33m(\u001b[0m\u001b[0ml\u001b[0m\u001b[1;33m)\u001b[0m\u001b[1;33m\u001b[0m\u001b[1;33m\u001b[0m\u001b[0m\n",
      "\u001b[1;31mIndexError\u001b[0m: list assignment index out of range"
     ]
    }
   ],
   "source": [
    "l = [1,2,3,44]\n",
    "\n",
    "l[4] = 88\n",
    "\n",
    "print(l)"
   ]
  },
  {
   "cell_type": "code",
   "execution_count": null,
   "id": "f9f78354",
   "metadata": {
    "id": "f9f78354",
    "outputId": "1d627be8-9b65-4a34-b44a-4f4c50b577e3"
   },
   "outputs": [
    {
     "name": "stdout",
     "output_type": "stream",
     "text": [
      "[]\n"
     ]
    }
   ],
   "source": [
    "l = []\n",
    "\n",
    "print(l)"
   ]
  },
  {
   "cell_type": "code",
   "execution_count": null,
   "id": "45fba0bb",
   "metadata": {
    "id": "45fba0bb",
    "outputId": "21ae26e0-2843-4356-e171-d838e4402e83"
   },
   "outputs": [
    {
     "name": "stdout",
     "output_type": "stream",
     "text": [
      "<class 'list'>\n"
     ]
    }
   ],
   "source": [
    "print(type(l))"
   ]
  },
  {
   "cell_type": "code",
   "execution_count": 1,
   "id": "ecfd4977",
   "metadata": {
    "id": "ecfd4977",
    "outputId": "a30955e5-137c-4fa9-c725-abe76e972f3b"
   },
   "outputs": [
    {
     "name": "stdout",
     "output_type": "stream",
     "text": [
      "10\n"
     ]
    }
   ],
   "source": [
    "#   -6  -5-4 -3 -2 -1\n",
    "l = [70,50,3,50,20,10]\n",
    "#    0  1  2  3 4  5\n",
    "\n",
    "print(l[-1])"
   ]
  },
  {
   "cell_type": "code",
   "execution_count": null,
   "id": "ba07bc41",
   "metadata": {
    "id": "ba07bc41",
    "outputId": "dff0621b-1bad-4c8f-cf8a-5dda12cc6d33"
   },
   "outputs": [
    {
     "name": "stdout",
     "output_type": "stream",
     "text": [
      "70\n"
     ]
    }
   ],
   "source": [
    "print(l[-6])"
   ]
  },
  {
   "cell_type": "code",
   "execution_count": null,
   "id": "a5a21178",
   "metadata": {
    "id": "a5a21178",
    "outputId": "3ead565a-c2c6-4ea3-f891-48e5fd241a93"
   },
   "outputs": [
    {
     "name": "stdout",
     "output_type": "stream",
     "text": [
      "70\n"
     ]
    }
   ],
   "source": [
    "print(l[0])"
   ]
  },
  {
   "cell_type": "markdown",
   "id": "49aaa801",
   "metadata": {
    "id": "49aaa801"
   },
   "source": [
    "# List Slicing"
   ]
  },
  {
   "cell_type": "code",
   "execution_count": null,
   "id": "f515417d",
   "metadata": {
    "id": "f515417d",
    "outputId": "2df043d9-ebbe-4dd4-941c-3cb3b926811e"
   },
   "outputs": [
    {
     "name": "stdout",
     "output_type": "stream",
     "text": [
      "[11, 4, 8, 16]\n"
     ]
    }
   ],
   "source": [
    "n = [11,4,8,16,32,64,128,100,256]\n",
    "#     0 1 2  3  4  5  6   7   8\n",
    "\n",
    "print(n[0:4])"
   ]
  },
  {
   "cell_type": "code",
   "execution_count": null,
   "id": "86de8de7",
   "metadata": {
    "id": "86de8de7",
    "outputId": "de701ed4-df38-4c22-ece1-862ad17b0ea0"
   },
   "outputs": [
    {
     "name": "stdout",
     "output_type": "stream",
     "text": [
      "[11, 4, 8, 16, 32, 64, 128, 100, 256]\n"
     ]
    }
   ],
   "source": [
    "print(n)"
   ]
  },
  {
   "cell_type": "code",
   "execution_count": null,
   "id": "1773c470",
   "metadata": {
    "id": "1773c470",
    "outputId": "171066ea-a3d3-4b48-8e78-f5655ada02fb"
   },
   "outputs": [
    {
     "name": "stdout",
     "output_type": "stream",
     "text": [
      "[16, 32, 64, 128]\n"
     ]
    }
   ],
   "source": [
    "print(n[3:7])"
   ]
  },
  {
   "cell_type": "code",
   "execution_count": null,
   "id": "fdb6a5df",
   "metadata": {
    "id": "fdb6a5df",
    "outputId": "d7ebb33c-63ff-40c9-e3bb-ede95bb71caf"
   },
   "outputs": [
    {
     "name": "stdout",
     "output_type": "stream",
     "text": [
      "[64, 128, 100, 256]\n"
     ]
    }
   ],
   "source": [
    "print(n[5:])"
   ]
  },
  {
   "cell_type": "code",
   "execution_count": null,
   "id": "db00fdb3",
   "metadata": {
    "id": "db00fdb3",
    "outputId": "15bcee44-6fac-4b28-bd18-0255db145e8f"
   },
   "outputs": [
    {
     "name": "stdout",
     "output_type": "stream",
     "text": [
      "[11, 4, 8]\n"
     ]
    }
   ],
   "source": [
    "print(n[:3])"
   ]
  },
  {
   "cell_type": "code",
   "execution_count": null,
   "id": "a5b23e32",
   "metadata": {
    "id": "a5b23e32",
    "outputId": "d8c67f16-6f6d-4b49-f9a6-a727a179d0cb"
   },
   "outputs": [
    {
     "name": "stdout",
     "output_type": "stream",
     "text": [
      "[11, 4, 8, 16, 32, 64, 128, 100, 256]\n"
     ]
    }
   ],
   "source": [
    "print(n)"
   ]
  },
  {
   "cell_type": "code",
   "execution_count": null,
   "id": "06689dcb",
   "metadata": {
    "id": "06689dcb",
    "outputId": "14736863-70b0-4005-ca34-da81e9e10c64"
   },
   "outputs": [
    {
     "name": "stdout",
     "output_type": "stream",
     "text": [
      "[11, 4]\n"
     ]
    }
   ],
   "source": [
    "print(n[0:2])"
   ]
  },
  {
   "cell_type": "code",
   "execution_count": null,
   "id": "3792226e",
   "metadata": {
    "id": "3792226e",
    "outputId": "73767fda-45b7-4067-8635-628ec56ce5e9"
   },
   "outputs": [
    {
     "name": "stdout",
     "output_type": "stream",
     "text": [
      "[11]\n"
     ]
    }
   ],
   "source": [
    "print(n[0:1])"
   ]
  },
  {
   "cell_type": "code",
   "execution_count": null,
   "id": "4c899daf",
   "metadata": {
    "id": "4c899daf",
    "outputId": "678a9f03-9952-4462-b13e-3dd7acef73c4"
   },
   "outputs": [
    {
     "name": "stdout",
     "output_type": "stream",
     "text": [
      "[11, 4, 8, 16]\n"
     ]
    }
   ],
   "source": [
    "print(n[0:4])"
   ]
  },
  {
   "cell_type": "code",
   "execution_count": null,
   "id": "a6385d78",
   "metadata": {
    "id": "a6385d78",
    "outputId": "88f08b53-12d5-4130-b544-233ae6aa93e8"
   },
   "outputs": [
    {
     "name": "stdout",
     "output_type": "stream",
     "text": [
      "[11, 4, 8, 16, 32, 64, 128, 100, 256]\n"
     ]
    }
   ],
   "source": [
    "print(n)"
   ]
  },
  {
   "cell_type": "code",
   "execution_count": null,
   "id": "13850671",
   "metadata": {
    "id": "13850671",
    "outputId": "7fec4a81-e18c-4884-d69d-2a1bf60147a0"
   },
   "outputs": [
    {
     "name": "stdout",
     "output_type": "stream",
     "text": [
      "[]\n"
     ]
    }
   ],
   "source": [
    "print(n[4:0])"
   ]
  },
  {
   "cell_type": "code",
   "execution_count": null,
   "id": "24c07a41",
   "metadata": {
    "id": "24c07a41",
    "outputId": "075c0ecc-4d24-40e5-8a3e-1cacf179576b"
   },
   "outputs": [
    {
     "name": "stdout",
     "output_type": "stream",
     "text": [
      "[64, 128, 100]\n"
     ]
    }
   ],
   "source": [
    "print(n[-4:-1])"
   ]
  },
  {
   "cell_type": "code",
   "execution_count": null,
   "id": "0d41187e",
   "metadata": {
    "id": "0d41187e",
    "outputId": "2e7819fe-e001-405b-ef49-e45a3899636b"
   },
   "outputs": [
    {
     "name": "stdout",
     "output_type": "stream",
     "text": [
      "[]\n"
     ]
    }
   ],
   "source": [
    "print(n[-1:-4])"
   ]
  },
  {
   "cell_type": "code",
   "execution_count": null,
   "id": "36065db6",
   "metadata": {
    "id": "36065db6",
    "outputId": "f4b5b8a7-aa33-45e6-83dd-528cea5ffef8"
   },
   "outputs": [
    {
     "name": "stdout",
     "output_type": "stream",
     "text": [
      "[11, 4, 8, 16, 32, 64, 128, 100, 256]\n"
     ]
    }
   ],
   "source": [
    "print(n)"
   ]
  },
  {
   "cell_type": "code",
   "execution_count": null,
   "id": "024c2e58",
   "metadata": {
    "id": "024c2e58",
    "outputId": "e9ad169f-2bd1-41fb-b077-5a1e60e4294c"
   },
   "outputs": [
    {
     "name": "stdout",
     "output_type": "stream",
     "text": [
      "[8, 16, 32, 64, 128, 100, 256]\n"
     ]
    }
   ],
   "source": [
    "print(n[-7:])"
   ]
  },
  {
   "cell_type": "code",
   "execution_count": null,
   "id": "4f57fce8",
   "metadata": {
    "id": "4f57fce8",
    "outputId": "02ce8d0b-1c8c-4357-d130-7632acf74d8d"
   },
   "outputs": [
    {
     "name": "stdout",
     "output_type": "stream",
     "text": [
      "[256]\n"
     ]
    }
   ],
   "source": [
    "print(n[-1:])"
   ]
  },
  {
   "cell_type": "code",
   "execution_count": null,
   "id": "363ddf5b",
   "metadata": {
    "id": "363ddf5b",
    "outputId": "9ca86cfe-b89c-466c-dd87-0d62a34da88f"
   },
   "outputs": [
    {
     "name": "stdout",
     "output_type": "stream",
     "text": [
      "[8, 16, 32]\n"
     ]
    }
   ],
   "source": [
    "print(n[2:-4])"
   ]
  },
  {
   "cell_type": "code",
   "execution_count": null,
   "id": "41817c06",
   "metadata": {
    "id": "41817c06",
    "outputId": "98de0f45-edd0-4edd-fd6e-6195b853001b"
   },
   "outputs": [
    {
     "name": "stdout",
     "output_type": "stream",
     "text": [
      "[11, 4, 8, 16, 32, 64, 128, 100, 256]\n"
     ]
    }
   ],
   "source": [
    "print(n)"
   ]
  },
  {
   "cell_type": "code",
   "execution_count": null,
   "id": "ef2cfd20",
   "metadata": {
    "id": "ef2cfd20",
    "outputId": "ec44e232-12dd-4b9c-8429-37e3eee5a864"
   },
   "outputs": [
    {
     "name": "stdout",
     "output_type": "stream",
     "text": [
      "[11, 4, 8, 16, 32, 64, 128, 100, 256]\n"
     ]
    }
   ],
   "source": [
    "print(n[:])"
   ]
  },
  {
   "cell_type": "code",
   "execution_count": null,
   "id": "21e20cf0",
   "metadata": {
    "id": "21e20cf0",
    "outputId": "4fa0bf60-4576-479b-b42c-6c022ab1b212"
   },
   "outputs": [
    {
     "name": "stdout",
     "output_type": "stream",
     "text": [
      "[11, 8, 32, 128, 256]\n"
     ]
    }
   ],
   "source": [
    "print(n[::2])  # steps"
   ]
  },
  {
   "cell_type": "code",
   "execution_count": null,
   "id": "6017cfed",
   "metadata": {
    "id": "6017cfed",
    "outputId": "7a448283-514f-4e42-a6e9-4999c91de57f"
   },
   "outputs": [
    {
     "name": "stdout",
     "output_type": "stream",
     "text": [
      "[11, 32, 256]\n"
     ]
    }
   ],
   "source": [
    "print(n[::4])"
   ]
  },
  {
   "cell_type": "code",
   "execution_count": null,
   "id": "c2c4c375",
   "metadata": {
    "id": "c2c4c375",
    "outputId": "9c257d74-cfd5-415f-d200-d1f5eb4ab6d3"
   },
   "outputs": [
    {
     "name": "stdout",
     "output_type": "stream",
     "text": [
      "[11, 4, 8, 16, 32, 64, 128, 100, 256]\n"
     ]
    }
   ],
   "source": [
    "print(n[::1])"
   ]
  },
  {
   "cell_type": "code",
   "execution_count": null,
   "id": "6ec74499",
   "metadata": {
    "id": "6ec74499",
    "outputId": "be7c5562-ddbf-4658-89f3-a87a3d02763b"
   },
   "outputs": [
    {
     "name": "stdout",
     "output_type": "stream",
     "text": [
      "[256, 100, 128, 64, 32, 16, 8, 4, 11]\n"
     ]
    }
   ],
   "source": [
    "print(n[::-1])"
   ]
  },
  {
   "cell_type": "code",
   "execution_count": null,
   "id": "e51e9b9f",
   "metadata": {
    "id": "e51e9b9f",
    "outputId": "681486d2-d9cc-42a8-b67d-618622e8c1df"
   },
   "outputs": [
    {
     "name": "stdout",
     "output_type": "stream",
     "text": [
      "[11, 4, 8, 16, 32, 64, 128, 100, 256]\n"
     ]
    }
   ],
   "source": [
    "print(n)"
   ]
  },
  {
   "cell_type": "code",
   "execution_count": null,
   "id": "6da355d5",
   "metadata": {
    "id": "6da355d5",
    "outputId": "8d0928eb-d26f-4afc-e925-d5595ea5089e"
   },
   "outputs": [
    {
     "name": "stdout",
     "output_type": "stream",
     "text": [
      "[11, 8, 32]\n"
     ]
    }
   ],
   "source": [
    "print(n[0:5:2])"
   ]
  },
  {
   "cell_type": "code",
   "execution_count": null,
   "id": "764a548c",
   "metadata": {
    "id": "764a548c",
    "outputId": "e7d19225-c0cd-40ed-87fc-c5f3aebccefb"
   },
   "outputs": [
    {
     "name": "stdout",
     "output_type": "stream",
     "text": [
      "[]\n"
     ]
    }
   ],
   "source": [
    "print(n[8:1:])"
   ]
  },
  {
   "cell_type": "code",
   "execution_count": null,
   "id": "00b1ed8d",
   "metadata": {
    "id": "00b1ed8d",
    "outputId": "aa081596-3c99-4ea7-8d20-d6541fd9fab0"
   },
   "outputs": [
    {
     "name": "stdout",
     "output_type": "stream",
     "text": [
      "[256, 100, 128, 64, 32, 16, 8]\n"
     ]
    }
   ],
   "source": [
    "print(n[8:1:-1])"
   ]
  },
  {
   "cell_type": "code",
   "execution_count": null,
   "id": "592fdf44",
   "metadata": {
    "id": "592fdf44",
    "outputId": "d39d2fa5-998a-48d3-aab1-83dfbcd5b2d2"
   },
   "outputs": [
    {
     "name": "stdout",
     "output_type": "stream",
     "text": [
      "[11, 4, 8, 16, 32, 64, 128, 100, 256]\n"
     ]
    }
   ],
   "source": [
    "print(n)"
   ]
  },
  {
   "cell_type": "code",
   "execution_count": null,
   "id": "7f9ca5fe",
   "metadata": {
    "id": "7f9ca5fe",
    "outputId": "8b2c1e09-5f94-4347-a1d0-d088d5d9eaf3"
   },
   "outputs": [
    {
     "name": "stdout",
     "output_type": "stream",
     "text": [
      "[256, 128, 32, 8]\n"
     ]
    }
   ],
   "source": [
    "print(n[8:1:-2])"
   ]
  },
  {
   "cell_type": "code",
   "execution_count": null,
   "id": "a52f2894",
   "metadata": {
    "id": "a52f2894",
    "outputId": "f7d93c53-44cc-49df-d205-536a501b7048"
   },
   "outputs": [
    {
     "name": "stdout",
     "output_type": "stream",
     "text": [
      "[32, 16, 8]\n"
     ]
    }
   ],
   "source": [
    "print(n[4:1:-1])"
   ]
  },
  {
   "cell_type": "code",
   "execution_count": null,
   "id": "1fc86c8f",
   "metadata": {
    "id": "1fc86c8f",
    "outputId": "ab076807-c92d-42ae-de6c-040501d2e31d"
   },
   "outputs": [
    {
     "name": "stdout",
     "output_type": "stream",
     "text": [
      "[]\n"
     ]
    }
   ],
   "source": [
    "print(n[1:4:-1])"
   ]
  },
  {
   "cell_type": "code",
   "execution_count": null,
   "id": "351fbf4b",
   "metadata": {
    "id": "351fbf4b",
    "outputId": "041f21e0-d9a9-48b9-9f07-4832207e4bdd"
   },
   "outputs": [
    {
     "ename": "ValueError",
     "evalue": "slice step cannot be zero",
     "output_type": "error",
     "traceback": [
      "\u001b[1;31m---------------------------------------------------------------------------\u001b[0m",
      "\u001b[1;31mValueError\u001b[0m                                Traceback (most recent call last)",
      "\u001b[1;32m<ipython-input-49-219e3b9d50fa>\u001b[0m in \u001b[0;36m<module>\u001b[1;34m\u001b[0m\n\u001b[1;32m----> 1\u001b[1;33m \u001b[0mprint\u001b[0m\u001b[1;33m(\u001b[0m\u001b[0mn\u001b[0m\u001b[1;33m[\u001b[0m\u001b[1;36m1\u001b[0m\u001b[1;33m:\u001b[0m\u001b[1;36m7\u001b[0m\u001b[1;33m:\u001b[0m\u001b[1;36m0\u001b[0m\u001b[1;33m]\u001b[0m\u001b[1;33m)\u001b[0m\u001b[1;33m\u001b[0m\u001b[1;33m\u001b[0m\u001b[0m\n\u001b[0m",
      "\u001b[1;31mValueError\u001b[0m: slice step cannot be zero"
     ]
    }
   ],
   "source": [
    "print(n[1:7:0])"
   ]
  },
  {
   "cell_type": "markdown",
   "id": "1485f346",
   "metadata": {
    "id": "1485f346"
   },
   "source": [
    "# List Functions"
   ]
  },
  {
   "cell_type": "code",
   "execution_count": 3,
   "id": "ae5f1987",
   "metadata": {
    "colab": {
     "base_uri": "https://localhost:8080/"
    },
    "executionInfo": {
     "elapsed": 5,
     "status": "ok",
     "timestamp": 1683616423655,
     "user": {
      "displayName": "Mohamed Mahmoud Ali",
      "userId": "09893787734904302111"
     },
     "user_tz": -180
    },
    "id": "ae5f1987",
    "outputId": "45d1db34-2271-41b0-bd39-fd692d5c9a03"
   },
   "outputs": [
    {
     "name": "stdout",
     "output_type": "stream",
     "text": [
      "4\n"
     ]
    }
   ],
   "source": [
    "l = [10,20,30,40]\n",
    "\n",
    "print(len(l))"
   ]
  },
  {
   "cell_type": "code",
   "execution_count": 4,
   "id": "de0d120c",
   "metadata": {
    "colab": {
     "base_uri": "https://localhost:8080/"
    },
    "executionInfo": {
     "elapsed": 2,
     "status": "ok",
     "timestamp": 1683616426333,
     "user": {
      "displayName": "Mohamed Mahmoud Ali",
      "userId": "09893787734904302111"
     },
     "user_tz": -180
    },
    "id": "de0d120c",
    "outputId": "c5c9b4ca-e08f-4c75-ac03-ac3ffd9ca9b7"
   },
   "outputs": [
    {
     "name": "stdout",
     "output_type": "stream",
     "text": [
      "25.0\n"
     ]
    }
   ],
   "source": [
    "print(sum(l)/len(l))"
   ]
  },
  {
   "cell_type": "code",
   "execution_count": null,
   "id": "02f71e9a",
   "metadata": {
    "id": "02f71e9a",
    "outputId": "ee85a077-6e72-4af4-aca5-2c3c459fe57c"
   },
   "outputs": [
    {
     "ename": "TypeError",
     "evalue": "unsupported operand type(s) for +: 'int' and 'str'",
     "output_type": "error",
     "traceback": [
      "\u001b[1;31m---------------------------------------------------------------------------\u001b[0m",
      "\u001b[1;31mTypeError\u001b[0m                                 Traceback (most recent call last)",
      "\u001b[1;32m<ipython-input-6-4476980c178e>\u001b[0m in \u001b[0;36m<module>\u001b[1;34m\u001b[0m\n\u001b[0;32m      1\u001b[0m \u001b[0ml\u001b[0m \u001b[1;33m=\u001b[0m \u001b[1;33m[\u001b[0m\u001b[1;36m10\u001b[0m\u001b[1;33m,\u001b[0m\u001b[1;34m\"goa\"\u001b[0m\u001b[1;33m,\u001b[0m\u001b[1;36m30\u001b[0m\u001b[1;33m,\u001b[0m\u001b[1;36m40\u001b[0m\u001b[1;33m]\u001b[0m\u001b[1;33m\u001b[0m\u001b[1;33m\u001b[0m\u001b[0m\n\u001b[0;32m      2\u001b[0m \u001b[1;33m\u001b[0m\u001b[0m\n\u001b[1;32m----> 3\u001b[1;33m \u001b[0mprint\u001b[0m\u001b[1;33m(\u001b[0m\u001b[0msum\u001b[0m\u001b[1;33m(\u001b[0m\u001b[0ml\u001b[0m\u001b[1;33m)\u001b[0m\u001b[1;33m)\u001b[0m\u001b[1;33m\u001b[0m\u001b[1;33m\u001b[0m\u001b[0m\n\u001b[0m",
      "\u001b[1;31mTypeError\u001b[0m: unsupported operand type(s) for +: 'int' and 'str'"
     ]
    }
   ],
   "source": [
    "l = [10,\"goa\",30,40]\n",
    "\n",
    "print(sum(l))"
   ]
  },
  {
   "cell_type": "code",
   "execution_count": null,
   "id": "615dc8b0",
   "metadata": {
    "id": "615dc8b0",
    "outputId": "aec744ef-5e7e-44b6-afd3-04b948d62d99"
   },
   "outputs": [
    {
     "ename": "TypeError",
     "evalue": "can only concatenate str (not \"int\") to str",
     "output_type": "error",
     "traceback": [
      "\u001b[1;31m---------------------------------------------------------------------------\u001b[0m",
      "\u001b[1;31mTypeError\u001b[0m                                 Traceback (most recent call last)",
      "\u001b[1;32m<ipython-input-7-7f76f80e870f>\u001b[0m in \u001b[0;36m<module>\u001b[1;34m\u001b[0m\n\u001b[1;32m----> 1\u001b[1;33m \u001b[1;34m\"A\"\u001b[0m \u001b[1;33m+\u001b[0m \u001b[1;36m50\u001b[0m\u001b[1;33m\u001b[0m\u001b[1;33m\u001b[0m\u001b[0m\n\u001b[0m",
      "\u001b[1;31mTypeError\u001b[0m: can only concatenate str (not \"int\") to str"
     ]
    }
   ],
   "source": [
    "\"A\" + 50"
   ]
  },
  {
   "cell_type": "code",
   "execution_count": 1,
   "id": "j47sjqhzWnwO",
   "metadata": {
    "colab": {
     "base_uri": "https://localhost:8080/",
     "height": 35
    },
    "executionInfo": {
     "elapsed": 9,
     "status": "ok",
     "timestamp": 1683616372789,
     "user": {
      "displayName": "Mohamed Mahmoud Ali",
      "userId": "09893787734904302111"
     },
     "user_tz": -180
    },
    "id": "j47sjqhzWnwO",
    "outputId": "5bcb0f84-e864-41cb-e33e-903fca51ea7c"
   },
   "outputs": [
    {
     "data": {
      "application/vnd.google.colaboratory.intrinsic+json": {
       "type": "string"
      },
      "text/plain": [
       "'aaaa'"
      ]
     },
     "execution_count": 1,
     "metadata": {},
     "output_type": "execute_result"
    }
   ],
   "source": [
    "\"a\"*4"
   ]
  },
  {
   "cell_type": "code",
   "execution_count": null,
   "id": "1a630b9f",
   "metadata": {
    "id": "1a630b9f",
    "outputId": "006be62a-5cf6-477b-9a6a-607d71d25423"
   },
   "outputs": [
    {
     "name": "stdout",
     "output_type": "stream",
     "text": [
      "40\n"
     ]
    }
   ],
   "source": [
    "l = [10,20,30,40]\n",
    "\n",
    "print(max(l))"
   ]
  },
  {
   "cell_type": "code",
   "execution_count": null,
   "id": "a73d8822",
   "metadata": {
    "id": "a73d8822",
    "outputId": "d94bc8ff-0901-4899-a494-fb0f99c65e9c"
   },
   "outputs": [
    {
     "name": "stdout",
     "output_type": "stream",
     "text": [
      "10\n"
     ]
    }
   ],
   "source": [
    "print(min(l))"
   ]
  },
  {
   "cell_type": "markdown",
   "id": "4d7c8572",
   "metadata": {
    "id": "4d7c8572"
   },
   "source": [
    "# List methods"
   ]
  },
  {
   "cell_type": "code",
   "execution_count": null,
   "id": "16c0efcb",
   "metadata": {
    "id": "16c0efcb"
   },
   "outputs": [],
   "source": [
    "class list{\n",
    "    append()\n",
    "}"
   ]
  },
  {
   "cell_type": "markdown",
   "id": "7a685953",
   "metadata": {
    "id": "7a685953"
   },
   "source": [
    "#### append()"
   ]
  },
  {
   "cell_type": "code",
   "execution_count": null,
   "id": "bd0da617",
   "metadata": {
    "id": "bd0da617"
   },
   "outputs": [],
   "source": [
    "n = [2,4,5,3,6]\n",
    "\n",
    "n.append(10)"
   ]
  },
  {
   "cell_type": "code",
   "execution_count": null,
   "id": "878aefb5",
   "metadata": {
    "id": "878aefb5",
    "outputId": "b9732bef-1eb9-45da-a348-1e41bbeddc98"
   },
   "outputs": [
    {
     "name": "stdout",
     "output_type": "stream",
     "text": [
      "[2, 4, 5, 3, 6, 10]\n"
     ]
    }
   ],
   "source": [
    "print(n)"
   ]
  },
  {
   "cell_type": "code",
   "execution_count": null,
   "id": "b7d64470",
   "metadata": {
    "id": "b7d64470",
    "outputId": "03299b27-08e1-438c-f9ab-fae9b5db96d4"
   },
   "outputs": [
    {
     "name": "stdout",
     "output_type": "stream",
     "text": [
      "[2, 4, 5, 3, 6, 10, 50]\n"
     ]
    }
   ],
   "source": [
    "n.append(50)\n",
    "print(n)"
   ]
  },
  {
   "cell_type": "code",
   "execution_count": null,
   "id": "719b1766",
   "metadata": {
    "id": "719b1766",
    "outputId": "bfcc2c9e-12e4-45b2-8a5d-935f1deeab51"
   },
   "outputs": [
    {
     "name": "stdout",
     "output_type": "stream",
     "text": [
      "Enter your name: himanshu\n"
     ]
    }
   ],
   "source": [
    "i = input(\"Enter your name: \")\n",
    "\n",
    "n.append(i)"
   ]
  },
  {
   "cell_type": "code",
   "execution_count": null,
   "id": "05874140",
   "metadata": {
    "id": "05874140",
    "outputId": "ed633e07-29af-48c4-86c6-3befcd570b9a"
   },
   "outputs": [
    {
     "name": "stdout",
     "output_type": "stream",
     "text": [
      "[2, 4, 5, 3, 6, 10, 50, 'himanshu']\n"
     ]
    }
   ],
   "source": [
    "print(n)"
   ]
  },
  {
   "cell_type": "markdown",
   "id": "298f3987",
   "metadata": {
    "id": "298f3987"
   },
   "source": [
    "#### insert()"
   ]
  },
  {
   "cell_type": "code",
   "execution_count": null,
   "id": "984d1675",
   "metadata": {
    "id": "984d1675",
    "outputId": "00f441e5-e2d4-437d-8b7a-2c16c59bfe52"
   },
   "outputs": [
    {
     "name": "stdout",
     "output_type": "stream",
     "text": [
      "[2, 4, 10, 5, 3, 6]\n"
     ]
    }
   ],
   "source": [
    "n = [2, 4,5, 3, 6]\n",
    "\n",
    "n.insert(2, 10)\n",
    "print(n)"
   ]
  },
  {
   "cell_type": "code",
   "execution_count": null,
   "id": "931bf906",
   "metadata": {
    "id": "931bf906",
    "outputId": "e39818f5-7ad3-472e-9bc0-c5b2eafa648f"
   },
   "outputs": [
    {
     "name": "stdout",
     "output_type": "stream",
     "text": [
      "[10, 2, 4, 5, 3, 6]\n"
     ]
    }
   ],
   "source": [
    "n = [2, 4, 5, 3, 6]\n",
    "\n",
    "n.insert(0, 10)\n",
    "print(n)"
   ]
  },
  {
   "cell_type": "code",
   "execution_count": null,
   "id": "cc8567db",
   "metadata": {
    "id": "cc8567db",
    "outputId": "84ed74d1-0d20-455b-bcbb-9612398dac97"
   },
   "outputs": [
    {
     "name": "stdout",
     "output_type": "stream",
     "text": [
      "[2, 4, 5, 3, 10, 6]\n"
     ]
    }
   ],
   "source": [
    "n = [2, 4, 5, 3, 6]\n",
    "\n",
    "n.insert(-1, 10)\n",
    "print(n)"
   ]
  },
  {
   "cell_type": "markdown",
   "id": "fc39f6e1",
   "metadata": {
    "id": "fc39f6e1"
   },
   "source": [
    "#### index()"
   ]
  },
  {
   "cell_type": "code",
   "execution_count": null,
   "id": "d7e30a40",
   "metadata": {
    "id": "d7e30a40",
    "outputId": "9c763c5c-5147-4d90-87c2-8b48d48aa3df"
   },
   "outputs": [
    {
     "name": "stdout",
     "output_type": "stream",
     "text": [
      "4\n"
     ]
    }
   ],
   "source": [
    "n = [2, 4, 5, 3, 6]\n",
    "\n",
    "print(n.index(6))"
   ]
  },
  {
   "cell_type": "code",
   "execution_count": null,
   "id": "0a7bf1bd",
   "metadata": {
    "id": "0a7bf1bd",
    "outputId": "095b378e-88d4-4b29-83b2-b57c7c58790e"
   },
   "outputs": [
    {
     "ename": "ValueError",
     "evalue": "10 is not in list",
     "output_type": "error",
     "traceback": [
      "\u001b[1;31m---------------------------------------------------------------------------\u001b[0m",
      "\u001b[1;31mValueError\u001b[0m                                Traceback (most recent call last)",
      "\u001b[1;32m<ipython-input-20-9e41c8170171>\u001b[0m in \u001b[0;36m<module>\u001b[1;34m\u001b[0m\n\u001b[0;32m      1\u001b[0m \u001b[0mn\u001b[0m \u001b[1;33m=\u001b[0m \u001b[1;33m[\u001b[0m\u001b[1;36m2\u001b[0m\u001b[1;33m,\u001b[0m \u001b[1;36m4\u001b[0m\u001b[1;33m,\u001b[0m \u001b[1;36m5\u001b[0m\u001b[1;33m,\u001b[0m \u001b[1;36m3\u001b[0m\u001b[1;33m,\u001b[0m \u001b[1;36m6\u001b[0m\u001b[1;33m]\u001b[0m\u001b[1;33m\u001b[0m\u001b[1;33m\u001b[0m\u001b[0m\n\u001b[0;32m      2\u001b[0m \u001b[1;33m\u001b[0m\u001b[0m\n\u001b[1;32m----> 3\u001b[1;33m \u001b[0mprint\u001b[0m\u001b[1;33m(\u001b[0m\u001b[0mn\u001b[0m\u001b[1;33m.\u001b[0m\u001b[0mindex\u001b[0m\u001b[1;33m(\u001b[0m\u001b[1;36m10\u001b[0m\u001b[1;33m)\u001b[0m\u001b[1;33m)\u001b[0m\u001b[1;33m\u001b[0m\u001b[1;33m\u001b[0m\u001b[0m\n\u001b[0m",
      "\u001b[1;31mValueError\u001b[0m: 10 is not in list"
     ]
    }
   ],
   "source": [
    "n = [2, 4, 5, 3, 6]\n",
    "\n",
    "print(n.index(10))"
   ]
  },
  {
   "cell_type": "markdown",
   "id": "d745c0f0",
   "metadata": {
    "id": "d745c0f0"
   },
   "source": [
    "#### reverse()"
   ]
  },
  {
   "cell_type": "code",
   "execution_count": 8,
   "id": "0ef1ee99",
   "metadata": {
    "colab": {
     "base_uri": "https://localhost:8080/"
    },
    "executionInfo": {
     "elapsed": 3,
     "status": "ok",
     "timestamp": 1683616699379,
     "user": {
      "displayName": "Mohamed Mahmoud Ali",
      "userId": "09893787734904302111"
     },
     "user_tz": -180
    },
    "id": "0ef1ee99",
    "outputId": "6d2acb81-a50e-44ff-c991-788038e9d135"
   },
   "outputs": [
    {
     "data": {
      "text/plain": [
       "[6, None, 5, 4, 2]"
      ]
     },
     "execution_count": 8,
     "metadata": {},
     "output_type": "execute_result"
    }
   ],
   "source": [
    "n = [2, 4, 5,None, 6]\n",
    "\n",
    "n.reverse()\n",
    "n"
   ]
  },
  {
   "cell_type": "code",
   "execution_count": 10,
   "id": "ShZqs-dWX1q_",
   "metadata": {
    "colab": {
     "base_uri": "https://localhost:8080/"
    },
    "executionInfo": {
     "elapsed": 3,
     "status": "ok",
     "timestamp": 1683616717312,
     "user": {
      "displayName": "Mohamed Mahmoud Ali",
      "userId": "09893787734904302111"
     },
     "user_tz": -180
    },
    "id": "ShZqs-dWX1q_",
    "outputId": "b14e3eab-b27b-4913-f584-dca8e62224a6"
   },
   "outputs": [
    {
     "data": {
      "text/plain": [
       "[2, 4, 5, None, 6]"
      ]
     },
     "execution_count": 10,
     "metadata": {},
     "output_type": "execute_result"
    }
   ],
   "source": [
    "list(reversed(n))"
   ]
  },
  {
   "cell_type": "code",
   "execution_count": 11,
   "id": "GeyvuXnNYI1G",
   "metadata": {
    "colab": {
     "base_uri": "https://localhost:8080/"
    },
    "executionInfo": {
     "elapsed": 273,
     "status": "ok",
     "timestamp": 1683616735282,
     "user": {
      "displayName": "Mohamed Mahmoud Ali",
      "userId": "09893787734904302111"
     },
     "user_tz": -180
    },
    "id": "GeyvuXnNYI1G",
    "outputId": "43564715-c951-40df-d5eb-1c8c88fa1fb9"
   },
   "outputs": [
    {
     "data": {
      "text/plain": [
       "[6, None, 5, 4, 2]"
      ]
     },
     "execution_count": 11,
     "metadata": {},
     "output_type": "execute_result"
    }
   ],
   "source": [
    "n"
   ]
  },
  {
   "cell_type": "code",
   "execution_count": null,
   "id": "pb8ahOblX-Vf",
   "metadata": {
    "id": "pb8ahOblX-Vf"
   },
   "outputs": [],
   "source": []
  },
  {
   "cell_type": "code",
   "execution_count": null,
   "id": "01520c05",
   "metadata": {
    "id": "01520c05",
    "outputId": "9c182480-d549-4357-e80a-b26e8b7a5470"
   },
   "outputs": [
    {
     "name": "stdout",
     "output_type": "stream",
     "text": [
      "[6, None, 5, 4, 2]\n"
     ]
    }
   ],
   "source": [
    "print(n)"
   ]
  },
  {
   "cell_type": "code",
   "execution_count": null,
   "id": "eb84751b",
   "metadata": {
    "id": "eb84751b",
    "outputId": "8f582db4-f0fb-4740-af55-daee1e121f14"
   },
   "outputs": [
    {
     "name": "stdout",
     "output_type": "stream",
     "text": [
      "[2, 4, 5, None, 6]\n"
     ]
    }
   ],
   "source": [
    "n.reverse()\n",
    "print(n)"
   ]
  },
  {
   "cell_type": "markdown",
   "id": "2cea6d6f",
   "metadata": {
    "id": "2cea6d6f"
   },
   "source": [
    "#### count()"
   ]
  },
  {
   "cell_type": "code",
   "execution_count": null,
   "id": "958e97ab",
   "metadata": {
    "id": "958e97ab",
    "outputId": "7a05f75b-1dec-4436-a9b8-28dd0eba3fb4"
   },
   "outputs": [
    {
     "name": "stdout",
     "output_type": "stream",
     "text": [
      "2\n"
     ]
    }
   ],
   "source": [
    "n = ['a', 'b' , 'r', 'g', 'r']\n",
    "\n",
    "print(n.count('r'))"
   ]
  },
  {
   "cell_type": "code",
   "execution_count": null,
   "id": "6e776b1f",
   "metadata": {
    "id": "6e776b1f",
    "outputId": "2402d63d-1e37-4e6b-af6b-06ef12a6fb3a"
   },
   "outputs": [
    {
     "name": "stdout",
     "output_type": "stream",
     "text": [
      "1\n"
     ]
    }
   ],
   "source": [
    "print(n.count('g'))"
   ]
  },
  {
   "cell_type": "markdown",
   "id": "40fa0f18",
   "metadata": {
    "id": "40fa0f18"
   },
   "source": [
    "#### sort()"
   ]
  },
  {
   "cell_type": "code",
   "execution_count": null,
   "id": "33e6d0ae",
   "metadata": {
    "id": "33e6d0ae"
   },
   "outputs": [],
   "source": [
    "n = [2, 4, 5, 3, 6]\n",
    "\n",
    "n.sort()"
   ]
  },
  {
   "cell_type": "code",
   "execution_count": null,
   "id": "83caa888",
   "metadata": {
    "id": "83caa888",
    "outputId": "a66da52d-bfdf-4acd-c95c-f0476ac5c120"
   },
   "outputs": [
    {
     "name": "stdout",
     "output_type": "stream",
     "text": [
      "[2, 3, 4, 5, 6]\n"
     ]
    }
   ],
   "source": [
    "print(n)"
   ]
  },
  {
   "cell_type": "code",
   "execution_count": null,
   "id": "aaca066d",
   "metadata": {
    "id": "aaca066d"
   },
   "outputs": [],
   "source": [
    "n.sort(reverse=True)"
   ]
  },
  {
   "cell_type": "code",
   "execution_count": null,
   "id": "49d28283",
   "metadata": {
    "id": "49d28283",
    "outputId": "146838f1-788c-4ec1-8300-208bf15e8bad"
   },
   "outputs": [
    {
     "name": "stdout",
     "output_type": "stream",
     "text": [
      "[6, 5, 4, 3, 2]\n"
     ]
    }
   ],
   "source": [
    "print(n)"
   ]
  },
  {
   "cell_type": "markdown",
   "id": "9ec50a04",
   "metadata": {
    "id": "9ec50a04"
   },
   "source": [
    "# Questions \n",
    "\n",
    "**WAP to enter 5 elements from user and append them into a list.**"
   ]
  },
  {
   "cell_type": "code",
   "execution_count": null,
   "id": "48b53cfc",
   "metadata": {
    "id": "48b53cfc",
    "outputId": "4fa061aa-4396-4364-d2bd-bdad9bf36dc9"
   },
   "outputs": [
    {
     "name": "stdout",
     "output_type": "stream",
     "text": [
      "Enter a number: 10\n",
      "Enter a number: 20\n",
      "Enter a number: 30\n",
      "Enter a number: 50\n",
      "Enter a number: 60\n",
      "[10, 20, 30, 50, 60]\n"
     ]
    }
   ],
   "source": [
    "l = []\n",
    "i = 1\n",
    "while i <= 5:\n",
    "    n = int(input(\"Enter a number: \"))\n",
    "    l.append(n)\n",
    "    i += 1\n",
    "\n",
    "print(l)"
   ]
  },
  {
   "cell_type": "markdown",
   "id": "56392191",
   "metadata": {
    "id": "56392191"
   },
   "source": [
    "**WAP to enter 5 numbers from user and print sum of them.**"
   ]
  },
  {
   "cell_type": "code",
   "execution_count": null,
   "id": "df7f97eb",
   "metadata": {
    "id": "df7f97eb",
    "outputId": "f59e215d-4700-4362-96d4-a18097043e44"
   },
   "outputs": [
    {
     "name": "stdout",
     "output_type": "stream",
     "text": [
      "Enter a number: 1\n",
      "Enter a number: 2\n",
      "Enter a number: 3\n",
      "Enter a number: 4\n",
      "Enter a number: 5\n",
      "15\n"
     ]
    }
   ],
   "source": [
    "l = []\n",
    "i = 1\n",
    "while i <= 5:\n",
    "    n = int(input(\"Enter a number: \"))\n",
    "    l.append(n)\n",
    "    i += 1\n",
    "\n",
    "print(sum(l))"
   ]
  },
  {
   "cell_type": "markdown",
   "id": "ed1ac043",
   "metadata": {
    "id": "ed1ac043"
   },
   "source": [
    "### Linear Search"
   ]
  },
  {
   "cell_type": "code",
   "execution_count": null,
   "id": "c531861e",
   "metadata": {
    "id": "c531861e",
    "outputId": "a0a8cd29-d219-449d-b9e7-4c8068aab5f6"
   },
   "outputs": [
    {
     "name": "stdout",
     "output_type": "stream",
     "text": [
      "True\n"
     ]
    }
   ],
   "source": [
    "l = [1,25,12,4,6,8,74,3]\n",
    "\n",
    "print(6 in l)"
   ]
  },
  {
   "cell_type": "code",
   "execution_count": null,
   "id": "4347a680",
   "metadata": {
    "id": "4347a680",
    "outputId": "7e1ea897-42c1-425b-801b-4e506418a1c4"
   },
   "outputs": [
    {
     "name": "stdout",
     "output_type": "stream",
     "text": [
      "False\n"
     ]
    }
   ],
   "source": [
    "print(0 in l)"
   ]
  },
  {
   "cell_type": "code",
   "execution_count": null,
   "id": "03d57e65",
   "metadata": {
    "id": "03d57e65",
    "outputId": "44e941ec-d7c5-4d5f-d6e1-d526660d18ab"
   },
   "outputs": [
    {
     "name": "stdout",
     "output_type": "stream",
     "text": [
      "False\n"
     ]
    }
   ],
   "source": [
    "print(12 not in l)"
   ]
  },
  {
   "cell_type": "code",
   "execution_count": 15,
   "id": "a1e94985",
   "metadata": {
    "colab": {
     "base_uri": "https://localhost:8080/"
    },
    "executionInfo": {
     "elapsed": 4925,
     "status": "ok",
     "timestamp": 1683617262455,
     "user": {
      "displayName": "Mohamed Mahmoud Ali",
      "userId": "09893787734904302111"
     },
     "user_tz": -180
    },
    "id": "a1e94985",
    "outputId": "75fb0f51-c102-4db8-d573-b9a631f06739"
   },
   "outputs": [
    {
     "name": "stdout",
     "output_type": "stream",
     "text": [
      "Enter a number to be searched: 10\n"
     ]
    }
   ],
   "source": [
    "l = [1,25,12,4,6,8,74,3]\n",
    "\n",
    "n = int(input(\"Enter a number to be searched: \"))\n",
    "i = 0\n",
    "#           8\n",
    "while i < len(l):\n",
    "    if n == l[i]:\n",
    "        print(\"Search Success\")\n",
    "    else:\n",
    "        print(\"Fail\")\n",
    "    i += 1"
   ]
  },
  {
   "cell_type": "code",
   "execution_count": 17,
   "id": "f27abec1",
   "metadata": {
    "colab": {
     "base_uri": "https://localhost:8080/"
    },
    "executionInfo": {
     "elapsed": 2657,
     "status": "ok",
     "timestamp": 1683617331059,
     "user": {
      "displayName": "Mohamed Mahmoud Ali",
      "userId": "09893787734904302111"
     },
     "user_tz": -180
    },
    "id": "f27abec1",
    "outputId": "638f1403-5d4e-4a83-e987-0ffa999c5c26"
   },
   "outputs": [
    {
     "name": "stdout",
     "output_type": "stream",
     "text": [
      "Enter a number to be searched: 12\n",
      "Search Success\n"
     ]
    }
   ],
   "source": [
    "l = [1,25,12,4,6,8,74,3]\n",
    "\n",
    "n = int(input(\"Enter a number to be searched: \"))\n",
    "i = 0\n",
    "\n",
    "f = 0              # flag bit variable\n",
    "\n",
    "#           8\n",
    "while i < len(l):\n",
    "    if n == l[i]:\n",
    "        f = 1\n",
    "        break\n",
    "    i += 1\n",
    "\n",
    "if f == 1:\n",
    "    print(\"Search Success\")\n",
    "else:\n",
    "    print(\"Fail\")"
   ]
  },
  {
   "cell_type": "code",
   "execution_count": 4,
   "id": "4461aeb4",
   "metadata": {
    "executionInfo": {
     "elapsed": 4,
     "status": "ok",
     "timestamp": 1683617856450,
     "user": {
      "displayName": "Mohamed Mahmoud Ali",
      "userId": "09893787734904302111"
     },
     "user_tz": -180
    },
    "id": "4461aeb4"
   },
   "outputs": [],
   "source": [
    "l = [3,2,4,5,6]\n",
    "l.remove(6)\n",
    "l.insert(0,6)\n",
    "#[6,3,2,4,5]"
   ]
  },
  {
   "cell_type": "code",
   "execution_count": 5,
   "id": "PzzMxHLYa7Uy",
   "metadata": {
    "colab": {
     "base_uri": "https://localhost:8080/"
    },
    "executionInfo": {
     "elapsed": 15,
     "status": "ok",
     "timestamp": 1683617492508,
     "user": {
      "displayName": "Mohamed Mahmoud Ali",
      "userId": "09893787734904302111"
     },
     "user_tz": -180
    },
    "id": "PzzMxHLYa7Uy",
    "outputId": "890d4376-d702-4495-bbb0-35c96f3d87f9"
   },
   "outputs": [
    {
     "data": {
      "text/plain": [
       "[6, 3, 2, 4, 5]"
      ]
     },
     "execution_count": 5,
     "metadata": {},
     "output_type": "execute_result"
    }
   ],
   "source": [
    "l"
   ]
  },
  {
   "cell_type": "code",
   "execution_count": 6,
   "id": "Xib7jQHCbSYN",
   "metadata": {
    "colab": {
     "base_uri": "https://localhost:8080/"
    },
    "executionInfo": {
     "elapsed": 5,
     "status": "ok",
     "timestamp": 1683617857121,
     "user": {
      "displayName": "Mohamed Mahmoud Ali",
      "userId": "09893787734904302111"
     },
     "user_tz": -180
    },
    "id": "Xib7jQHCbSYN",
    "outputId": "0aa1cd81-e258-4fe8-85ec-655ca519ac2a"
   },
   "outputs": [
    {
     "data": {
      "text/plain": [
       "[6, 6, 3, 2, 4]"
      ]
     },
     "execution_count": 6,
     "metadata": {},
     "output_type": "execute_result"
    }
   ],
   "source": [
    "newL=[6]\n",
    "newL.extend(l[0:-1])\n",
    "newL"
   ]
  },
  {
   "cell_type": "code",
   "execution_count": 38,
   "id": "b5nfHSMEccaO",
   "metadata": {
    "colab": {
     "base_uri": "https://localhost:8080/"
    },
    "executionInfo": {
     "elapsed": 16,
     "status": "ok",
     "timestamp": 1683617959881,
     "user": {
      "displayName": "Mohamed Mahmoud Ali",
      "userId": "09893787734904302111"
     },
     "user_tz": -180
    },
    "id": "b5nfHSMEccaO",
    "outputId": "52c33571-d311-4678-9345-5fc26e18a957"
   },
   "outputs": [
    {
     "name": "stdout",
     "output_type": "stream",
     "text": [
      "[0, 1, 2, 3, 4, 5]\n",
      "[1, 2, 3, 4, 5]\n"
     ]
    }
   ],
   "source": [
    "n=[0,1,2,3,4,5]\n",
    "print(n)\n",
    "poped=n.pop(0)\n",
    "print(n)"
   ]
  },
  {
   "cell_type": "code",
   "execution_count": 39,
   "id": "SSgr9Aduc2TB",
   "metadata": {
    "colab": {
     "base_uri": "https://localhost:8080/"
    },
    "executionInfo": {
     "elapsed": 3,
     "status": "ok",
     "timestamp": 1683617973463,
     "user": {
      "displayName": "Mohamed Mahmoud Ali",
      "userId": "09893787734904302111"
     },
     "user_tz": -180
    },
    "id": "SSgr9Aduc2TB",
    "outputId": "55f8569b-58ed-4b86-a34d-ff78c0215f7d"
   },
   "outputs": [
    {
     "data": {
      "text/plain": [
       "0"
      ]
     },
     "execution_count": 39,
     "metadata": {},
     "output_type": "execute_result"
    }
   ],
   "source": [
    "poped"
   ]
  },
  {
   "cell_type": "code",
   "execution_count": 33,
   "id": "HcrwVthjcF7n",
   "metadata": {
    "executionInfo": {
     "elapsed": 2,
     "status": "ok",
     "timestamp": 1683617820882,
     "user": {
      "displayName": "Mohamed Mahmoud Ali",
      "userId": "09893787734904302111"
     },
     "user_tz": -180
    },
    "id": "HcrwVthjcF7n"
   },
   "outputs": [],
   "source": [
    "l.insert(0,newL[0:])"
   ]
  },
  {
   "cell_type": "code",
   "execution_count": 34,
   "id": "qL0MtjqScM4q",
   "metadata": {
    "colab": {
     "base_uri": "https://localhost:8080/"
    },
    "executionInfo": {
     "elapsed": 3,
     "status": "ok",
     "timestamp": 1683617824748,
     "user": {
      "displayName": "Mohamed Mahmoud Ali",
      "userId": "09893787734904302111"
     },
     "user_tz": -180
    },
    "id": "qL0MtjqScM4q",
    "outputId": "e8cbf92e-d69e-46f4-ae50-8311a0c5e170"
   },
   "outputs": [
    {
     "data": {
      "text/plain": [
       "[[6, 3, 2, 4, 5], 6, 3, 2, 4, 5, 6]"
      ]
     },
     "execution_count": 34,
     "metadata": {},
     "output_type": "execute_result"
    }
   ],
   "source": [
    "l"
   ]
  },
  {
   "cell_type": "code",
   "execution_count": 7,
   "id": "64c01f5e",
   "metadata": {
    "id": "64c01f5e"
   },
   "outputs": [
    {
     "ename": "TypeError",
     "evalue": "unsupported operand type(s) for +: 'int' and 'list'",
     "output_type": "error",
     "traceback": [
      "\u001b[1;31m---------------------------------------------------------------------------\u001b[0m",
      "\u001b[1;31mTypeError\u001b[0m                                 Traceback (most recent call last)",
      "Cell \u001b[1;32mIn[7], line 3\u001b[0m\n\u001b[0;32m      1\u001b[0m l \u001b[38;5;241m=\u001b[39m [\u001b[38;5;241m3\u001b[39m,\u001b[38;5;241m2\u001b[39m,\u001b[38;5;241m4\u001b[39m,\u001b[38;5;241m5\u001b[39m,\u001b[38;5;241m6\u001b[39m]\n\u001b[1;32m----> 3\u001b[0m \u001b[38;5;28mprint\u001b[39m(\u001b[43ml\u001b[49m\u001b[43m[\u001b[49m\u001b[38;5;241;43m-\u001b[39;49m\u001b[38;5;241;43m1\u001b[39;49m\u001b[43m]\u001b[49m\u001b[43m \u001b[49m\u001b[38;5;241;43m+\u001b[39;49m\u001b[43m \u001b[49m\u001b[43ml\u001b[49m\u001b[43m[\u001b[49m\u001b[38;5;241;43m0\u001b[39;49m\u001b[43m:\u001b[49m\u001b[38;5;241;43m-\u001b[39;49m\u001b[38;5;241;43m1\u001b[39;49m\u001b[43m]\u001b[49m)\n",
      "\u001b[1;31mTypeError\u001b[0m: unsupported operand type(s) for +: 'int' and 'list'"
     ]
    }
   ],
   "source": [
    "l = [3,2,4,5,6]\n",
    "\n",
    "print(l[-1] + l[0:-1])"
   ]
  },
  {
   "cell_type": "markdown",
   "id": "caLSCMDKdpRH",
   "metadata": {
    "id": "caLSCMDKdpRH"
   },
   "source": []
  },
  {
   "cell_type": "markdown",
   "id": "wa5gqb4UdpHl",
   "metadata": {
    "id": "wa5gqb4UdpHl"
   },
   "source": []
  }
 ],
 "metadata": {
  "colab": {
   "provenance": []
  },
  "kernelspec": {
   "display_name": "Python 3 (ipykernel)",
   "language": "python",
   "name": "python3"
  },
  "language_info": {
   "codemirror_mode": {
    "name": "ipython",
    "version": 3
   },
   "file_extension": ".py",
   "mimetype": "text/x-python",
   "name": "python",
   "nbconvert_exporter": "python",
   "pygments_lexer": "ipython3",
   "version": "3.10.9"
  }
 },
 "nbformat": 4,
 "nbformat_minor": 5
}
