{
 "cells": [
  {
   "cell_type": "markdown",
   "id": "1390d8e7",
   "metadata": {
    "id": "1390d8e7"
   },
   "source": [
    "# While Loop"
   ]
  },
  {
   "cell_type": "code",
   "execution_count": 1,
   "id": "47be358a",
   "metadata": {
    "colab": {
     "base_uri": "https://localhost:8080/"
    },
    "executionInfo": {
     "elapsed": 343,
     "status": "ok",
     "timestamp": 1683096637110,
     "user": {
      "displayName": "Mohamed Mahmoud Ali",
      "userId": "09893787734904302111"
     },
     "user_tz": -180
    },
    "id": "47be358a",
    "outputId": "d4b100cb-8cfd-4631-f18b-53aab872782b"
   },
   "outputs": [
    {
     "name": "stdout",
     "output_type": "stream",
     "text": [
      "Ali\n",
      "Ali\n",
      "Ali\n",
      "Ali\n",
      "Ali\n",
      "Ali\n",
      "Ali\n",
      "Ali\n",
      "Ali\n",
      "Ali\n"
     ]
    }
   ],
   "source": [
    "i = 1\n",
    "\n",
    "while i <= 10:\n",
    "    print(\"Ali\")\n",
    "    i += 1            # i = i + 1"
   ]
  },
  {
   "cell_type": "code",
   "execution_count": null,
   "id": "69e2c751",
   "metadata": {
    "id": "69e2c751"
   },
   "outputs": [],
   "source": [
    "1\n",
    "2\n",
    "3\n",
    "4\n",
    "5\n",
    "6\n",
    "7\n",
    "8\n",
    "9\n",
    "10"
   ]
  },
  {
   "cell_type": "code",
   "execution_count": 4,
   "id": "effba3db",
   "metadata": {
    "colab": {
     "base_uri": "https://localhost:8080/"
    },
    "executionInfo": {
     "elapsed": 2,
     "status": "ok",
     "timestamp": 1683096749422,
     "user": {
      "displayName": "Mohamed Mahmoud Ali",
      "userId": "09893787734904302111"
     },
     "user_tz": -180
    },
    "id": "effba3db",
    "outputId": "b501fd9f-39fc-41ac-8865-7fc3ece2f6bb"
   },
   "outputs": [
    {
     "name": "stdout",
     "output_type": "stream",
     "text": [
      "before 1\n",
      "After 2\n",
      "before 2\n",
      "After 3\n",
      "before 3\n",
      "After 4\n",
      "before 4\n",
      "After 5\n",
      "before 5\n",
      "After 6\n",
      "before 6\n",
      "After 7\n",
      "before 7\n",
      "After 8\n",
      "before 8\n",
      "After 9\n",
      "before 9\n",
      "After 10\n",
      "before 10\n",
      "After 11\n"
     ]
    }
   ],
   "source": [
    "i = 1\n",
    "\n",
    "while i <= 10:\n",
    "    print(\"before\",i)\n",
    "    i += 1\n",
    "    print(\"After\",i)"
   ]
  },
  {
   "cell_type": "code",
   "execution_count": null,
   "id": "aea64c66",
   "metadata": {
    "id": "aea64c66",
    "outputId": "9bbacfbb-26de-4fb9-b087-c30f06d837d0"
   },
   "outputs": [
    {
     "name": "stdout",
     "output_type": "stream",
     "text": [
      "Hello\n",
      "World\n"
     ]
    }
   ],
   "source": [
    "print(\"Hello\\nWorld\")"
   ]
  },
  {
   "cell_type": "code",
   "execution_count": null,
   "id": "a6aa69c7",
   "metadata": {
    "id": "a6aa69c7",
    "outputId": "55fdc822-58d9-439c-e70d-5e7398db944a"
   },
   "outputs": [
    {
     "name": "stdout",
     "output_type": "stream",
     "text": [
      "Hello\n",
      "World\n"
     ]
    }
   ],
   "source": [
    "print(\"Hello\")\n",
    "print(\"World\")"
   ]
  },
  {
   "cell_type": "code",
   "execution_count": 6,
   "id": "60c30eb6",
   "metadata": {
    "colab": {
     "base_uri": "https://localhost:8080/"
    },
    "executionInfo": {
     "elapsed": 453,
     "status": "ok",
     "timestamp": 1683096817384,
     "user": {
      "displayName": "Mohamed Mahmoud Ali",
      "userId": "09893787734904302111"
     },
     "user_tz": -180
    },
    "id": "60c30eb6",
    "outputId": "bcd7da87-b19b-41e1-a50c-a1d2a2bf45e1"
   },
   "outputs": [
    {
     "name": "stdout",
     "output_type": "stream",
     "text": [
      "HelloAliWorld\n"
     ]
    }
   ],
   "source": [
    "print(\"Hello\", end=\"Ali\")\n",
    "print(\"World\")"
   ]
  },
  {
   "cell_type": "code",
   "execution_count": null,
   "id": "4cf73726",
   "metadata": {
    "id": "4cf73726",
    "outputId": "5aeabcfe-27c9-4acc-d580-9b5ffc7f4ca7"
   },
   "outputs": [
    {
     "data": {
      "text/plain": [
       "'10abc'"
      ]
     },
     "execution_count": 6,
     "metadata": {},
     "output_type": "execute_result"
    }
   ],
   "source": [
    "\"10\" + \"abc\""
   ]
  },
  {
   "cell_type": "code",
   "execution_count": null,
   "id": "fde5dd78",
   "metadata": {
    "id": "fde5dd78",
    "outputId": "b792d8e8-8f8b-41af-b036-e390a1ae6641"
   },
   "outputs": [
    {
     "name": "stdout",
     "output_type": "stream",
     "text": [
      "Hello@@World\n"
     ]
    }
   ],
   "source": [
    "print(\"Hello\", end=\"@@\")\n",
    "print(\"World\")"
   ]
  },
  {
   "cell_type": "code",
   "execution_count": null,
   "id": "170cb0be",
   "metadata": {
    "id": "170cb0be",
    "outputId": "0abd2cf4-e54e-44d0-b613-8d3313e5b963"
   },
   "outputs": [
    {
     "name": "stdout",
     "output_type": "stream",
     "text": [
      "Hello\n",
      "World\n"
     ]
    }
   ],
   "source": [
    "print(\"Hello\", end=\"\\n\")\n",
    "print(\"World\")"
   ]
  },
  {
   "cell_type": "code",
   "execution_count": null,
   "id": "f3ddee25",
   "metadata": {
    "id": "f3ddee25",
    "outputId": "fe8829f7-a38f-48e1-e96f-8efc83ea25c2"
   },
   "outputs": [
    {
     "name": "stdout",
     "output_type": "stream",
     "text": [
      "Hello World\n"
     ]
    }
   ],
   "source": [
    "print(\"Hello\", end=\" \")\n",
    "print(\"World\")"
   ]
  },
  {
   "cell_type": "code",
   "execution_count": null,
   "id": "94861374",
   "metadata": {
    "id": "94861374"
   },
   "outputs": [],
   "source": [
    "1  2  3  4  5  6  7  8  9  10"
   ]
  },
  {
   "cell_type": "code",
   "execution_count": null,
   "id": "e60390b0",
   "metadata": {
    "id": "e60390b0",
    "outputId": "694caea4-0403-4d02-a4f9-bbf3484ddbe7"
   },
   "outputs": [
    {
     "name": "stdout",
     "output_type": "stream",
     "text": [
      "1  2  3  4  5  6  7  8  9  10  "
     ]
    }
   ],
   "source": [
    "i = 1\n",
    "\n",
    "while i <= 10:\n",
    "    print(i, end=\"  \")\n",
    "    i += 1"
   ]
  },
  {
   "cell_type": "code",
   "execution_count": null,
   "id": "7b41c6cf",
   "metadata": {
    "id": "7b41c6cf",
    "outputId": "026f8321-28da-49cb-f303-f132e7f06b5b"
   },
   "outputs": [
    {
     "name": "stdout",
     "output_type": "stream",
     "text": [
      "50\n",
      "10\n"
     ]
    }
   ],
   "source": [
    "a = 10\n",
    "print(a * 5)\n",
    "print(a)"
   ]
  },
  {
   "cell_type": "markdown",
   "id": "03a2340b",
   "metadata": {
    "id": "03a2340b"
   },
   "source": [
    "**WAP to print following output.**"
   ]
  },
  {
   "cell_type": "code",
   "execution_count": null,
   "id": "6eb2610d",
   "metadata": {
    "id": "6eb2610d"
   },
   "outputs": [],
   "source": [
    "1  4  9  16  25  36  49  64  81  100"
   ]
  },
  {
   "cell_type": "code",
   "execution_count": null,
   "id": "b2efbbe0",
   "metadata": {
    "id": "b2efbbe0",
    "outputId": "b15b4f17-ed7f-492c-8f7f-05c5a17e1949"
   },
   "outputs": [
    {
     "name": "stdout",
     "output_type": "stream",
     "text": [
      "1  4  9  16  25  36  49  64  81  100  "
     ]
    }
   ],
   "source": [
    "i = 1\n",
    "\n",
    "while i<=10:\n",
    "    print(i*i, end=\"  \")\n",
    "    i += 1"
   ]
  },
  {
   "cell_type": "code",
   "execution_count": null,
   "id": "8102ded6",
   "metadata": {
    "id": "8102ded6"
   },
   "outputs": [],
   "source": [
    "1+2+3+4+5+6+7+8+9+10"
   ]
  },
  {
   "cell_type": "code",
   "execution_count": null,
   "id": "96e6e45d",
   "metadata": {
    "id": "96e6e45d",
    "outputId": "35fb5be9-c32a-4d8b-a88e-f3b9ed67b675"
   },
   "outputs": [
    {
     "name": "stdout",
     "output_type": "stream",
     "text": [
      "1+2+3+4+5+6+7+8+9+10+"
     ]
    }
   ],
   "source": [
    "i = 1\n",
    "\n",
    "while i<=10:\n",
    "    print(i, end=\"+\")\n",
    "    i += 1"
   ]
  },
  {
   "cell_type": "code",
   "execution_count": null,
   "id": "86822792",
   "metadata": {
    "id": "86822792",
    "outputId": "f9dbcff7-f6f7-4a09-9e6c-dce767bc94a1"
   },
   "outputs": [
    {
     "name": "stdout",
     "output_type": "stream",
     "text": [
      "1+2+3+4+5+6+7+8+9+10\n"
     ]
    }
   ],
   "source": [
    "i = 1\n",
    "\n",
    "while i<=10:\n",
    "    if i < 10:\n",
    "        print(i, end=\"+\")\n",
    "    else:\n",
    "        print(i)\n",
    "    i += 1"
   ]
  },
  {
   "cell_type": "code",
   "execution_count": null,
   "id": "63fc80f1",
   "metadata": {
    "id": "63fc80f1"
   },
   "outputs": [],
   "source": [
    "1/1  2/4  3/9  4/16  5/25  6/36  7/49  8/64  9/81  10/100"
   ]
  },
  {
   "cell_type": "code",
   "execution_count": null,
   "id": "b4184bc3",
   "metadata": {
    "id": "b4184bc3",
    "outputId": "7fb362e6-8410-4491-95a6-8cc551df03a5"
   },
   "outputs": [
    {
     "name": "stdout",
     "output_type": "stream",
     "text": [
      "1 / 1  2 / 4  3 / 9  4 / 16  5 / 25  6 / 36  7 / 49  8 / 64  9 / 81  10 / 100  "
     ]
    }
   ],
   "source": [
    "i = 1\n",
    "\n",
    "while i<=10:\n",
    "    print(i,\"/\",i*i, end=\"  \")\n",
    "    i += 1"
   ]
  },
  {
   "cell_type": "code",
   "execution_count": null,
   "id": "dc0392b1",
   "metadata": {
    "id": "dc0392b1",
    "outputId": "e79f4a82-2087-4c0b-9667-f5d844904263"
   },
   "outputs": [
    {
     "name": "stdout",
     "output_type": "stream",
     "text": [
      "1/1  2/4  3/9  4/16  5/25  6/36  7/49  8/64  9/81  10/100  "
     ]
    }
   ],
   "source": [
    "i = 1\n",
    "\n",
    "while i<=10:\n",
    "    print(i,end=\"/\")\n",
    "    print(i*i, end=\"  \")\n",
    "    i += 1"
   ]
  },
  {
   "cell_type": "markdown",
   "id": "f36c748e",
   "metadata": {
    "id": "f36c748e"
   },
   "source": [
    "# break statement"
   ]
  },
  {
   "cell_type": "code",
   "execution_count": null,
   "id": "dd121e7a",
   "metadata": {
    "id": "dd121e7a",
    "outputId": "0d2115bb-6153-4073-e96c-57b91501d77c"
   },
   "outputs": [
    {
     "name": "stdout",
     "output_type": "stream",
     "text": [
      "1\n",
      "2\n",
      "3\n",
      "4\n",
      "Hi\n"
     ]
    }
   ],
   "source": [
    "i = 1\n",
    "\n",
    "while i <= 10:\n",
    "    if i == 5:\n",
    "        print(\"Hi\")\n",
    "        break\n",
    "    print(i)\n",
    "    i += 1\n"
   ]
  },
  {
   "cell_type": "markdown",
   "id": "91bf977d",
   "metadata": {
    "id": "91bf977d"
   },
   "source": [
    "# continue statement"
   ]
  },
  {
   "cell_type": "code",
   "execution_count": 7,
   "id": "c3c02404",
   "metadata": {
    "colab": {
     "base_uri": "https://localhost:8080/"
    },
    "executionInfo": {
     "elapsed": 296,
     "status": "ok",
     "timestamp": 1683097110356,
     "user": {
      "displayName": "Mohamed Mahmoud Ali",
      "userId": "09893787734904302111"
     },
     "user_tz": -180
    },
    "id": "c3c02404",
    "outputId": "0aa91ed8-8b69-4a65-8098-c214474d66b3"
   },
   "outputs": [
    {
     "name": "stdout",
     "output_type": "stream",
     "text": [
      "1\n",
      "ODD\n",
      "3\n",
      "ODD\n",
      "5\n",
      "ODD\n",
      "7\n",
      "ODD\n",
      "9\n",
      "ODD\n",
      "11\n",
      "ODD\n"
     ]
    }
   ],
   "source": [
    "i = 0\n",
    "\n",
    "while i<=10:\n",
    "    i += 1\n",
    "    if i%2 == 0:\n",
    "        continue\n",
    "    else:\n",
    "        print(i)      # 1  3 \n",
    "    print(\"ODD\")"
   ]
  },
  {
   "cell_type": "markdown",
   "id": "72d2b6ee",
   "metadata": {
    "id": "72d2b6ee"
   },
   "source": [
    "**WAP to enter 5 numbers from user and print them.**"
   ]
  },
  {
   "cell_type": "code",
   "execution_count": null,
   "id": "98e78868",
   "metadata": {
    "id": "98e78868",
    "outputId": "3169472a-8ed4-4f91-95a8-b6d4694fdcb2"
   },
   "outputs": [
    {
     "name": "stdout",
     "output_type": "stream",
     "text": [
      "Enter a number: 10\n",
      "Your Number is: 10\n",
      "Enter a number: 20\n",
      "Your Number is: 20\n",
      "Enter a number: 30\n",
      "Your Number is: 30\n",
      "Enter a number: 40\n",
      "Your Number is: 40\n",
      "Enter a number: 50\n",
      "Your Number is: 50\n"
     ]
    }
   ],
   "source": [
    "i = 1\n",
    "\n",
    "while i<=5:\n",
    "    a = int(input(\"Enter a number: \"))\n",
    "    print(\"Your Number is:\", a)\n",
    "    i += 1"
   ]
  },
  {
   "cell_type": "markdown",
   "id": "eeec4b71",
   "metadata": {
    "id": "eeec4b71"
   },
   "source": [
    "**WAP to enter 5 numbers from user and print sum of them.**"
   ]
  },
  {
   "cell_type": "code",
   "execution_count": null,
   "id": "2f507148",
   "metadata": {
    "id": "2f507148"
   },
   "outputs": [],
   "source": []
  }
 ],
 "metadata": {
  "colab": {
   "provenance": []
  },
  "kernelspec": {
   "display_name": "Python 3 (ipykernel)",
   "language": "python",
   "name": "python3"
  },
  "language_info": {
   "codemirror_mode": {
    "name": "ipython",
    "version": 3
   },
   "file_extension": ".py",
   "mimetype": "text/x-python",
   "name": "python",
   "nbconvert_exporter": "python",
   "pygments_lexer": "ipython3",
   "version": "3.10.9"
  }
 },
 "nbformat": 4,
 "nbformat_minor": 5
}
