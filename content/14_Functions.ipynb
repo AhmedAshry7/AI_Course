{
 "cells": [
  {
   "cell_type": "markdown",
   "id": "42bc82cf",
   "metadata": {
    "id": "42bc82cf"
   },
   "source": [
    "# Functions"
   ]
  },
  {
   "cell_type": "code",
   "execution_count": 1,
   "id": "fd4adff4",
   "metadata": {
    "colab": {
     "base_uri": "https://localhost:8080/"
    },
    "executionInfo": {
     "elapsed": 14,
     "status": "ok",
     "timestamp": 1683705193842,
     "user": {
      "displayName": "Mohamed Mahmoud Ali",
      "userId": "09893787734904302111"
     },
     "user_tz": -180
    },
    "id": "fd4adff4",
    "outputId": "6a4f6db1-133e-4752-fde7-d3dba1e5a7a3"
   },
   "outputs": [
    {
     "name": "stdout",
     "output_type": "stream",
     "text": [
      "Hello\n"
     ]
    }
   ],
   "source": [
    "print(\"Hello\")"
   ]
  },
  {
   "cell_type": "code",
   "execution_count": 4,
   "id": "6c6c14ad",
   "metadata": {
    "executionInfo": {
     "elapsed": 567,
     "status": "ok",
     "timestamp": 1683705273292,
     "user": {
      "displayName": "Mohamed Mahmoud Ali",
      "userId": "09893787734904302111"
     },
     "user_tz": -180
    },
    "id": "6c6c14ad"
   },
   "outputs": [],
   "source": [
    "def indore():               # definition of a function\n",
    "    '''this is my frist function'''\n",
    "    print(\"Hello Indore\")\n",
    "    print(\"I am the best!\")"
   ]
  },
  {
   "cell_type": "code",
   "execution_count": null,
   "id": "b9a62af8",
   "metadata": {
    "id": "b9a62af8",
    "outputId": "0420747f-4448-4803-99e9-daa011f5fddc"
   },
   "outputs": [
    {
     "name": "stdout",
     "output_type": "stream",
     "text": [
      "Hello Indore\n",
      "I am the best!\n"
     ]
    }
   ],
   "source": [
    "indore()                     # calling of a function"
   ]
  },
  {
   "cell_type": "code",
   "execution_count": 5,
   "id": "JuNZPfn9p6Mk",
   "metadata": {
    "colab": {
     "base_uri": "https://localhost:8080/"
    },
    "executionInfo": {
     "elapsed": 9,
     "status": "ok",
     "timestamp": 1683705283039,
     "user": {
      "displayName": "Mohamed Mahmoud Ali",
      "userId": "09893787734904302111"
     },
     "user_tz": -180
    },
    "id": "JuNZPfn9p6Mk",
    "outputId": "00a0a791-01db-45c5-baf2-c7ef83938e33"
   },
   "outputs": [
    {
     "name": "stdout",
     "output_type": "stream",
     "text": [
      "Help on function indore in module __main__:\n",
      "\n",
      "indore()\n",
      "    this is my frist function\n",
      "\n"
     ]
    }
   ],
   "source": [
    "help(indore)"
   ]
  },
  {
   "cell_type": "code",
   "execution_count": null,
   "id": "565bb08a",
   "metadata": {
    "id": "565bb08a",
    "outputId": "2aba4721-4eae-4af8-ffe1-6d905a5016b4"
   },
   "outputs": [
    {
     "name": "stdout",
     "output_type": "stream",
     "text": [
      "Help on built-in function max in module builtins:\n",
      "\n",
      "max(...)\n",
      "    max(iterable, *[, default=obj, key=func]) -> value\n",
      "    max(arg1, arg2, *args, *[, key=func]) -> value\n",
      "    \n",
      "    With a single iterable argument, return its biggest item. The\n",
      "    default keyword-only argument specifies an object to return if\n",
      "    the provided iterable is empty.\n",
      "    With two or more arguments, return the largest argument.\n",
      "\n"
     ]
    }
   ],
   "source": [
    "help(max)"
   ]
  },
  {
   "cell_type": "code",
   "execution_count": null,
   "id": "afbf3d66",
   "metadata": {
    "id": "afbf3d66"
   },
   "outputs": [],
   "source": [
    "max?"
   ]
  },
  {
   "cell_type": "code",
   "execution_count": null,
   "id": "f554fd88",
   "metadata": {
    "id": "f554fd88",
    "outputId": "18f00868-6f42-4c14-8f58-621040003ad9",
    "scrolled": true
   },
   "outputs": [
    {
     "name": "stdout",
     "output_type": "stream",
     "text": [
      "1\n",
      "2\n",
      "3\n"
     ]
    }
   ],
   "source": [
    "def paint():\n",
    "    print(1)\n",
    "    print(2)\n",
    "    print(3)\n",
    "\n",
    "paint()"
   ]
  },
  {
   "cell_type": "code",
   "execution_count": null,
   "id": "8a1a56c3",
   "metadata": {
    "id": "8a1a56c3",
    "outputId": "cbc6eba2-46c8-492e-e6a1-7c7e64311b91"
   },
   "outputs": [
    {
     "name": "stdout",
     "output_type": "stream",
     "text": [
      "1\n",
      "2\n",
      "3\n",
      "Hello\n",
      "1\n",
      "2\n",
      "3\n",
      "Hello\n",
      "1\n",
      "2\n",
      "3\n"
     ]
    }
   ],
   "source": [
    "paint()\n",
    "print(\"Hello\")\n",
    "paint()\n",
    "print(\"Hello\")\n",
    "paint()"
   ]
  },
  {
   "cell_type": "code",
   "execution_count": null,
   "id": "e68a2ab1",
   "metadata": {
    "id": "e68a2ab1",
    "outputId": "0284d012-a693-40bb-a75d-c529a242d8a5"
   },
   "outputs": [
    {
     "ename": "NameError",
     "evalue": "name 'hello' is not defined",
     "output_type": "error",
     "traceback": [
      "\u001b[1;31m---------------------------------------------------------------------------\u001b[0m",
      "\u001b[1;31mNameError\u001b[0m                                 Traceback (most recent call last)",
      "\u001b[1;32m<ipython-input-9-ec0ffb3daaa0>\u001b[0m in \u001b[0;36m<module>\u001b[1;34m\u001b[0m\n\u001b[1;32m----> 1\u001b[1;33m \u001b[0mhello\u001b[0m\u001b[1;33m(\u001b[0m\u001b[1;33m)\u001b[0m\u001b[1;33m\u001b[0m\u001b[1;33m\u001b[0m\u001b[0m\n\u001b[0m\u001b[0;32m      2\u001b[0m \u001b[1;33m\u001b[0m\u001b[0m\n\u001b[0;32m      3\u001b[0m \u001b[1;32mdef\u001b[0m \u001b[0mhello\u001b[0m\u001b[1;33m(\u001b[0m\u001b[1;33m)\u001b[0m\u001b[1;33m:\u001b[0m\u001b[1;33m\u001b[0m\u001b[1;33m\u001b[0m\u001b[0m\n\u001b[0;32m      4\u001b[0m     \u001b[0mprint\u001b[0m\u001b[1;33m(\u001b[0m\u001b[1;34m\"Hello User\"\u001b[0m\u001b[1;33m)\u001b[0m\u001b[1;33m\u001b[0m\u001b[1;33m\u001b[0m\u001b[0m\n",
      "\u001b[1;31mNameError\u001b[0m: name 'hello' is not defined"
     ]
    }
   ],
   "source": [
    "hello()\n",
    "\n",
    "def hello():\n",
    "    print(\"Hello User\")"
   ]
  },
  {
   "cell_type": "markdown",
   "id": "465b3911",
   "metadata": {
    "id": "465b3911"
   },
   "source": [
    "# Arguments"
   ]
  },
  {
   "cell_type": "code",
   "execution_count": null,
   "id": "d470c9cb",
   "metadata": {
    "id": "d470c9cb",
    "outputId": "d615ea81-0b70-4026-f956-564db4b0b8cd"
   },
   "outputs": [
    {
     "name": "stdout",
     "output_type": "stream",
     "text": [
      "Hello\n"
     ]
    }
   ],
   "source": [
    "print(\"Hello\")"
   ]
  },
  {
   "cell_type": "code",
   "execution_count": 10,
   "id": "4842cade",
   "metadata": {
    "executionInfo": {
     "elapsed": 2,
     "status": "ok",
     "timestamp": 1683705479912,
     "user": {
      "displayName": "Mohamed Mahmoud Ali",
      "userId": "09893787734904302111"
     },
     "user_tz": -180
    },
    "id": "4842cade"
   },
   "outputs": [],
   "source": [
    "def indore(a):         # a = \"Hi\"\n",
    "    print(a , \"!!\")"
   ]
  },
  {
   "cell_type": "code",
   "execution_count": 11,
   "id": "c9360916",
   "metadata": {
    "colab": {
     "base_uri": "https://localhost:8080/"
    },
    "executionInfo": {
     "elapsed": 3,
     "status": "ok",
     "timestamp": 1683705484538,
     "user": {
      "displayName": "Mohamed Mahmoud Ali",
      "userId": "09893787734904302111"
     },
     "user_tz": -180
    },
    "id": "c9360916",
    "outputId": "fbc3d6ab-bd31-436c-81de-1c8de57c9698"
   },
   "outputs": [
    {
     "name": "stdout",
     "output_type": "stream",
     "text": [
      "4 !!\n"
     ]
    }
   ],
   "source": [
    "indore(4)"
   ]
  },
  {
   "cell_type": "code",
   "execution_count": 12,
   "id": "515787f1",
   "metadata": {
    "colab": {
     "base_uri": "https://localhost:8080/"
    },
    "executionInfo": {
     "elapsed": 1345,
     "status": "ok",
     "timestamp": 1683705500727,
     "user": {
      "displayName": "Mohamed Mahmoud Ali",
      "userId": "09893787734904302111"
     },
     "user_tz": -180
    },
    "id": "515787f1",
    "outputId": "8b8ea697-783d-40ee-d71a-b819fe3e987e"
   },
   "outputs": [
    {
     "name": "stdout",
     "output_type": "stream",
     "text": [
      "Hello !!\n",
      "India !!\n",
      "Chennai !!\n"
     ]
    }
   ],
   "source": [
    "indore(\"Hello\")\n",
    "indore(\"India\")\n",
    "indore(\"Chennai\")"
   ]
  },
  {
   "cell_type": "code",
   "execution_count": 13,
   "id": "55ddbe40",
   "metadata": {
    "executionInfo": {
     "elapsed": 1457,
     "status": "ok",
     "timestamp": 1683705517851,
     "user": {
      "displayName": "Mohamed Mahmoud Ali",
      "userId": "09893787734904302111"
     },
     "user_tz": -180
    },
    "id": "55ddbe40"
   },
   "outputs": [],
   "source": [
    "def add(x , y):\n",
    "    print(x + y)"
   ]
  },
  {
   "cell_type": "code",
   "execution_count": 15,
   "id": "7f7d61b8",
   "metadata": {
    "colab": {
     "base_uri": "https://localhost:8080/"
    },
    "executionInfo": {
     "elapsed": 4,
     "status": "ok",
     "timestamp": 1683705523722,
     "user": {
      "displayName": "Mohamed Mahmoud Ali",
      "userId": "09893787734904302111"
     },
     "user_tz": -180
    },
    "id": "7f7d61b8",
    "outputId": "37231691-ca79-4713-945f-54328cb02a9c"
   },
   "outputs": [
    {
     "name": "stdout",
     "output_type": "stream",
     "text": [
      "15\n"
     ]
    }
   ],
   "source": [
    "add(10,5)"
   ]
  },
  {
   "cell_type": "code",
   "execution_count": 16,
   "id": "c5caa984",
   "metadata": {
    "colab": {
     "base_uri": "https://localhost:8080/",
     "height": 166
    },
    "executionInfo": {
     "elapsed": 5,
     "status": "error",
     "timestamp": 1683705528891,
     "user": {
      "displayName": "Mohamed Mahmoud Ali",
      "userId": "09893787734904302111"
     },
     "user_tz": -180
    },
    "id": "c5caa984",
    "outputId": "25cc3a96-cb23-4913-caca-47fad0ed9b0b"
   },
   "outputs": [
    {
     "ename": "TypeError",
     "evalue": "ignored",
     "output_type": "error",
     "traceback": [
      "\u001b[0;31m---------------------------------------------------------------------------\u001b[0m",
      "\u001b[0;31mTypeError\u001b[0m                                 Traceback (most recent call last)",
      "\u001b[0;32m<ipython-input-16-d5d29de3ed94>\u001b[0m in \u001b[0;36m<cell line: 1>\u001b[0;34m()\u001b[0m\n\u001b[0;32m----> 1\u001b[0;31m \u001b[0madd\u001b[0m\u001b[0;34m(\u001b[0m\u001b[0;34m)\u001b[0m\u001b[0;34m\u001b[0m\u001b[0;34m\u001b[0m\u001b[0m\n\u001b[0m",
      "\u001b[0;31mTypeError\u001b[0m: add() missing 2 required positional arguments: 'x' and 'y'"
     ]
    }
   ],
   "source": [
    "add()"
   ]
  },
  {
   "cell_type": "code",
   "execution_count": 17,
   "id": "d10ae7bd",
   "metadata": {
    "colab": {
     "base_uri": "https://localhost:8080/",
     "height": 166
    },
    "executionInfo": {
     "elapsed": 4,
     "status": "error",
     "timestamp": 1683705536071,
     "user": {
      "displayName": "Mohamed Mahmoud Ali",
      "userId": "09893787734904302111"
     },
     "user_tz": -180
    },
    "id": "d10ae7bd",
    "outputId": "41ee3fff-72cc-4eda-ce09-3a2be249ec1d"
   },
   "outputs": [
    {
     "ename": "TypeError",
     "evalue": "ignored",
     "output_type": "error",
     "traceback": [
      "\u001b[0;31m---------------------------------------------------------------------------\u001b[0m",
      "\u001b[0;31mTypeError\u001b[0m                                 Traceback (most recent call last)",
      "\u001b[0;32m<ipython-input-17-ff1b6584ceb8>\u001b[0m in \u001b[0;36m<cell line: 1>\u001b[0;34m()\u001b[0m\n\u001b[0;32m----> 1\u001b[0;31m \u001b[0madd\u001b[0m\u001b[0;34m(\u001b[0m\u001b[0;36m1\u001b[0m\u001b[0;34m,\u001b[0m\u001b[0;36m2\u001b[0m\u001b[0;34m,\u001b[0m\u001b[0;36m3\u001b[0m\u001b[0;34m)\u001b[0m\u001b[0;34m\u001b[0m\u001b[0;34m\u001b[0m\u001b[0m\n\u001b[0m",
      "\u001b[0;31mTypeError\u001b[0m: add() takes 2 positional arguments but 3 were given"
     ]
    }
   ],
   "source": [
    "add(1,2,3)"
   ]
  },
  {
   "cell_type": "code",
   "execution_count": 18,
   "id": "2535ac26",
   "metadata": {
    "executionInfo": {
     "elapsed": 4,
     "status": "ok",
     "timestamp": 1683705555414,
     "user": {
      "displayName": "Mohamed Mahmoud Ali",
      "userId": "09893787734904302111"
     },
     "user_tz": -180
    },
    "id": "2535ac26"
   },
   "outputs": [],
   "source": [
    "def add(x , y):\n",
    "    print(x + y)"
   ]
  },
  {
   "cell_type": "code",
   "execution_count": 20,
   "id": "d595cd7f",
   "metadata": {
    "colab": {
     "base_uri": "https://localhost:8080/"
    },
    "executionInfo": {
     "elapsed": 8,
     "status": "ok",
     "timestamp": 1683705561799,
     "user": {
      "displayName": "Mohamed Mahmoud Ali",
      "userId": "09893787734904302111"
     },
     "user_tz": -180
    },
    "id": "d595cd7f",
    "outputId": "42af3df6-6733-4c0d-8bdd-f38bf298a7b8"
   },
   "outputs": [
    {
     "name": "stdout",
     "output_type": "stream",
     "text": [
      "30\n"
     ]
    }
   ],
   "source": [
    "add(10,20)"
   ]
  },
  {
   "cell_type": "code",
   "execution_count": 21,
   "id": "c3b6ab0d",
   "metadata": {
    "colab": {
     "base_uri": "https://localhost:8080/"
    },
    "executionInfo": {
     "elapsed": 10,
     "status": "ok",
     "timestamp": 1683705562320,
     "user": {
      "displayName": "Mohamed Mahmoud Ali",
      "userId": "09893787734904302111"
     },
     "user_tz": -180
    },
    "id": "c3b6ab0d",
    "outputId": "6e6235fe-c31a-4c0e-cc7b-7117a024168f"
   },
   "outputs": [
    {
     "name": "stdout",
     "output_type": "stream",
     "text": [
      "15\n"
     ]
    }
   ],
   "source": [
    "add(7,8)"
   ]
  },
  {
   "cell_type": "code",
   "execution_count": null,
   "id": "cd58ad61",
   "metadata": {
    "id": "cd58ad61"
   },
   "outputs": [],
   "source": [
    "1. Create a function which takes a value and print reverse of it"
   ]
  },
  {
   "cell_type": "code",
   "execution_count": null,
   "id": "7a6d70ab",
   "metadata": {
    "id": "7a6d70ab"
   },
   "outputs": [],
   "source": [
    "2. Create a function which takes a value and check if it a pallindrome or not"
   ]
  },
  {
   "cell_type": "code",
   "execution_count": null,
   "id": "42fa3931",
   "metadata": {
    "id": "42fa3931"
   },
   "outputs": [],
   "source": []
  }
 ],
 "metadata": {
  "colab": {
   "provenance": []
  },
  "kernelspec": {
   "display_name": "Python 3 (ipykernel)",
   "language": "python",
   "name": "python3"
  },
  "language_info": {
   "codemirror_mode": {
    "name": "ipython",
    "version": 3
   },
   "file_extension": ".py",
   "mimetype": "text/x-python",
   "name": "python",
   "nbconvert_exporter": "python",
   "pygments_lexer": "ipython3",
   "version": "3.10.9"
  }
 },
 "nbformat": 4,
 "nbformat_minor": 5
}
