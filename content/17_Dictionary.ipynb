{
 "cells": [
  {
   "cell_type": "markdown",
   "id": "5e2b457e",
   "metadata": {
    "id": "5e2b457e"
   },
   "source": [
    "# Dictionary"
   ]
  },
  {
   "cell_type": "code",
   "execution_count": null,
   "id": "b193a757",
   "metadata": {
    "id": "b193a757"
   },
   "outputs": [],
   "source": [
    "l = [10,20,30]\n",
    "#    0  1  2"
   ]
  },
  {
   "cell_type": "code",
   "execution_count": null,
   "id": "9940b85e",
   "metadata": {
    "id": "9940b85e"
   },
   "outputs": [],
   "source": [
    "hashing\n",
    "\n",
    "55 - 55%10 - 5\n",
    "\n",
    "40 - 40%10 - 0\n",
    "\n"
   ]
  },
  {
   "cell_type": "code",
   "execution_count": null,
   "id": "69bcf8d7",
   "metadata": {
    "id": "69bcf8d7"
   },
   "outputs": [],
   "source": [
    "[40, , , , ,55]"
   ]
  },
  {
   "cell_type": "code",
   "execution_count": null,
   "id": "a37b4015",
   "metadata": {
    "id": "a37b4015"
   },
   "outputs": [],
   "source": [
    "55"
   ]
  },
  {
   "cell_type": "code",
   "execution_count": null,
   "id": "4a6cfd90",
   "metadata": {
    "id": "4a6cfd90"
   },
   "outputs": [],
   "source": [
    "# collision\n",
    "\n",
    "65 - 65%10 - 5"
   ]
  },
  {
   "cell_type": "code",
   "execution_count": null,
   "id": "eb38594d",
   "metadata": {
    "id": "eb38594d"
   },
   "outputs": [],
   "source": [
    "[40, , , , ,55]\n",
    "             |\n",
    "            65\n",
    "             |\n",
    "            45"
   ]
  },
  {
   "cell_type": "code",
   "execution_count": null,
   "id": "b708fe70",
   "metadata": {
    "id": "b708fe70"
   },
   "outputs": [],
   "source": [
    "key: value\n",
    "5 : 65\n",
    "3 : 45"
   ]
  },
  {
   "cell_type": "code",
   "execution_count": 1,
   "id": "7f653974",
   "metadata": {
    "colab": {
     "base_uri": "https://localhost:8080/"
    },
    "executionInfo": {
     "elapsed": 6,
     "status": "ok",
     "timestamp": 1683618729853,
     "user": {
      "displayName": "Mohamed Mahmoud Ali",
      "userId": "09893787734904302111"
     },
     "user_tz": -180
    },
    "id": "7f653974",
    "outputId": "5928e6e8-e7c0-4c35-e874-2de8f47cec30"
   },
   "outputs": [
    {
     "name": "stdout",
     "output_type": "stream",
     "text": [
      "{'A': 'Indore', 5: 65, 'goa': 45}\n"
     ]
    }
   ],
   "source": [
    "# unordered data structure\n",
    "# { key: value}\n",
    "d = {\"A\":\"Indore\", 5: 65, \"goa\": 45}\n",
    "\n",
    "print(d)"
   ]
  },
  {
   "cell_type": "code",
   "execution_count": 6,
   "id": "kk7M28AyftgP",
   "metadata": {
    "colab": {
     "base_uri": "https://localhost:8080/",
     "height": 35
    },
    "executionInfo": {
     "elapsed": 9,
     "status": "ok",
     "timestamp": 1683618783562,
     "user": {
      "displayName": "Mohamed Mahmoud Ali",
      "userId": "09893787734904302111"
     },
     "user_tz": -180
    },
    "id": "kk7M28AyftgP",
    "outputId": "89660747-a3ad-4562-d684-2ebde0efe2c1"
   },
   "outputs": [
    {
     "data": {
      "application/vnd.google.colaboratory.intrinsic+json": {
       "type": "string"
      },
      "text/plain": [
       "'Indore'"
      ]
     },
     "execution_count": 6,
     "metadata": {},
     "output_type": "execute_result"
    }
   ],
   "source": [
    "d['A']"
   ]
  },
  {
   "cell_type": "code",
   "execution_count": null,
   "id": "78526eb5",
   "metadata": {
    "id": "78526eb5",
    "outputId": "79f2695f-871c-4361-df91-3d5361f4739e"
   },
   "outputs": [
    {
     "name": "stdout",
     "output_type": "stream",
     "text": [
      "45\n"
     ]
    }
   ],
   "source": [
    "print(d['goa'])"
   ]
  },
  {
   "cell_type": "code",
   "execution_count": 7,
   "id": "8746f84c",
   "metadata": {
    "colab": {
     "base_uri": "https://localhost:8080/",
     "height": 166
    },
    "executionInfo": {
     "elapsed": 1418,
     "status": "error",
     "timestamp": 1683618806634,
     "user": {
      "displayName": "Mohamed Mahmoud Ali",
      "userId": "09893787734904302111"
     },
     "user_tz": -180
    },
    "id": "8746f84c",
    "outputId": "c1ed7b83-a852-4807-89df-3d7170faa5cc"
   },
   "outputs": [
    {
     "ename": "KeyError",
     "evalue": "ignored",
     "output_type": "error",
     "traceback": [
      "\u001b[0;31m---------------------------------------------------------------------------\u001b[0m",
      "\u001b[0;31mKeyError\u001b[0m                                  Traceback (most recent call last)",
      "\u001b[0;32m<ipython-input-7-9d9ad480aa99>\u001b[0m in \u001b[0;36m<cell line: 1>\u001b[0;34m()\u001b[0m\n\u001b[0;32m----> 1\u001b[0;31m \u001b[0mprint\u001b[0m\u001b[0;34m(\u001b[0m\u001b[0md\u001b[0m\u001b[0;34m[\u001b[0m\u001b[0;36m45\u001b[0m\u001b[0;34m]\u001b[0m\u001b[0;34m)\u001b[0m\u001b[0;34m\u001b[0m\u001b[0;34m\u001b[0m\u001b[0m\n\u001b[0m",
      "\u001b[0;31mKeyError\u001b[0m: 45"
     ]
    }
   ],
   "source": [
    "print(d[45])"
   ]
  },
  {
   "cell_type": "code",
   "execution_count": null,
   "id": "0e0a9e85",
   "metadata": {
    "id": "0e0a9e85",
    "outputId": "5498a529-64a6-4197-b025-8dc91e78fc35"
   },
   "outputs": [
    {
     "name": "stdout",
     "output_type": "stream",
     "text": [
      "65\n"
     ]
    }
   ],
   "source": [
    "print(d[5])"
   ]
  },
  {
   "cell_type": "code",
   "execution_count": null,
   "id": "0786815c",
   "metadata": {
    "id": "0786815c",
    "outputId": "01ffb3c3-69c0-4e00-eda9-bf6535824877"
   },
   "outputs": [
    {
     "ename": "KeyError",
     "evalue": "'5'",
     "output_type": "error",
     "traceback": [
      "\u001b[1;31m---------------------------------------------------------------------------\u001b[0m",
      "\u001b[1;31mKeyError\u001b[0m                                  Traceback (most recent call last)",
      "\u001b[1;32m<ipython-input-5-10a63781ac18>\u001b[0m in \u001b[0;36m<module>\u001b[1;34m\u001b[0m\n\u001b[1;32m----> 1\u001b[1;33m \u001b[0mprint\u001b[0m\u001b[1;33m(\u001b[0m\u001b[0md\u001b[0m\u001b[1;33m[\u001b[0m\u001b[1;34m'5'\u001b[0m\u001b[1;33m]\u001b[0m\u001b[1;33m)\u001b[0m\u001b[1;33m\u001b[0m\u001b[1;33m\u001b[0m\u001b[0m\n\u001b[0m",
      "\u001b[1;31mKeyError\u001b[0m: '5'"
     ]
    }
   ],
   "source": [
    "print(d['5'])"
   ]
  },
  {
   "cell_type": "code",
   "execution_count": null,
   "id": "25a6334e",
   "metadata": {
    "id": "25a6334e",
    "outputId": "7283b623-3ca4-419a-fdb1-d81d631d76f5"
   },
   "outputs": [
    {
     "name": "stdout",
     "output_type": "stream",
     "text": [
      "<class 'dict'>\n"
     ]
    }
   ],
   "source": [
    "print(type(d))"
   ]
  },
  {
   "cell_type": "code",
   "execution_count": null,
   "id": "012a7da1",
   "metadata": {
    "id": "012a7da1",
    "outputId": "7ca2692a-a734-4510-b5d8-463eb5c6e769"
   },
   "outputs": [
    {
     "name": "stdout",
     "output_type": "stream",
     "text": [
      "<class 'int'>\n"
     ]
    }
   ],
   "source": [
    "print(type(d['goa']))"
   ]
  },
  {
   "cell_type": "code",
   "execution_count": null,
   "id": "f2ab976f",
   "metadata": {
    "id": "f2ab976f",
    "outputId": "3539dc03-1c9c-48b8-eed5-c65d18d115ed"
   },
   "outputs": [
    {
     "name": "stdout",
     "output_type": "stream",
     "text": [
      "{}\n",
      "<class 'dict'>\n"
     ]
    }
   ],
   "source": [
    "d = {}\n",
    "print(d)\n",
    "print(type(d))"
   ]
  },
  {
   "cell_type": "code",
   "execution_count": null,
   "id": "72d8d61b",
   "metadata": {
    "id": "72d8d61b",
    "outputId": "d80ca613-af30-4a37-a334-d9c680751d50"
   },
   "outputs": [
    {
     "name": "stdout",
     "output_type": "stream",
     "text": [
      "[255, 0, 0]\n"
     ]
    }
   ],
   "source": [
    "color = {\n",
    "    \"red\":[255,0,0],\n",
    "    \"green\":[0,255,0],\n",
    "    \"blue\":[0,0,255]\n",
    "}\n",
    "print(color['red'])"
   ]
  },
  {
   "cell_type": "code",
   "execution_count": null,
   "id": "8d97f30f",
   "metadata": {
    "id": "8d97f30f",
    "outputId": "734ddeb5-382a-4be7-d9b5-5d085c14b8d7"
   },
   "outputs": [
    {
     "ename": "KeyError",
     "evalue": "'yellow'",
     "output_type": "error",
     "traceback": [
      "\u001b[1;31m---------------------------------------------------------------------------\u001b[0m",
      "\u001b[1;31mKeyError\u001b[0m                                  Traceback (most recent call last)",
      "\u001b[1;32m<ipython-input-10-5341b40bca8b>\u001b[0m in \u001b[0;36m<module>\u001b[1;34m\u001b[0m\n\u001b[1;32m----> 1\u001b[1;33m \u001b[0mcolor\u001b[0m\u001b[1;33m[\u001b[0m\u001b[1;34m'yellow'\u001b[0m\u001b[1;33m]\u001b[0m\u001b[1;33m\u001b[0m\u001b[1;33m\u001b[0m\u001b[0m\n\u001b[0m",
      "\u001b[1;31mKeyError\u001b[0m: 'yellow'"
     ]
    }
   ],
   "source": [
    "color['yellow']"
   ]
  },
  {
   "cell_type": "code",
   "execution_count": null,
   "id": "131fd5aa",
   "metadata": {
    "id": "131fd5aa",
    "outputId": "bc524d19-e0b1-4f72-abfa-aa4fd7cf2e4e"
   },
   "outputs": [
    {
     "name": "stdout",
     "output_type": "stream",
     "text": [
      "<class 'list'>\n"
     ]
    }
   ],
   "source": [
    "color = {\n",
    "    \"red\":[255,0,0],\n",
    "    \"green\":[0,255,0],\n",
    "    \"blue\":[0,0,255]\n",
    "}\n",
    "\n",
    "print(type(color['red']))"
   ]
  },
  {
   "cell_type": "code",
   "execution_count": null,
   "id": "dd0b67b0",
   "metadata": {
    "id": "dd0b67b0",
    "outputId": "0ab536aa-3044-4f91-b0ba-37eb544dc3d0"
   },
   "outputs": [
    {
     "name": "stdout",
     "output_type": "stream",
     "text": [
      "255\n"
     ]
    }
   ],
   "source": [
    "print(color['red'][0])"
   ]
  },
  {
   "cell_type": "code",
   "execution_count": null,
   "id": "11b9e931",
   "metadata": {
    "id": "11b9e931",
    "outputId": "917a2c81-a17f-48e6-ecd2-4a05afbc0f5a"
   },
   "outputs": [
    {
     "name": "stdout",
     "output_type": "stream",
     "text": [
      "255\n"
     ]
    }
   ],
   "source": [
    "x = color['red']\n",
    "\n",
    "print(x[0])"
   ]
  },
  {
   "cell_type": "code",
   "execution_count": null,
   "id": "9bba1f3e",
   "metadata": {
    "id": "9bba1f3e",
    "outputId": "09574388-f3b9-4afb-ae80-4f0ec08933cb"
   },
   "outputs": [
    {
     "name": "stdout",
     "output_type": "stream",
     "text": [
      "1\n"
     ]
    }
   ],
   "source": [
    "d = {1:1, 2:2, 3:4}\n",
    "\n",
    "print(d[1])"
   ]
  },
  {
   "cell_type": "code",
   "execution_count": 9,
   "id": "96d27da0",
   "metadata": {
    "colab": {
     "base_uri": "https://localhost:8080/",
     "height": 218
    },
    "executionInfo": {
     "elapsed": 6,
     "status": "error",
     "timestamp": 1683618936635,
     "user": {
      "displayName": "Mohamed Mahmoud Ali",
      "userId": "09893787734904302111"
     },
     "user_tz": -180
    },
    "id": "96d27da0",
    "outputId": "c68b3ee3-0eb8-4350-e427-2a5cc13946bf"
   },
   "outputs": [
    {
     "ename": "TypeError",
     "evalue": "ignored",
     "output_type": "error",
     "traceback": [
      "\u001b[0;31m---------------------------------------------------------------------------\u001b[0m",
      "\u001b[0;31mTypeError\u001b[0m                                 Traceback (most recent call last)",
      "\u001b[0;32m<ipython-input-9-8949d5d144a5>\u001b[0m in \u001b[0;36m<cell line: 1>\u001b[0;34m()\u001b[0m\n\u001b[0;32m----> 1\u001b[0;31m \u001b[0md\u001b[0m \u001b[0;34m=\u001b[0m \u001b[0;34m{\u001b[0m\u001b[0;34m[\u001b[0m\u001b[0;36m1\u001b[0m\u001b[0;34m]\u001b[0m\u001b[0;34m:\u001b[0m\u001b[0;36m1\u001b[0m\u001b[0;34m,\u001b[0m \u001b[0;36m2\u001b[0m\u001b[0;34m:\u001b[0m\u001b[0;36m2\u001b[0m\u001b[0;34m,\u001b[0m \u001b[0;36m3\u001b[0m\u001b[0;34m:\u001b[0m\u001b[0;36m4\u001b[0m\u001b[0;34m}\u001b[0m\u001b[0;34m\u001b[0m\u001b[0;34m\u001b[0m\u001b[0m\n\u001b[0m\u001b[1;32m      2\u001b[0m \u001b[0;34m\u001b[0m\u001b[0m\n\u001b[1;32m      3\u001b[0m \u001b[0mprint\u001b[0m\u001b[0;34m(\u001b[0m\u001b[0md\u001b[0m\u001b[0;34m[\u001b[0m\u001b[0;36m1\u001b[0m\u001b[0;34m]\u001b[0m\u001b[0;34m)\u001b[0m            \u001b[0;31m# key should not be mutable\u001b[0m\u001b[0;34m\u001b[0m\u001b[0;34m\u001b[0m\u001b[0m\n\u001b[1;32m      4\u001b[0m \u001b[0;31m#  key should be immutable\u001b[0m\u001b[0;34m\u001b[0m\u001b[0;34m\u001b[0m\u001b[0m\n",
      "\u001b[0;31mTypeError\u001b[0m: unhashable type: 'list'"
     ]
    }
   ],
   "source": [
    "d = {[1]:1, 2:2, 3:4}\n",
    "\n",
    "print(d[1])            # key should not be mutable\n",
    "#  key should be immutable"
   ]
  },
  {
   "cell_type": "markdown",
   "id": "93ccce14",
   "metadata": {
    "id": "93ccce14"
   },
   "source": [
    "# Dictionary functions"
   ]
  },
  {
   "cell_type": "code",
   "execution_count": 12,
   "id": "c9fdbbd8",
   "metadata": {
    "colab": {
     "base_uri": "https://localhost:8080/"
    },
    "executionInfo": {
     "elapsed": 4,
     "status": "ok",
     "timestamp": 1683619059544,
     "user": {
      "displayName": "Mohamed Mahmoud Ali",
      "userId": "09893787734904302111"
     },
     "user_tz": -180
    },
    "id": "c9fdbbd8",
    "outputId": "901c9559-b2e4-42e6-e0cf-475f3dae6a41"
   },
   "outputs": [
    {
     "name": "stdout",
     "output_type": "stream",
     "text": [
      "4\n"
     ]
    }
   ],
   "source": [
    "d = {1:1, 2:4, 3:9, 4:16}\n",
    "\n",
    "print(len(d))"
   ]
  },
  {
   "cell_type": "code",
   "execution_count": 13,
   "id": "93a8a2ea",
   "metadata": {
    "colab": {
     "base_uri": "https://localhost:8080/",
     "height": 35
    },
    "executionInfo": {
     "elapsed": 5,
     "status": "ok",
     "timestamp": 1683619061515,
     "user": {
      "displayName": "Mohamed Mahmoud Ali",
      "userId": "09893787734904302111"
     },
     "user_tz": -180
    },
    "id": "93a8a2ea",
    "outputId": "8ce44965-cbfe-45cc-c4e0-3ec9965bdacb"
   },
   "outputs": [
    {
     "data": {
      "application/vnd.google.colaboratory.intrinsic+json": {
       "type": "string"
      },
      "text/plain": [
       "'{1: 1, 2: 4, 3: 9, 4: 16}'"
      ]
     },
     "execution_count": 13,
     "metadata": {},
     "output_type": "execute_result"
    }
   ],
   "source": [
    "str(d)"
   ]
  },
  {
   "cell_type": "code",
   "execution_count": 16,
   "id": "098aaa07",
   "metadata": {
    "colab": {
     "base_uri": "https://localhost:8080/"
    },
    "executionInfo": {
     "elapsed": 3,
     "status": "ok",
     "timestamp": 1683619079362,
     "user": {
      "displayName": "Mohamed Mahmoud Ali",
      "userId": "09893787734904302111"
     },
     "user_tz": -180
    },
    "id": "098aaa07",
    "outputId": "9351ae1e-5c2a-4154-946c-3d97b1774283"
   },
   "outputs": [
    {
     "name": "stdout",
     "output_type": "stream",
     "text": [
      ":\n"
     ]
    }
   ],
   "source": [
    "s = str(d)\n",
    "print(s[2])"
   ]
  },
  {
   "cell_type": "code",
   "execution_count": 17,
   "id": "d4c71e88",
   "metadata": {
    "colab": {
     "base_uri": "https://localhost:8080/"
    },
    "executionInfo": {
     "elapsed": 370,
     "status": "ok",
     "timestamp": 1683619099169,
     "user": {
      "displayName": "Mohamed Mahmoud Ali",
      "userId": "09893787734904302111"
     },
     "user_tz": -180
    },
    "id": "d4c71e88",
    "outputId": "de65e9ca-7eb7-4b23-cf92-32350110573b"
   },
   "outputs": [
    {
     "name": "stdout",
     "output_type": "stream",
     "text": [
      "10\n"
     ]
    }
   ],
   "source": [
    "d = {1:1, 2:4, 3:9, 4:16}\n",
    "\n",
    "print(sum(d))"
   ]
  },
  {
   "cell_type": "code",
   "execution_count": 18,
   "id": "d1a101dc",
   "metadata": {
    "colab": {
     "base_uri": "https://localhost:8080/",
     "height": 201
    },
    "executionInfo": {
     "elapsed": 283,
     "status": "error",
     "timestamp": 1683619129776,
     "user": {
      "displayName": "Mohamed Mahmoud Ali",
      "userId": "09893787734904302111"
     },
     "user_tz": -180
    },
    "id": "d1a101dc",
    "outputId": "7626cb60-1a67-406e-cf62-6e0c838f6b69"
   },
   "outputs": [
    {
     "ename": "TypeError",
     "evalue": "ignored",
     "output_type": "error",
     "traceback": [
      "\u001b[0;31m---------------------------------------------------------------------------\u001b[0m",
      "\u001b[0;31mTypeError\u001b[0m                                 Traceback (most recent call last)",
      "\u001b[0;32m<ipython-input-18-b413fc134292>\u001b[0m in \u001b[0;36m<cell line: 3>\u001b[0;34m()\u001b[0m\n\u001b[1;32m      1\u001b[0m \u001b[0md\u001b[0m \u001b[0;34m=\u001b[0m \u001b[0;34m{\u001b[0m\u001b[0;36m1\u001b[0m\u001b[0;34m:\u001b[0m\u001b[0;36m1\u001b[0m\u001b[0;34m,\u001b[0m \u001b[0;34m\"B\"\u001b[0m\u001b[0;34m:\u001b[0m\u001b[0;36m4\u001b[0m\u001b[0;34m,\u001b[0m \u001b[0;36m3\u001b[0m\u001b[0;34m:\u001b[0m\u001b[0;36m9\u001b[0m\u001b[0;34m,\u001b[0m \u001b[0;36m4\u001b[0m\u001b[0;34m:\u001b[0m\u001b[0;36m16\u001b[0m\u001b[0;34m}\u001b[0m\u001b[0;34m\u001b[0m\u001b[0;34m\u001b[0m\u001b[0m\n\u001b[1;32m      2\u001b[0m \u001b[0;34m\u001b[0m\u001b[0m\n\u001b[0;32m----> 3\u001b[0;31m \u001b[0mprint\u001b[0m\u001b[0;34m(\u001b[0m\u001b[0msum\u001b[0m\u001b[0;34m(\u001b[0m\u001b[0md\u001b[0m\u001b[0;34m)\u001b[0m\u001b[0;34m)\u001b[0m\u001b[0;34m\u001b[0m\u001b[0;34m\u001b[0m\u001b[0m\n\u001b[0m",
      "\u001b[0;31mTypeError\u001b[0m: unsupported operand type(s) for +: 'int' and 'str'"
     ]
    }
   ],
   "source": [
    "d = {1:1, \"B\":4, 3:9, 4:16}\n",
    "\n",
    "print(sum(d))"
   ]
  },
  {
   "cell_type": "code",
   "execution_count": 19,
   "id": "889b5484",
   "metadata": {
    "colab": {
     "base_uri": "https://localhost:8080/"
    },
    "executionInfo": {
     "elapsed": 268,
     "status": "ok",
     "timestamp": 1683619139002,
     "user": {
      "displayName": "Mohamed Mahmoud Ali",
      "userId": "09893787734904302111"
     },
     "user_tz": -180
    },
    "id": "889b5484",
    "outputId": "0d2bdc0c-6685-44ca-90c8-2aed9652c0dc"
   },
   "outputs": [
    {
     "name": "stdout",
     "output_type": "stream",
     "text": [
      "4\n"
     ]
    }
   ],
   "source": [
    "d = {1:1, 2:4, 3:9, 4:16}\n",
    "\n",
    "print(max(d))"
   ]
  },
  {
   "cell_type": "code",
   "execution_count": 20,
   "id": "0a19e0ed",
   "metadata": {
    "colab": {
     "base_uri": "https://localhost:8080/",
     "height": 201
    },
    "executionInfo": {
     "elapsed": 4,
     "status": "error",
     "timestamp": 1683619146786,
     "user": {
      "displayName": "Mohamed Mahmoud Ali",
      "userId": "09893787734904302111"
     },
     "user_tz": -180
    },
    "id": "0a19e0ed",
    "outputId": "3ed1221b-ed91-4b93-e148-9a99432e8fa2"
   },
   "outputs": [
    {
     "ename": "TypeError",
     "evalue": "ignored",
     "output_type": "error",
     "traceback": [
      "\u001b[0;31m---------------------------------------------------------------------------\u001b[0m",
      "\u001b[0;31mTypeError\u001b[0m                                 Traceback (most recent call last)",
      "\u001b[0;32m<ipython-input-20-6441419caa8e>\u001b[0m in \u001b[0;36m<cell line: 3>\u001b[0;34m()\u001b[0m\n\u001b[1;32m      1\u001b[0m \u001b[0md\u001b[0m \u001b[0;34m=\u001b[0m \u001b[0;34m{\u001b[0m\u001b[0;36m1\u001b[0m\u001b[0;34m:\u001b[0m\u001b[0;36m1\u001b[0m\u001b[0;34m,\u001b[0m \u001b[0;34m\"D\"\u001b[0m\u001b[0;34m:\u001b[0m\u001b[0;36m4\u001b[0m\u001b[0;34m,\u001b[0m \u001b[0;36m3\u001b[0m\u001b[0;34m:\u001b[0m\u001b[0;36m9\u001b[0m\u001b[0;34m,\u001b[0m \u001b[0;36m4\u001b[0m\u001b[0;34m:\u001b[0m\u001b[0;36m16\u001b[0m\u001b[0;34m}\u001b[0m\u001b[0;34m\u001b[0m\u001b[0;34m\u001b[0m\u001b[0m\n\u001b[1;32m      2\u001b[0m \u001b[0;34m\u001b[0m\u001b[0m\n\u001b[0;32m----> 3\u001b[0;31m \u001b[0mprint\u001b[0m\u001b[0;34m(\u001b[0m\u001b[0mmax\u001b[0m\u001b[0;34m(\u001b[0m\u001b[0md\u001b[0m\u001b[0;34m)\u001b[0m\u001b[0;34m)\u001b[0m\u001b[0;34m\u001b[0m\u001b[0;34m\u001b[0m\u001b[0m\n\u001b[0m",
      "\u001b[0;31mTypeError\u001b[0m: '>' not supported between instances of 'str' and 'int'"
     ]
    }
   ],
   "source": [
    "d = {1:1, \"D\":4, 3:9, 4:16}\n",
    "\n",
    "print(max(d))"
   ]
  },
  {
   "cell_type": "markdown",
   "id": "f93fb28f",
   "metadata": {
    "id": "f93fb28f"
   },
   "source": [
    "# Dictionary Methods"
   ]
  },
  {
   "cell_type": "code",
   "execution_count": 22,
   "id": "60fb7bfc",
   "metadata": {
    "executionInfo": {
     "elapsed": 316,
     "status": "ok",
     "timestamp": 1683619177148,
     "user": {
      "displayName": "Mohamed Mahmoud Ali",
      "userId": "09893787734904302111"
     },
     "user_tz": -180
    },
    "id": "60fb7bfc"
   },
   "outputs": [],
   "source": [
    "p = {1: \"Apple\", \"orange\": [2,3,4], \"2\": 3}\n"
   ]
  },
  {
   "cell_type": "markdown",
   "id": "40f86ecf",
   "metadata": {
    "id": "40f86ecf"
   },
   "source": [
    "#### get"
   ]
  },
  {
   "cell_type": "code",
   "execution_count": 23,
   "id": "1bcf6859",
   "metadata": {
    "colab": {
     "base_uri": "https://localhost:8080/"
    },
    "executionInfo": {
     "elapsed": 2,
     "status": "ok",
     "timestamp": 1683619179599,
     "user": {
      "displayName": "Mohamed Mahmoud Ali",
      "userId": "09893787734904302111"
     },
     "user_tz": -180
    },
    "id": "1bcf6859",
    "outputId": "f497f0ad-ef58-4e79-985d-5ea140e451c0"
   },
   "outputs": [
    {
     "name": "stdout",
     "output_type": "stream",
     "text": [
      "[2, 3, 4]\n"
     ]
    }
   ],
   "source": [
    "print(p.get(\"orange\")) # p['orange']"
   ]
  },
  {
   "cell_type": "code",
   "execution_count": 24,
   "id": "9ddd8fe2",
   "metadata": {
    "colab": {
     "base_uri": "https://localhost:8080/"
    },
    "executionInfo": {
     "elapsed": 1711,
     "status": "ok",
     "timestamp": 1683619213779,
     "user": {
      "displayName": "Mohamed Mahmoud Ali",
      "userId": "09893787734904302111"
     },
     "user_tz": -180
    },
    "id": "9ddd8fe2",
    "outputId": "4912028f-c516-4dd3-b949-974881a4e481"
   },
   "outputs": [
    {
     "name": "stdout",
     "output_type": "stream",
     "text": [
      "None\n"
     ]
    }
   ],
   "source": [
    "print(p.get(7))"
   ]
  },
  {
   "cell_type": "code",
   "execution_count": 25,
   "id": "2fHwaGhhhnov",
   "metadata": {
    "colab": {
     "base_uri": "https://localhost:8080/",
     "height": 166
    },
    "executionInfo": {
     "elapsed": 5,
     "status": "error",
     "timestamp": 1683619221645,
     "user": {
      "displayName": "Mohamed Mahmoud Ali",
      "userId": "09893787734904302111"
     },
     "user_tz": -180
    },
    "id": "2fHwaGhhhnov",
    "outputId": "c602cc0f-1dac-488c-a0f3-c2645484662b"
   },
   "outputs": [
    {
     "ename": "KeyError",
     "evalue": "ignored",
     "output_type": "error",
     "traceback": [
      "\u001b[0;31m---------------------------------------------------------------------------\u001b[0m",
      "\u001b[0;31mKeyError\u001b[0m                                  Traceback (most recent call last)",
      "\u001b[0;32m<ipython-input-25-5eecf7e9942c>\u001b[0m in \u001b[0;36m<cell line: 1>\u001b[0;34m()\u001b[0m\n\u001b[0;32m----> 1\u001b[0;31m \u001b[0mp\u001b[0m\u001b[0;34m[\u001b[0m\u001b[0;36m7\u001b[0m\u001b[0;34m]\u001b[0m\u001b[0;34m\u001b[0m\u001b[0;34m\u001b[0m\u001b[0m\n\u001b[0m",
      "\u001b[0;31mKeyError\u001b[0m: 7"
     ]
    }
   ],
   "source": [
    "p[7]"
   ]
  },
  {
   "cell_type": "code",
   "execution_count": null,
   "id": "8aadfb3a",
   "metadata": {
    "id": "8aadfb3a"
   },
   "outputs": [],
   "source": [
    "None -> NULL"
   ]
  },
  {
   "cell_type": "code",
   "execution_count": null,
   "id": "20dca85e",
   "metadata": {
    "id": "20dca85e",
    "outputId": "e5e68e98-7c9f-4855-903e-7b5be2c815e5"
   },
   "outputs": [
    {
     "name": "stdout",
     "output_type": "stream",
     "text": [
      "Apple\n"
     ]
    }
   ],
   "source": [
    "print(p.get(1, \"Key not found\"))"
   ]
  },
  {
   "cell_type": "code",
   "execution_count": 28,
   "id": "0dc2c88a",
   "metadata": {
    "colab": {
     "base_uri": "https://localhost:8080/"
    },
    "executionInfo": {
     "elapsed": 2,
     "status": "ok",
     "timestamp": 1683619320420,
     "user": {
      "displayName": "Mohamed Mahmoud Ali",
      "userId": "09893787734904302111"
     },
     "user_tz": -180
    },
    "id": "0dc2c88a",
    "outputId": "d5e63139-ea16-4d97-ba14-d9ba99d2cebd"
   },
   "outputs": [
    {
     "name": "stdout",
     "output_type": "stream",
     "text": [
      "Key not found\n"
     ]
    }
   ],
   "source": [
    "print(p.get(10, \"Key not found\"))"
   ]
  },
  {
   "cell_type": "code",
   "execution_count": null,
   "id": "f4174abb",
   "metadata": {
    "id": "f4174abb",
    "outputId": "d6f90290-7ee8-455f-abb1-e0e7005f7400"
   },
   "outputs": [
    {
     "ename": "KeyError",
     "evalue": "2",
     "output_type": "error",
     "traceback": [
      "\u001b[1;31m---------------------------------------------------------------------------\u001b[0m",
      "\u001b[1;31mKeyError\u001b[0m                                  Traceback (most recent call last)",
      "\u001b[1;32m<ipython-input-30-21c545b39f61>\u001b[0m in \u001b[0;36m<module>\u001b[1;34m\u001b[0m\n\u001b[1;32m----> 1\u001b[1;33m \u001b[0mp\u001b[0m\u001b[1;33m[\u001b[0m\u001b[1;36m2\u001b[0m\u001b[1;33m]\u001b[0m\u001b[1;33m\u001b[0m\u001b[1;33m\u001b[0m\u001b[0m\n\u001b[0m",
      "\u001b[1;31mKeyError\u001b[0m: 2"
     ]
    }
   ],
   "source": [
    "p[2]"
   ]
  },
  {
   "cell_type": "code",
   "execution_count": null,
   "id": "fcae3708",
   "metadata": {
    "id": "fcae3708",
    "outputId": "a0551418-0e9f-4de8-dbcc-8ec6bfd12203"
   },
   "outputs": [
    {
     "data": {
      "text/plain": [
       "3"
      ]
     },
     "execution_count": 31,
     "metadata": {},
     "output_type": "execute_result"
    }
   ],
   "source": [
    "p['2']"
   ]
  },
  {
   "cell_type": "code",
   "execution_count": 30,
   "id": "77c25a35",
   "metadata": {
    "colab": {
     "base_uri": "https://localhost:8080/"
    },
    "executionInfo": {
     "elapsed": 3,
     "status": "ok",
     "timestamp": 1683619374447,
     "user": {
      "displayName": "Mohamed Mahmoud Ali",
      "userId": "09893787734904302111"
     },
     "user_tz": -180
    },
    "id": "77c25a35",
    "outputId": "7d485ac0-256f-4420-fee2-46f4dc4d60fd"
   },
   "outputs": [
    {
     "name": "stdout",
     "output_type": "stream",
     "text": [
      "8\n"
     ]
    }
   ],
   "source": [
    "f = {1:1, 2:1, 3:2, 4:3}\n",
    "\n",
    "print(f.get(4,0) + f.get(7,5))\n",
    "#         3      +      5"
   ]
  },
  {
   "cell_type": "markdown",
   "id": "60a66aa2",
   "metadata": {
    "id": "60a66aa2"
   },
   "source": [
    "#### clear"
   ]
  },
  {
   "cell_type": "code",
   "execution_count": null,
   "id": "48818343",
   "metadata": {
    "id": "48818343",
    "outputId": "5187bbdd-b065-4e9e-a68b-608397f3b759"
   },
   "outputs": [
    {
     "name": "stdout",
     "output_type": "stream",
     "text": [
      "{1: 'A', 2: 'Zara'}\n"
     ]
    }
   ],
   "source": [
    "r = {1:\"A\", 2:\"Zara\"}\n",
    "print(r)"
   ]
  },
  {
   "cell_type": "code",
   "execution_count": null,
   "id": "a7e6d522",
   "metadata": {
    "id": "a7e6d522",
    "outputId": "f1b87db1-da91-45b4-ef31-db1e360b4d72"
   },
   "outputs": [
    {
     "name": "stdout",
     "output_type": "stream",
     "text": [
      "{}\n"
     ]
    }
   ],
   "source": [
    "r.clear()\n",
    "print(r)"
   ]
  },
  {
   "cell_type": "markdown",
   "id": "25e4d0eb",
   "metadata": {
    "id": "25e4d0eb"
   },
   "source": [
    "#### keys"
   ]
  },
  {
   "cell_type": "code",
   "execution_count": null,
   "id": "08b8238c",
   "metadata": {
    "id": "08b8238c",
    "outputId": "8bc7ea1c-6ff7-4332-a25c-62a3f878b2e7"
   },
   "outputs": [
    {
     "name": "stdout",
     "output_type": "stream",
     "text": [
      "dict_keys([1, 2, 3, 'raw'])\n"
     ]
    }
   ],
   "source": [
    "r = {1:\"A\", 2:\"Zara\", 3:\"goa\", \"raw\":77}\n",
    "\n",
    "print(r.keys())"
   ]
  },
  {
   "cell_type": "code",
   "execution_count": null,
   "id": "3bb70fbf",
   "metadata": {
    "id": "3bb70fbf",
    "outputId": "4d9e3455-f507-4aaa-9c42-abc11cd582dc"
   },
   "outputs": [
    {
     "name": "stdout",
     "output_type": "stream",
     "text": [
      "[1, 2, 3, 'raw']\n"
     ]
    }
   ],
   "source": [
    "print(list(r.keys()))"
   ]
  },
  {
   "cell_type": "markdown",
   "id": "2c07fcd8",
   "metadata": {
    "id": "2c07fcd8"
   },
   "source": [
    "#### values"
   ]
  },
  {
   "cell_type": "code",
   "execution_count": null,
   "id": "1b1cc629",
   "metadata": {
    "id": "1b1cc629",
    "outputId": "c7d498fc-7ef1-42f8-9f1b-a94f73b4420f"
   },
   "outputs": [
    {
     "name": "stdout",
     "output_type": "stream",
     "text": [
      "dict_values(['A', 'Zara', 'goa', 77])\n"
     ]
    }
   ],
   "source": [
    "r = {1:\"A\", 2:\"Zara\", 3:\"goa\", \"raw\":77}\n",
    "\n",
    "print(r.values())"
   ]
  },
  {
   "cell_type": "code",
   "execution_count": null,
   "id": "a6401e6a",
   "metadata": {
    "id": "a6401e6a",
    "outputId": "54ac4c64-7bb0-4ccb-89ba-b1bda0ec99fe"
   },
   "outputs": [
    {
     "name": "stdout",
     "output_type": "stream",
     "text": [
      "['A', 'Zara', 'goa', 77]\n"
     ]
    }
   ],
   "source": [
    "print(list(r.values()))"
   ]
  },
  {
   "cell_type": "code",
   "execution_count": 1,
   "id": "0ab0f9bd",
   "metadata": {
    "id": "0ab0f9bd",
    "outputId": "fa31deb0-2241-4a00-d87f-cb568dfc2739"
   },
   "outputs": [
    {
     "name": "stdout",
     "output_type": "stream",
     "text": [
      "3\n"
     ]
    }
   ],
   "source": [
    "r = {3:\"A\", 2:\"Zara\", 3:\"goa\", \"raw\":77}\n",
    "\n",
    "print(len(r))"
   ]
  },
  {
   "cell_type": "code",
   "execution_count": null,
   "id": "ae16a1d5",
   "metadata": {
    "id": "ae16a1d5",
    "outputId": "d2a90254-a2ae-4c03-a720-9cbbbf1ea30a"
   },
   "outputs": [
    {
     "name": "stdout",
     "output_type": "stream",
     "text": [
      "{3: 'goa', 2: 'Zara', 'raw': 77}\n"
     ]
    }
   ],
   "source": [
    "print(r)"
   ]
  },
  {
   "cell_type": "code",
   "execution_count": null,
   "id": "42427383",
   "metadata": {
    "id": "42427383"
   },
   "outputs": [],
   "source": []
  }
 ],
 "metadata": {
  "colab": {
   "provenance": []
  },
  "kernelspec": {
   "display_name": "Python 3 (ipykernel)",
   "language": "python",
   "name": "python3"
  },
  "language_info": {
   "codemirror_mode": {
    "name": "ipython",
    "version": 3
   },
   "file_extension": ".py",
   "mimetype": "text/x-python",
   "name": "python",
   "nbconvert_exporter": "python",
   "pygments_lexer": "ipython3",
   "version": "3.10.9"
  }
 },
 "nbformat": 4,
 "nbformat_minor": 5
}
