{
 "cells": [
  {
   "cell_type": "markdown",
   "id": "207eaf33",
   "metadata": {
    "id": "207eaf33"
   },
   "source": [
    "# Conditional Statements"
   ]
  },
  {
   "cell_type": "code",
   "execution_count": null,
   "id": "c8b7f7ef",
   "metadata": {
    "id": "c8b7f7ef"
   },
   "outputs": [],
   "source": [
    "if ()\n",
    "{\n",
    "    \n",
    "}"
   ]
  },
  {
   "cell_type": "code",
   "execution_count": 1,
   "id": "f1f13e87",
   "metadata": {
    "colab": {
     "base_uri": "https://localhost:8080/"
    },
    "executionInfo": {
     "elapsed": 6,
     "status": "ok",
     "timestamp": 1683095707113,
     "user": {
      "displayName": "Mohamed Mahmoud Ali",
      "userId": "09893787734904302111"
     },
     "user_tz": -180
    },
    "id": "f1f13e87",
    "outputId": "fdf1902b-3a5d-4e72-b837-78aefd1e41c3"
   },
   "outputs": [
    {
     "name": "stdout",
     "output_type": "stream",
     "text": [
      "Hello\n",
      "Hi\n"
     ]
    }
   ],
   "source": [
    "if True:\n",
    "    print(\"Hello\")\n",
    "    print(\"Hi\")"
   ]
  },
  {
   "cell_type": "code",
   "execution_count": 2,
   "id": "115a3f30",
   "metadata": {
    "colab": {
     "base_uri": "https://localhost:8080/"
    },
    "executionInfo": {
     "elapsed": 328,
     "status": "ok",
     "timestamp": 1683095731938,
     "user": {
      "displayName": "Mohamed Mahmoud Ali",
      "userId": "09893787734904302111"
     },
     "user_tz": -180
    },
    "id": "115a3f30",
    "outputId": "72697528-185c-471b-aec8-a5f6a6479c0b"
   },
   "outputs": [
    {
     "name": "stdout",
     "output_type": "stream",
     "text": [
      "False\n"
     ]
    }
   ],
   "source": [
    "if False:\n",
    "    print(\"Hello\")\n",
    "    print(\"Hi\")\n",
    "else:\n",
    "    print(\"False\")"
   ]
  },
  {
   "cell_type": "code",
   "execution_count": 3,
   "id": "218a8f63",
   "metadata": {
    "colab": {
     "base_uri": "https://localhost:8080/"
    },
    "executionInfo": {
     "elapsed": 280,
     "status": "ok",
     "timestamp": 1683095748762,
     "user": {
      "displayName": "Mohamed Mahmoud Ali",
      "userId": "09893787734904302111"
     },
     "user_tz": -180
    },
    "id": "218a8f63",
    "outputId": "157cfb0f-714e-48dc-8456-9210d427c39a"
   },
   "outputs": [
    {
     "name": "stdout",
     "output_type": "stream",
     "text": [
      "One\n"
     ]
    }
   ],
   "source": [
    "if 10 == 10:\n",
    "    print(\"One\")"
   ]
  },
  {
   "cell_type": "code",
   "execution_count": 4,
   "id": "ab6ae09b",
   "metadata": {
    "colab": {
     "base_uri": "https://localhost:8080/"
    },
    "executionInfo": {
     "elapsed": 278,
     "status": "ok",
     "timestamp": 1683095753961,
     "user": {
      "displayName": "Mohamed Mahmoud Ali",
      "userId": "09893787734904302111"
     },
     "user_tz": -180
    },
    "id": "ab6ae09b",
    "outputId": "2453d2db-61b5-4814-e562-7f44c6e34009"
   },
   "outputs": [
    {
     "name": "stdout",
     "output_type": "stream",
     "text": [
      "1\n"
     ]
    }
   ],
   "source": [
    "if 10 > 5:\n",
    "    print(1)"
   ]
  },
  {
   "cell_type": "code",
   "execution_count": 5,
   "id": "0eb0252f",
   "metadata": {
    "colab": {
     "base_uri": "https://localhost:8080/"
    },
    "executionInfo": {
     "elapsed": 308,
     "status": "ok",
     "timestamp": 1683095767089,
     "user": {
      "displayName": "Mohamed Mahmoud Ali",
      "userId": "09893787734904302111"
     },
     "user_tz": -180
    },
    "id": "0eb0252f",
    "outputId": "80fca381-21a9-4a1f-cec6-69b018b43a78"
   },
   "outputs": [
    {
     "name": "stdout",
     "output_type": "stream",
     "text": [
      "1\n"
     ]
    }
   ],
   "source": [
    "if 10 > 5:\n",
    "    print(1)\n",
    "else:\n",
    "    print(2)"
   ]
  },
  {
   "cell_type": "code",
   "execution_count": null,
   "id": "7f046a83",
   "metadata": {
    "id": "7f046a83",
    "outputId": "42f277c9-2d7d-4129-b2e9-83abb5e64bc6"
   },
   "outputs": [
    {
     "name": "stdout",
     "output_type": "stream",
     "text": [
      "2\n"
     ]
    }
   ],
   "source": [
    "if 10 > 15:\n",
    "    print(1)\n",
    "else:\n",
    "    print(2)"
   ]
  },
  {
   "cell_type": "code",
   "execution_count": 7,
   "id": "c9635dae",
   "metadata": {
    "colab": {
     "base_uri": "https://localhost:8080/"
    },
    "executionInfo": {
     "elapsed": 325,
     "status": "ok",
     "timestamp": 1683095836781,
     "user": {
      "displayName": "Mohamed Mahmoud Ali",
      "userId": "09893787734904302111"
     },
     "user_tz": -180
    },
    "id": "c9635dae",
    "outputId": "6b5980b5-9d2a-4097-e1eb-996a127a550d"
   },
   "outputs": [
    {
     "name": "stdout",
     "output_type": "stream",
     "text": [
      "Hi\n"
     ]
    }
   ],
   "source": [
    "a = \"left\"\n",
    "\n",
    "if a == \"left\":\n",
    "    print(\"Hi\")\n",
    "else:\n",
    "    print(\"Bye\")"
   ]
  },
  {
   "cell_type": "code",
   "execution_count": null,
   "id": "28d2908f",
   "metadata": {
    "id": "28d2908f",
    "outputId": "48e7db82-eb26-405e-8718-1a81d4a0ad36"
   },
   "outputs": [
    {
     "name": "stdout",
     "output_type": "stream",
     "text": [
      "B\n"
     ]
    }
   ],
   "source": [
    "if 8 > 9:\n",
    "    print(\"A\")\n",
    "elif 8 < 9:\n",
    "    print(\"B\")\n",
    "else:\n",
    "    print(\"C\")"
   ]
  },
  {
   "cell_type": "code",
   "execution_count": null,
   "id": "d1f9f5bd",
   "metadata": {
    "id": "d1f9f5bd",
    "outputId": "65b74fba-f6fd-4dde-dfbe-cd186bbcb3d7"
   },
   "outputs": [
    {
     "name": "stdout",
     "output_type": "stream",
     "text": [
      "A\n"
     ]
    }
   ],
   "source": [
    "if 81 > 9:\n",
    "    print(\"A\")\n",
    "elif 8 < 19:\n",
    "    print(\"B\")\n",
    "else:\n",
    "    print(\"C\")"
   ]
  },
  {
   "cell_type": "code",
   "execution_count": 10,
   "id": "02af250e",
   "metadata": {
    "colab": {
     "base_uri": "https://localhost:8080/"
    },
    "executionInfo": {
     "elapsed": 252,
     "status": "ok",
     "timestamp": 1683095937238,
     "user": {
      "displayName": "Mohamed Mahmoud Ali",
      "userId": "09893787734904302111"
     },
     "user_tz": -180
    },
    "id": "02af250e",
    "outputId": "444230d6-125c-45c0-98f9-b68802ada54a"
   },
   "outputs": [
    {
     "name": "stdout",
     "output_type": "stream",
     "text": [
      "B\n"
     ]
    }
   ],
   "source": [
    "if 8 > 9:\n",
    "    print(\"A\")\n",
    "elif 8 < 19:\n",
    "    print(\"B\")\n",
    "elif 10 == 10:\n",
    "    print(\"C\")\n",
    "else:\n",
    "    print(\"ABC\")"
   ]
  },
  {
   "cell_type": "code",
   "execution_count": 9,
   "id": "3d7a8245",
   "metadata": {
    "colab": {
     "base_uri": "https://localhost:8080/",
     "height": 131
    },
    "executionInfo": {
     "elapsed": 259,
     "status": "error",
     "timestamp": 1683095918960,
     "user": {
      "displayName": "Mohamed Mahmoud Ali",
      "userId": "09893787734904302111"
     },
     "user_tz": -180
    },
    "id": "3d7a8245",
    "outputId": "01ad87fd-9780-4329-a301-cf22a3cf9e4f"
   },
   "outputs": [
    {
     "ename": "SyntaxError",
     "evalue": "ignored",
     "output_type": "error",
     "traceback": [
      "\u001b[0;36m  File \u001b[0;32m\"<ipython-input-9-542920865bcc>\"\u001b[0;36m, line \u001b[0;32m1\u001b[0m\n\u001b[0;31m    else:\u001b[0m\n\u001b[0m    ^\u001b[0m\n\u001b[0;31mSyntaxError\u001b[0m\u001b[0;31m:\u001b[0m invalid syntax\n"
     ]
    }
   ],
   "source": [
    "else:\n",
    "    print(\"ABC\")"
   ]
  },
  {
   "cell_type": "code",
   "execution_count": null,
   "id": "70327c61",
   "metadata": {
    "id": "70327c61",
    "outputId": "970ac3c6-5076-433d-e483-d62dd7a4daa5"
   },
   "outputs": [
    {
     "ename": "SyntaxError",
     "evalue": "invalid syntax (<ipython-input-12-149eef2e19f5>, line 1)",
     "output_type": "error",
     "traceback": [
      "\u001b[1;36m  File \u001b[1;32m\"<ipython-input-12-149eef2e19f5>\"\u001b[1;36m, line \u001b[1;32m1\u001b[0m\n\u001b[1;33m    elif 10 == 10:\u001b[0m\n\u001b[1;37m    ^\u001b[0m\n\u001b[1;31mSyntaxError\u001b[0m\u001b[1;31m:\u001b[0m invalid syntax\n"
     ]
    }
   ],
   "source": [
    "elif 10 == 10:\n",
    "    print(\"Z\")"
   ]
  },
  {
   "cell_type": "markdown",
   "id": "03e77598",
   "metadata": {
    "id": "03e77598"
   },
   "source": [
    "# Nested If Else"
   ]
  },
  {
   "cell_type": "code",
   "execution_count": 11,
   "id": "2f2b4938",
   "metadata": {
    "colab": {
     "base_uri": "https://localhost:8080/"
    },
    "executionInfo": {
     "elapsed": 258,
     "status": "ok",
     "timestamp": 1683095969492,
     "user": {
      "displayName": "Mohamed Mahmoud Ali",
      "userId": "09893787734904302111"
     },
     "user_tz": -180
    },
    "id": "2f2b4938",
    "outputId": "4c6e8e82-91d1-412e-caaf-4a1c8f0f3d9a"
   },
   "outputs": [
    {
     "name": "stdout",
     "output_type": "stream",
     "text": [
      "A\n",
      "B\n"
     ]
    }
   ],
   "source": [
    "if 10 == 10:\n",
    "    print(\"A\")\n",
    "    if 1 == 1:\n",
    "        print(\"B\")\n",
    "    else:\n",
    "        print(\"C\")\n",
    "else:\n",
    "    print(\"D\")"
   ]
  },
  {
   "cell_type": "code",
   "execution_count": null,
   "id": "850e6798",
   "metadata": {
    "id": "850e6798",
    "outputId": "fb0cf99c-433e-46e3-b0c2-b164a610ccf4"
   },
   "outputs": [
    {
     "name": "stdout",
     "output_type": "stream",
     "text": [
      "ELSE\n"
     ]
    }
   ],
   "source": [
    "if 1+1 == 2:\n",
    "    if 2*2 == 8:\n",
    "        print(\"IF\")\n",
    "    else:\n",
    "        print(\"ELSE\")\n",
    "else:\n",
    "    print(\"A\")"
   ]
  },
  {
   "cell_type": "code",
   "execution_count": 13,
   "id": "dd2b2e20",
   "metadata": {
    "colab": {
     "base_uri": "https://localhost:8080/"
    },
    "executionInfo": {
     "elapsed": 2828,
     "status": "ok",
     "timestamp": 1683096029621,
     "user": {
      "displayName": "Mohamed Mahmoud Ali",
      "userId": "09893787734904302111"
     },
     "user_tz": -180
    },
    "id": "dd2b2e20",
    "outputId": "7c289365-b9e1-4b46-b8c5-33f5fc845660"
   },
   "outputs": [
    {
     "name": "stdout",
     "output_type": "stream",
     "text": [
      "Enter a Number: 3\n",
      "A\n",
      "B\n"
     ]
    }
   ],
   "source": [
    "n = int(input(\"Enter a Number: \"))   # 10, 1, 5, 0\n",
    "\n",
    "if n <= 5:\n",
    "    print(\"A\")\n",
    "    if n == 3:\n",
    "        print(\"B\")\n",
    "    elif n == 4:\n",
    "        print(\"C\")\n",
    "    else:\n",
    "        if n == 5:\n",
    "            print(\"F\")\n",
    "        else:\n",
    "            print(\"G\")\n",
    "else:\n",
    "    if n == 7:\n",
    "        print(\"D\")\n",
    "    else:\n",
    "        print(\"E\")"
   ]
  },
  {
   "cell_type": "markdown",
   "id": "2bf9413c",
   "metadata": {
    "id": "2bf9413c"
   },
   "source": [
    "# Ternary Statements"
   ]
  },
  {
   "cell_type": "code",
   "execution_count": null,
   "id": "8e13993c",
   "metadata": {
    "id": "8e13993c"
   },
   "outputs": [],
   "source": [
    "?  :  "
   ]
  },
  {
   "cell_type": "code",
   "execution_count": 15,
   "id": "54304795",
   "metadata": {
    "colab": {
     "base_uri": "https://localhost:8080/"
    },
    "executionInfo": {
     "elapsed": 1,
     "status": "ok",
     "timestamp": 1683096133668,
     "user": {
      "displayName": "Mohamed Mahmoud Ali",
      "userId": "09893787734904302111"
     },
     "user_tz": -180
    },
    "id": "54304795",
    "outputId": "5f1f08af-565f-4784-8dd3-952bc11d7d07"
   },
   "outputs": [
    {
     "name": "stdout",
     "output_type": "stream",
     "text": [
      "45\n"
     ]
    }
   ],
   "source": [
    "a = 3\n",
    "b = 1 if a>=5 else 45\n",
    "print(b)"
   ]
  },
  {
   "cell_type": "code",
   "execution_count": null,
   "id": "479795e9",
   "metadata": {
    "id": "479795e9",
    "outputId": "76a1ec4c-9dc1-4afc-cb4c-43465661d097"
   },
   "outputs": [
    {
     "name": "stdout",
     "output_type": "stream",
     "text": [
      "45\n"
     ]
    }
   ],
   "source": [
    "a = 2\n",
    "b = 1 if a>=5 else 45\n",
    "print(b)"
   ]
  },
  {
   "cell_type": "code",
   "execution_count": 16,
   "id": "6c80d8e6",
   "metadata": {
    "colab": {
     "base_uri": "https://localhost:8080/"
    },
    "executionInfo": {
     "elapsed": 255,
     "status": "ok",
     "timestamp": 1683096162295,
     "user": {
      "displayName": "Mohamed Mahmoud Ali",
      "userId": "09893787734904302111"
     },
     "user_tz": -180
    },
    "id": "6c80d8e6",
    "outputId": "f15d4332-4e4c-4d9e-e560-241eccf29a46"
   },
   "outputs": [
    {
     "name": "stdout",
     "output_type": "stream",
     "text": [
      "Login\n"
     ]
    }
   ],
   "source": [
    "status = 1\n",
    "\n",
    "msg = \"Login\" if status == 1 else \"Logout\"\n",
    "\n",
    "print(msg)"
   ]
  },
  {
   "cell_type": "markdown",
   "id": "73aaa8af",
   "metadata": {
    "id": "73aaa8af"
   },
   "source": [
    "# Questions\n",
    "\n",
    "**1. WAP to enter a number from user and check it is greater than 10 or not.**"
   ]
  },
  {
   "cell_type": "code",
   "execution_count": null,
   "id": "08cff3cf",
   "metadata": {
    "id": "08cff3cf",
    "outputId": "5e442307-cb6b-4480-e547-2efb3cf783c6"
   },
   "outputs": [
    {
     "name": "stdout",
     "output_type": "stream",
     "text": [
      "Enter a Number: 2\n",
      "Smaller\n"
     ]
    }
   ],
   "source": [
    "n = int(input(\"Enter a Number: \"))\n",
    "if n > 10:\n",
    "    print(\"Greater\")\n",
    "elif n == 10:\n",
    "    print(\"Equal\")\n",
    "else:\n",
    "    print(\"Smaller\")"
   ]
  },
  {
   "cell_type": "markdown",
   "id": "939b01b1",
   "metadata": {
    "id": "939b01b1"
   },
   "source": [
    "**2. WAP to enter a number from user and check if it is even or odd.**"
   ]
  },
  {
   "cell_type": "code",
   "execution_count": null,
   "id": "ec6be812",
   "metadata": {
    "id": "ec6be812",
    "outputId": "fb97d3e6-4f18-4501-be45-d0ceb284799b"
   },
   "outputs": [
    {
     "name": "stdout",
     "output_type": "stream",
     "text": [
      "Enter a Number: 10\n",
      "Even\n"
     ]
    }
   ],
   "source": [
    "n = int(input(\"Enter a Number: \"))\n",
    "\n",
    "if n%2 == 0:\n",
    "    print(\"Even\")\n",
    "else:\n",
    "    print(\"Odd\")"
   ]
  },
  {
   "cell_type": "markdown",
   "id": "1552f1a8",
   "metadata": {
    "id": "1552f1a8"
   },
   "source": [
    "**3. WAP to enter a number from user between 1 to 5 and print its character format.**\n",
    "\n",
    "1 -- One\n",
    "\n",
    "2 -- Two"
   ]
  },
  {
   "cell_type": "code",
   "execution_count": null,
   "id": "0bc7ae26",
   "metadata": {
    "id": "0bc7ae26",
    "outputId": "7f22519c-d9c8-40e6-b8d4-f43caee10264"
   },
   "outputs": [
    {
     "name": "stdout",
     "output_type": "stream",
     "text": [
      "Enter a Number: 5\n",
      "Five\n"
     ]
    }
   ],
   "source": [
    "n = int(input(\"Enter a Number: \"))\n",
    "\n",
    "if n == 1:\n",
    "    print(\"One\")\n",
    "elif n == 2:\n",
    "    print(\"Two\")\n",
    "elif n == 3:\n",
    "    print(\"Three\")\n",
    "elif n == 4:\n",
    "    print(\"Four\")\n",
    "elif n == 5:\n",
    "    print(\"Five\")\n",
    "else:\n",
    "    print(\"Invalid Input\")"
   ]
  },
  {
   "cell_type": "markdown",
   "id": "b963c88e",
   "metadata": {
    "id": "b963c88e"
   },
   "source": [
    "**4. WAP to enter a character from user and check if it is vowel or consonant**"
   ]
  },
  {
   "cell_type": "code",
   "execution_count": null,
   "id": "91365da7",
   "metadata": {
    "id": "91365da7",
    "outputId": "48a84f1a-ec0a-42d4-f7e5-bb482168be09"
   },
   "outputs": [
    {
     "name": "stdout",
     "output_type": "stream",
     "text": [
      "Enter a Number: u\n",
      "Vowel\n"
     ]
    }
   ],
   "source": [
    "n = input(\"Enter a Number: \")\n",
    "\n",
    "if n == 'a':\n",
    "    print(\"Vowel\")\n",
    "elif n == 'e':\n",
    "    print(\"Vowel\")\n",
    "elif n == 'i':\n",
    "    print(\"Vowel\")\n",
    "elif n == 'o':\n",
    "    print(\"Vowel\")\n",
    "elif n == 'u':\n",
    "    print(\"Vowel\")\n",
    "else:\n",
    "    print(\"Consonant\")"
   ]
  },
  {
   "cell_type": "code",
   "execution_count": null,
   "id": "bf14bec7",
   "metadata": {
    "id": "bf14bec7",
    "outputId": "dcded4f7-82b9-4d4c-e650-ace71afba438"
   },
   "outputs": [
    {
     "name": "stdout",
     "output_type": "stream",
     "text": [
      "Enter a Number: b\n",
      "Consonant\n"
     ]
    }
   ],
   "source": [
    "n = input(\"Enter a Number: \")\n",
    "\n",
    "if n == 'a' or n == 'e' or n == 'i' or n == 'o' or n == 'u':\n",
    "    print(\"Vowel\")\n",
    "else:\n",
    "    print(\"Consonant\")"
   ]
  },
  {
   "cell_type": "markdown",
   "id": "60900d78",
   "metadata": {
    "id": "60900d78"
   },
   "source": [
    "**5. WAP to take 2 values from user and print greater value.**"
   ]
  },
  {
   "cell_type": "code",
   "execution_count": null,
   "id": "629a16ce",
   "metadata": {
    "id": "629a16ce",
    "outputId": "8ba01492-45ae-45f2-e25c-21bc0555afca"
   },
   "outputs": [
    {
     "name": "stdout",
     "output_type": "stream",
     "text": [
      "Enter a value10\n",
      "Enter a value20\n",
      "Greater is 20\n"
     ]
    }
   ],
   "source": [
    "a = int(input(\"Enter a value\"))\n",
    "b = int(input(\"Enter a value\"))\n",
    "\n",
    "if a >= b:\n",
    "    print(\"Greater is\", a)\n",
    "else:\n",
    "    print(\"Greater is\", b)"
   ]
  },
  {
   "cell_type": "markdown",
   "id": "3ddc6a6e",
   "metadata": {
    "id": "3ddc6a6e"
   },
   "source": [
    "**6. WAP to enter a number from user and print its absolute value.**\n",
    "\n",
    "**7. WAP to enter a year from user and check if it is leap year of not.**\n",
    "\n",
    "**8. WAP to enter the age of 3 person and print oldest and yougest among them.**"
   ]
  },
  {
   "cell_type": "code",
   "execution_count": null,
   "id": "bc522994",
   "metadata": {
    "id": "bc522994"
   },
   "outputs": [],
   "source": [
    "-2 -1 0 1 2 \n",
    "\n",
    "| -2 |   ->  2"
   ]
  }
 ],
 "metadata": {
  "colab": {
   "provenance": []
  },
  "kernelspec": {
   "display_name": "Python 3 (ipykernel)",
   "language": "python",
   "name": "python3"
  },
  "language_info": {
   "codemirror_mode": {
    "name": "ipython",
    "version": 3
   },
   "file_extension": ".py",
   "mimetype": "text/x-python",
   "name": "python",
   "nbconvert_exporter": "python",
   "pygments_lexer": "ipython3",
   "version": "3.10.9"
  }
 },
 "nbformat": 4,
 "nbformat_minor": 5
}
