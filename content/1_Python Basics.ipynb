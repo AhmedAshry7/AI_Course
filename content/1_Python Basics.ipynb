{
 "cells": [
  {
   "cell_type": "code",
   "execution_count": 1,
   "id": "316a4e90",
   "metadata": {
    "colab": {
     "base_uri": "https://localhost:8080/"
    },
    "executionInfo": {
     "elapsed": 8,
     "status": "ok",
     "timestamp": 1683094526317,
     "user": {
      "displayName": "Mohamed Mahmoud Ali",
      "userId": "09893787734904302111"
     },
     "user_tz": -180
    },
    "id": "316a4e90",
    "outputId": "faa3d8a2-186d-4099-8aa8-7d7d8303c596"
   },
   "outputs": [
    {
     "name": "stdout",
     "output_type": "stream",
     "text": [
      "Hello Data Science\n",
      "ABC\n"
     ]
    }
   ],
   "source": [
    "print(\"Hello Data Science\")\n",
    "print(\"ABC\")"
   ]
  },
  {
   "cell_type": "code",
   "execution_count": 2,
   "id": "a0a75819",
   "metadata": {
    "colab": {
     "base_uri": "https://localhost:8080/"
    },
    "executionInfo": {
     "elapsed": 5,
     "status": "ok",
     "timestamp": 1683094526317,
     "user": {
      "displayName": "Mohamed Mahmoud Ali",
      "userId": "09893787734904302111"
     },
     "user_tz": -180
    },
    "id": "a0a75819",
    "outputId": "abc8b0e9-c998-48b4-9f95-b9bce70ffa5a"
   },
   "outputs": [
    {
     "name": "stdout",
     "output_type": "stream",
     "text": [
      "Hello World\n"
     ]
    }
   ],
   "source": [
    "print(\"Hello World\")"
   ]
  },
  {
   "cell_type": "markdown",
   "id": "8b2d70df",
   "metadata": {
    "id": "8b2d70df"
   },
   "source": [
    "# Python Basics\n",
    "\n",
    "This is the first session of Data Science"
   ]
  },
  {
   "cell_type": "code",
   "execution_count": 3,
   "id": "5786e4db",
   "metadata": {
    "colab": {
     "base_uri": "https://localhost:8080/"
    },
    "executionInfo": {
     "elapsed": 9,
     "status": "ok",
     "timestamp": 1683094527529,
     "user": {
      "displayName": "Mohamed Mahmoud Ali",
      "userId": "09893787734904302111"
     },
     "user_tz": -180
    },
    "id": "5786e4db",
    "outputId": "96081904-0055-481f-c6aa-50271504e2fe"
   },
   "outputs": [
    {
     "name": "stdout",
     "output_type": "stream",
     "text": [
      "Hello World\n"
     ]
    }
   ],
   "source": [
    "print(\"Hello World\")"
   ]
  },
  {
   "cell_type": "code",
   "execution_count": 4,
   "id": "9aa3a38f",
   "metadata": {
    "colab": {
     "base_uri": "https://localhost:8080/"
    },
    "executionInfo": {
     "elapsed": 7,
     "status": "ok",
     "timestamp": 1683094527529,
     "user": {
      "displayName": "Mohamed Mahmoud Ali",
      "userId": "09893787734904302111"
     },
     "user_tz": -180
    },
    "id": "9aa3a38f",
    "outputId": "a7d38f74-354b-471c-a595-f16db0ede899"
   },
   "outputs": [
    {
     "name": "stdout",
     "output_type": "stream",
     "text": [
      "Hello\n",
      "World\n"
     ]
    }
   ],
   "source": [
    "print(\"Hello\\nWorld\")   # new line character"
   ]
  },
  {
   "cell_type": "code",
   "execution_count": 5,
   "id": "637916e3",
   "metadata": {
    "colab": {
     "base_uri": "https://localhost:8080/"
    },
    "executionInfo": {
     "elapsed": 6,
     "status": "ok",
     "timestamp": 1683094527530,
     "user": {
      "displayName": "Mohamed Mahmoud Ali",
      "userId": "09893787734904302111"
     },
     "user_tz": -180
    },
    "id": "637916e3",
    "outputId": "aa75a984-cca3-42e6-dbfa-eb2e18e0ef3e"
   },
   "outputs": [
    {
     "name": "stdout",
     "output_type": "stream",
     "text": [
      "Hello\tWorld\n"
     ]
    }
   ],
   "source": [
    "print(\"Hello\\tWorld\")  # horizontal tab"
   ]
  },
  {
   "cell_type": "markdown",
   "id": "7f5279ac",
   "metadata": {
    "id": "7f5279ac"
   },
   "source": [
    "# Variables"
   ]
  },
  {
   "cell_type": "code",
   "execution_count": 6,
   "id": "f68c3a93",
   "metadata": {
    "colab": {
     "base_uri": "https://localhost:8080/"
    },
    "executionInfo": {
     "elapsed": 3,
     "status": "ok",
     "timestamp": 1683094573989,
     "user": {
      "displayName": "Mohamed Mahmoud Ali",
      "userId": "09893787734904302111"
     },
     "user_tz": -180
    },
    "id": "f68c3a93",
    "outputId": "2effaa20-5dc1-448c-eb8e-27aa57a7707e"
   },
   "outputs": [
    {
     "name": "stdout",
     "output_type": "stream",
     "text": [
      "10\n",
      "<class 'int'>\n"
     ]
    }
   ],
   "source": [
    "a = 10\n",
    "print(a)\n",
    "print(type(a))"
   ]
  },
  {
   "cell_type": "code",
   "execution_count": 7,
   "id": "725ec4ce",
   "metadata": {
    "colab": {
     "base_uri": "https://localhost:8080/"
    },
    "executionInfo": {
     "elapsed": 4,
     "status": "ok",
     "timestamp": 1683094585148,
     "user": {
      "displayName": "Mohamed Mahmoud Ali",
      "userId": "09893787734904302111"
     },
     "user_tz": -180
    },
    "id": "725ec4ce",
    "outputId": "9ddb2676-6c28-4f75-9802-0a86baeb5f69"
   },
   "outputs": [
    {
     "name": "stdout",
     "output_type": "stream",
     "text": [
      "10.5\n",
      "<class 'float'>\n"
     ]
    }
   ],
   "source": [
    "b = 10.5\n",
    "print(b)\n",
    "print(type(b))"
   ]
  },
  {
   "cell_type": "code",
   "execution_count": 8,
   "id": "9cf9fc55",
   "metadata": {
    "colab": {
     "base_uri": "https://localhost:8080/"
    },
    "executionInfo": {
     "elapsed": 3,
     "status": "ok",
     "timestamp": 1683094598504,
     "user": {
      "displayName": "Mohamed Mahmoud Ali",
      "userId": "09893787734904302111"
     },
     "user_tz": -180
    },
    "id": "9cf9fc55",
    "outputId": "d3db35c2-8789-4d8e-d12c-54458e69cf2b"
   },
   "outputs": [
    {
     "name": "stdout",
     "output_type": "stream",
     "text": [
      "Indore\n",
      "<class 'str'>\n"
     ]
    }
   ],
   "source": [
    "c = \"Indore\"\n",
    "print(c)\n",
    "print(type(c))"
   ]
  },
  {
   "cell_type": "code",
   "execution_count": null,
   "id": "1a81ccc2",
   "metadata": {
    "id": "1a81ccc2",
    "outputId": "055d6428-45b6-4b1f-c3f0-4e3047ac0808"
   },
   "outputs": [
    {
     "name": "stdout",
     "output_type": "stream",
     "text": [
      "10\n",
      "<class 'int'>\n"
     ]
    }
   ],
   "source": [
    "a = 10\n",
    "print(a)\n",
    "print(type(a))"
   ]
  },
  {
   "cell_type": "code",
   "execution_count": null,
   "id": "45696143",
   "metadata": {
    "id": "45696143",
    "outputId": "1ddf72bd-db2b-4b3e-bb19-0e3c3d6df7c8"
   },
   "outputs": [
    {
     "name": "stdout",
     "output_type": "stream",
     "text": [
      "<class 'float'>\n"
     ]
    }
   ],
   "source": [
    "b = 10.5\n",
    "print(type(b))"
   ]
  },
  {
   "cell_type": "code",
   "execution_count": null,
   "id": "784ad549",
   "metadata": {
    "id": "784ad549",
    "outputId": "9914da76-9d05-411f-c894-26cb1cd1a9b4"
   },
   "outputs": [
    {
     "name": "stdout",
     "output_type": "stream",
     "text": [
      "<class 'str'>\n"
     ]
    }
   ],
   "source": [
    "c = \"Indore\"\n",
    "print(type(c))"
   ]
  },
  {
   "cell_type": "code",
   "execution_count": null,
   "id": "864468c9",
   "metadata": {
    "id": "864468c9",
    "outputId": "8058d90e-0217-4443-c077-e91099e6c75d"
   },
   "outputs": [
    {
     "name": "stdout",
     "output_type": "stream",
     "text": [
      "A\n",
      "<class 'str'>\n"
     ]
    }
   ],
   "source": [
    "d = 'A'\n",
    "print(d)\n",
    "print(type(d))"
   ]
  },
  {
   "cell_type": "markdown",
   "id": "a8013b19",
   "metadata": {
    "id": "a8013b19"
   },
   "source": [
    "# User Input"
   ]
  },
  {
   "cell_type": "code",
   "execution_count": 10,
   "id": "2b7e6cc5",
   "metadata": {
    "colab": {
     "base_uri": "https://localhost:8080/"
    },
    "executionInfo": {
     "elapsed": 2971,
     "status": "ok",
     "timestamp": 1683094646698,
     "user": {
      "displayName": "Mohamed Mahmoud Ali",
      "userId": "09893787734904302111"
     },
     "user_tz": -180
    },
    "id": "2b7e6cc5",
    "outputId": "546a9680-5419-4da7-d5c5-deeeb52eec11"
   },
   "outputs": [
    {
     "name": "stdout",
     "output_type": "stream",
     "text": [
      "10\n",
      "10\n",
      "<class 'int'>\n"
     ]
    }
   ],
   "source": [
    "x = int(input())\n",
    "print(x)\n",
    "print(type(x))"
   ]
  },
  {
   "cell_type": "code",
   "execution_count": 11,
   "id": "3ffa8f24",
   "metadata": {
    "colab": {
     "base_uri": "https://localhost:8080/"
    },
    "executionInfo": {
     "elapsed": 7908,
     "status": "ok",
     "timestamp": 1683094665179,
     "user": {
      "displayName": "Mohamed Mahmoud Ali",
      "userId": "09893787734904302111"
     },
     "user_tz": -180
    },
    "id": "3ffa8f24",
    "outputId": "074bd401-5e7d-4718-9871-b05457256ea8"
   },
   "outputs": [
    {
     "name": "stdout",
     "output_type": "stream",
     "text": [
      "Enter Your Name Mohamed\n",
      "Mohamed\n"
     ]
    }
   ],
   "source": [
    "x = input(\"Enter Your Name \")\n",
    "print(x)"
   ]
  },
  {
   "cell_type": "code",
   "execution_count": null,
   "id": "71d9f291",
   "metadata": {
    "id": "71d9f291",
    "outputId": "132eda96-b2e7-41a6-ebe9-08587a78875a"
   },
   "outputs": [
    {
     "name": "stdout",
     "output_type": "stream",
     "text": [
      "Enter Your Name Himanshu\n",
      "Hello Himanshu\n"
     ]
    }
   ],
   "source": [
    "x = input(\"Enter Your Name \")\n",
    "\n",
    "print(\"Hello\",x)"
   ]
  },
  {
   "cell_type": "markdown",
   "id": "0d5fcb7f",
   "metadata": {
    "id": "0d5fcb7f"
   },
   "source": [
    "### WAP to enter 2 numbers from user and print addition of them."
   ]
  },
  {
   "cell_type": "code",
   "execution_count": null,
   "id": "4fc70708",
   "metadata": {
    "id": "4fc70708",
    "outputId": "770a9b5f-06c7-4f8c-eb79-273b38baaeba"
   },
   "outputs": [
    {
     "name": "stdout",
     "output_type": "stream",
     "text": [
      "Enter 1st Number: 10\n",
      "Enter 2nd Number: 20\n",
      "1020\n"
     ]
    }
   ],
   "source": [
    "a = input(\"Enter 1st Number: \")\n",
    "b = input(\"Enter 2nd Number: \")\n",
    "\n",
    "c = a + b\n",
    "\n",
    "print(c)"
   ]
  },
  {
   "cell_type": "markdown",
   "id": "069541c3",
   "metadata": {
    "id": "069541c3"
   },
   "source": [
    "### Type Casting"
   ]
  },
  {
   "cell_type": "code",
   "execution_count": 2,
   "id": "d08662cc",
   "metadata": {
    "id": "d08662cc",
    "outputId": "360e09d8-f251-4e1a-83db-17a441f4631e"
   },
   "outputs": [
    {
     "name": "stdout",
     "output_type": "stream",
     "text": [
      "10\n"
     ]
    }
   ],
   "source": [
    "a = 10.5\n",
    "b = int(a)\n",
    "print(b)"
   ]
  },
  {
   "cell_type": "code",
   "execution_count": 3,
   "id": "4d414d59",
   "metadata": {
    "id": "4d414d59",
    "outputId": "62b98053-6a59-4dc3-add0-4daf1a5e2d45"
   },
   "outputs": [
    {
     "name": "stdout",
     "output_type": "stream",
     "text": [
      "<class 'int'>\n"
     ]
    }
   ],
   "source": [
    "print(type(b))"
   ]
  },
  {
   "cell_type": "code",
   "execution_count": null,
   "id": "ed997b3a",
   "metadata": {
    "id": "ed997b3a",
    "outputId": "f6dab340-3897-4877-cefa-153f4eea0df3"
   },
   "outputs": [
    {
     "name": "stdout",
     "output_type": "stream",
     "text": [
      "<class 'str'>\n",
      "<class 'int'>\n"
     ]
    }
   ],
   "source": [
    "a = \"10\"\n",
    "print(type(a))\n",
    "b = int(a)\n",
    "print(type(b))"
   ]
  },
  {
   "cell_type": "code",
   "execution_count": null,
   "id": "d0c7f992",
   "metadata": {
    "id": "d0c7f992",
    "outputId": "443a4108-ef96-4dbf-d113-4d6569d73b5e"
   },
   "outputs": [
    {
     "data": {
      "text/plain": [
       "'1020'"
      ]
     },
     "execution_count": 21,
     "metadata": {},
     "output_type": "execute_result"
    }
   ],
   "source": [
    "\"10\" + \"20\""
   ]
  },
  {
   "cell_type": "code",
   "execution_count": null,
   "id": "0844ec79",
   "metadata": {
    "id": "0844ec79",
    "outputId": "9928242d-7321-4bc2-e442-36fe2d2aa1e0"
   },
   "outputs": [
    {
     "data": {
      "text/plain": [
       "30"
      ]
     },
     "execution_count": 22,
     "metadata": {},
     "output_type": "execute_result"
    }
   ],
   "source": [
    "10 + 20"
   ]
  },
  {
   "cell_type": "code",
   "execution_count": null,
   "id": "4389b1c5",
   "metadata": {
    "id": "4389b1c5",
    "outputId": "c865a4bb-31d8-40a4-d489-bec5a46fa0e7"
   },
   "outputs": [
    {
     "name": "stdout",
     "output_type": "stream",
     "text": [
      "Enter 1st Number: 10\n",
      "Enter 2nd Number: 20\n",
      "30\n"
     ]
    }
   ],
   "source": [
    "a = int(input(\"Enter 1st Number: \"))\n",
    "b = int(input(\"Enter 2nd Number: \"))\n",
    "\n",
    "c = a + b\n",
    "\n",
    "print(c)"
   ]
  },
  {
   "cell_type": "code",
   "execution_count": 14,
   "id": "2d2e273a",
   "metadata": {
    "colab": {
     "base_uri": "https://localhost:8080/"
    },
    "executionInfo": {
     "elapsed": 3134,
     "status": "ok",
     "timestamp": 1683094878562,
     "user": {
      "displayName": "Mohamed Mahmoud Ali",
      "userId": "09893787734904302111"
     },
     "user_tz": -180
    },
    "id": "2d2e273a",
    "outputId": "175a6611-9c50-4f84-93d7-a262736067c5"
   },
   "outputs": [
    {
     "name": "stdout",
     "output_type": "stream",
     "text": [
      "Enter 1st Number: 10\n",
      "Enter 2nd Number: 20\n",
      "Addition =  30\n"
     ]
    }
   ],
   "source": [
    "a = int(input(\"Enter 1st Number: \"))\n",
    "b = int(input(\"Enter 2nd Number: \"))\n",
    "\n",
    "c = a + b\n",
    "\n",
    "print(\"Addition = \", c)"
   ]
  },
  {
   "cell_type": "code",
   "execution_count": 12,
   "id": "58fa5aae",
   "metadata": {
    "colab": {
     "base_uri": "https://localhost:8080/"
    },
    "executionInfo": {
     "elapsed": 4341,
     "status": "ok",
     "timestamp": 1683094856709,
     "user": {
      "displayName": "Mohamed Mahmoud Ali",
      "userId": "09893787734904302111"
     },
     "user_tz": -180
    },
    "id": "58fa5aae",
    "outputId": "731af82b-69c6-4cff-e2f4-1a2be97cd1ce"
   },
   "outputs": [
    {
     "name": "stdout",
     "output_type": "stream",
     "text": [
      "Enter 1st Number: 10\n",
      "Enter 2nd Number: 20\n",
      "Addition = 1020\n"
     ]
    }
   ],
   "source": [
    "a = input(\"Enter 1st Number: \")\n",
    "b = input(\"Enter 2nd Number: \")\n",
    "\n",
    "c = a + b\n",
    "\n",
    "print(\"Addition = \" + c)"
   ]
  },
  {
   "cell_type": "code",
   "execution_count": 15,
   "id": "87c2e61a",
   "metadata": {
    "colab": {
     "base_uri": "https://localhost:8080/"
    },
    "executionInfo": {
     "elapsed": 2540,
     "status": "ok",
     "timestamp": 1683094886852,
     "user": {
      "displayName": "Mohamed Mahmoud Ali",
      "userId": "09893787734904302111"
     },
     "user_tz": -180
    },
    "id": "87c2e61a",
    "outputId": "53681023-ec1e-4d8a-c622-9f910ed10b14"
   },
   "outputs": [
    {
     "name": "stdout",
     "output_type": "stream",
     "text": [
      "Enter 1st Number: 10\n"
     ]
    }
   ],
   "source": [
    "a = input(\"Enter 1st Number: \")"
   ]
  },
  {
   "cell_type": "code",
   "execution_count": null,
   "id": "81df1cac",
   "metadata": {
    "id": "81df1cac"
   },
   "outputs": [],
   "source": []
  }
 ],
 "metadata": {
  "colab": {
   "provenance": []
  },
  "kernelspec": {
   "display_name": "Python 3 (ipykernel)",
   "language": "python",
   "name": "python3"
  },
  "language_info": {
   "codemirror_mode": {
    "name": "ipython",
    "version": 3
   },
   "file_extension": ".py",
   "mimetype": "text/x-python",
   "name": "python",
   "nbconvert_exporter": "python",
   "pygments_lexer": "ipython3",
   "version": "3.10.9"
  },
  "toc": {
   "base_numbering": 1,
   "nav_menu": {},
   "number_sections": true,
   "sideBar": true,
   "skip_h1_title": false,
   "title_cell": "Table of Contents",
   "title_sidebar": "Contents",
   "toc_cell": false,
   "toc_position": {},
   "toc_section_display": true,
   "toc_window_display": false
  },
  "varInspector": {
   "cols": {
    "lenName": 16,
    "lenType": 16,
    "lenVar": 40
   },
   "kernels_config": {
    "python": {
     "delete_cmd_postfix": "",
     "delete_cmd_prefix": "del ",
     "library": "var_list.py",
     "varRefreshCmd": "print(var_dic_list())"
    },
    "r": {
     "delete_cmd_postfix": ") ",
     "delete_cmd_prefix": "rm(",
     "library": "var_list.r",
     "varRefreshCmd": "cat(var_dic_list()) "
    }
   },
   "types_to_exclude": [
    "module",
    "function",
    "builtin_function_or_method",
    "instance",
    "_Feature"
   ],
   "window_display": false
  }
 },
 "nbformat": 4,
 "nbformat_minor": 5
}
