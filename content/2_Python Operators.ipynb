{
 "cells": [
  {
   "cell_type": "markdown",
   "id": "4fa32f97",
   "metadata": {
    "id": "4fa32f97"
   },
   "source": [
    "# Operators\n",
    "\n",
    "1. Arithmetics Operators"
   ]
  },
  {
   "cell_type": "code",
   "execution_count": null,
   "id": "3970e8ce",
   "metadata": {
    "id": "3970e8ce"
   },
   "outputs": [],
   "source": [
    "+, -, *, /, %, **, //"
   ]
  },
  {
   "cell_type": "code",
   "execution_count": 1,
   "id": "72514153",
   "metadata": {
    "colab": {
     "base_uri": "https://localhost:8080/"
    },
    "executionInfo": {
     "elapsed": 3,
     "status": "ok",
     "timestamp": 1683094962442,
     "user": {
      "displayName": "Mohamed Mahmoud Ali",
      "userId": "09893787734904302111"
     },
     "user_tz": -180
    },
    "id": "72514153",
    "outputId": "42266187-33e4-4b99-8b3d-140844304cd3"
   },
   "outputs": [
    {
     "name": "stdout",
     "output_type": "stream",
     "text": [
      "30\n"
     ]
    }
   ],
   "source": [
    "print(10+20)"
   ]
  },
  {
   "cell_type": "code",
   "execution_count": 1,
   "id": "d5e11167",
   "metadata": {
    "colab": {
     "base_uri": "https://localhost:8080/"
    },
    "executionInfo": {
     "elapsed": 4,
     "status": "ok",
     "timestamp": 1683095035203,
     "user": {
      "displayName": "Mohamed Mahmoud Ali",
      "userId": "09893787734904302111"
     },
     "user_tz": -180
    },
    "id": "d5e11167",
    "outputId": "fdb95a88-6d7f-424a-dadc-83a27c79195f"
   },
   "outputs": [
    {
     "data": {
      "text/plain": [
       "0"
      ]
     },
     "execution_count": 1,
     "metadata": {},
     "output_type": "execute_result"
    }
   ],
   "source": [
    "6 % 2  #modulo"
   ]
  },
  {
   "cell_type": "code",
   "execution_count": 5,
   "id": "13e1685c",
   "metadata": {
    "colab": {
     "base_uri": "https://localhost:8080/"
    },
    "executionInfo": {
     "elapsed": 422,
     "status": "ok",
     "timestamp": 1683095045041,
     "user": {
      "displayName": "Mohamed Mahmoud Ali",
      "userId": "09893787734904302111"
     },
     "user_tz": -180
    },
    "id": "13e1685c",
    "outputId": "d8a167dc-1fa4-49fe-f4a1-14cde8669e8d"
   },
   "outputs": [
    {
     "data": {
      "text/plain": [
       "2"
      ]
     },
     "execution_count": 5,
     "metadata": {},
     "output_type": "execute_result"
    }
   ],
   "source": [
    "11 % 3"
   ]
  },
  {
   "cell_type": "code",
   "execution_count": 6,
   "id": "69e1dd52",
   "metadata": {
    "colab": {
     "base_uri": "https://localhost:8080/"
    },
    "executionInfo": {
     "elapsed": 472,
     "status": "ok",
     "timestamp": 1683095053306,
     "user": {
      "displayName": "Mohamed Mahmoud Ali",
      "userId": "09893787734904302111"
     },
     "user_tz": -180
    },
    "id": "69e1dd52",
    "outputId": "b59f55ec-8313-4502-da9b-3a73fd65383f"
   },
   "outputs": [
    {
     "data": {
      "text/plain": [
       "0"
      ]
     },
     "execution_count": 6,
     "metadata": {},
     "output_type": "execute_result"
    }
   ],
   "source": [
    "18 % 6"
   ]
  },
  {
   "cell_type": "code",
   "execution_count": 7,
   "id": "15ddb61e",
   "metadata": {
    "colab": {
     "base_uri": "https://localhost:8080/"
    },
    "executionInfo": {
     "elapsed": 417,
     "status": "ok",
     "timestamp": 1683095076228,
     "user": {
      "displayName": "Mohamed Mahmoud Ali",
      "userId": "09893787734904302111"
     },
     "user_tz": -180
    },
    "id": "15ddb61e",
    "outputId": "c434fbef-d544-430b-87c3-6068e1274265"
   },
   "outputs": [
    {
     "data": {
      "text/plain": [
       "3"
      ]
     },
     "execution_count": 7,
     "metadata": {},
     "output_type": "execute_result"
    }
   ],
   "source": [
    "7 // 2  # floor division"
   ]
  },
  {
   "cell_type": "code",
   "execution_count": 8,
   "id": "c886eacd",
   "metadata": {
    "colab": {
     "base_uri": "https://localhost:8080/"
    },
    "executionInfo": {
     "elapsed": 398,
     "status": "ok",
     "timestamp": 1683095123180,
     "user": {
      "displayName": "Mohamed Mahmoud Ali",
      "userId": "09893787734904302111"
     },
     "user_tz": -180
    },
    "id": "c886eacd",
    "outputId": "2dd53eb9-5e35-4438-a70b-b73418ada147"
   },
   "outputs": [
    {
     "data": {
      "text/plain": [
       "3"
      ]
     },
     "execution_count": 8,
     "metadata": {},
     "output_type": "execute_result"
    }
   ],
   "source": [
    "11 // 3   # 3.6666"
   ]
  },
  {
   "cell_type": "code",
   "execution_count": 9,
   "id": "5a2206fb",
   "metadata": {
    "colab": {
     "base_uri": "https://localhost:8080/"
    },
    "executionInfo": {
     "elapsed": 517,
     "status": "ok",
     "timestamp": 1683095136455,
     "user": {
      "displayName": "Mohamed Mahmoud Ali",
      "userId": "09893787734904302111"
     },
     "user_tz": -180
    },
    "id": "5a2206fb",
    "outputId": "2cc41bb6-b56d-4050-8416-5ead6c007dc9"
   },
   "outputs": [
    {
     "data": {
      "text/plain": [
       "8"
      ]
     },
     "execution_count": 9,
     "metadata": {},
     "output_type": "execute_result"
    }
   ],
   "source": [
    "2 ** 3   # 2 to the power 3"
   ]
  },
  {
   "cell_type": "code",
   "execution_count": null,
   "id": "b6162c65",
   "metadata": {
    "id": "b6162c65",
    "outputId": "a98f63d9-86e4-43f6-a027-7a45daf30d83"
   },
   "outputs": [
    {
     "data": {
      "text/plain": [
       "343"
      ]
     },
     "execution_count": 8,
     "metadata": {},
     "output_type": "execute_result"
    }
   ],
   "source": [
    "7 ** 3 "
   ]
  },
  {
   "cell_type": "markdown",
   "id": "5495cdb8",
   "metadata": {
    "id": "5495cdb8"
   },
   "source": [
    "2. Boolean O."
   ]
  },
  {
   "cell_type": "code",
   "execution_count": null,
   "id": "a3c1a549",
   "metadata": {
    "id": "a3c1a549"
   },
   "outputs": [],
   "source": [
    "True   - 1\n",
    "\n",
    "False  - 0"
   ]
  },
  {
   "cell_type": "markdown",
   "id": "f415402c",
   "metadata": {
    "id": "f415402c"
   },
   "source": [
    "2. Logical Operators\n",
    "\n",
    "not\n",
    "\n",
    "and\n",
    "\n",
    "or"
   ]
  },
  {
   "cell_type": "code",
   "execution_count": 10,
   "id": "052a4864",
   "metadata": {
    "colab": {
     "base_uri": "https://localhost:8080/"
    },
    "executionInfo": {
     "elapsed": 425,
     "status": "ok",
     "timestamp": 1683095154684,
     "user": {
      "displayName": "Mohamed Mahmoud Ali",
      "userId": "09893787734904302111"
     },
     "user_tz": -180
    },
    "id": "052a4864",
    "outputId": "badefcbc-c3db-4362-d1a7-a3e3605d9b2e"
   },
   "outputs": [
    {
     "name": "stdout",
     "output_type": "stream",
     "text": [
      "False\n"
     ]
    }
   ],
   "source": [
    "print(not True)"
   ]
  },
  {
   "cell_type": "code",
   "execution_count": 11,
   "id": "c0af3653",
   "metadata": {
    "colab": {
     "base_uri": "https://localhost:8080/"
    },
    "executionInfo": {
     "elapsed": 2,
     "status": "ok",
     "timestamp": 1683095157533,
     "user": {
      "displayName": "Mohamed Mahmoud Ali",
      "userId": "09893787734904302111"
     },
     "user_tz": -180
    },
    "id": "c0af3653",
    "outputId": "cd30f96f-ef36-4252-92d3-c538160fb938"
   },
   "outputs": [
    {
     "name": "stdout",
     "output_type": "stream",
     "text": [
      "True\n"
     ]
    }
   ],
   "source": [
    "print(not False)"
   ]
  },
  {
   "cell_type": "code",
   "execution_count": null,
   "id": "15466449",
   "metadata": {
    "id": "15466449"
   },
   "outputs": [],
   "source": [
    "Truth Table\n",
    "\n",
    "0  and  0  -- 0\n",
    "0  and  1  -- 0\n",
    "1  and  0  -- 0\n",
    "1  and  1  -- 1\n"
   ]
  },
  {
   "cell_type": "code",
   "execution_count": null,
   "id": "a2d85c23",
   "metadata": {
    "id": "a2d85c23",
    "outputId": "bd0abb9f-c9b6-48a5-802b-cc1a84b359b6"
   },
   "outputs": [
    {
     "name": "stdout",
     "output_type": "stream",
     "text": [
      "False\n"
     ]
    }
   ],
   "source": [
    "print(True and False)"
   ]
  },
  {
   "cell_type": "code",
   "execution_count": null,
   "id": "a56d0e43",
   "metadata": {
    "id": "a56d0e43"
   },
   "outputs": [],
   "source": [
    "Truth Table\n",
    "\n",
    "0  or  0  -- 0\n",
    "0  or  1  -- 1\n",
    "1  or  0  -- 1\n",
    "1  or  1  -- 1\n"
   ]
  },
  {
   "cell_type": "code",
   "execution_count": null,
   "id": "9feb9eec",
   "metadata": {
    "id": "9feb9eec",
    "outputId": "4a9a2165-33b3-49bf-a607-e85aaf86ec86"
   },
   "outputs": [
    {
     "name": "stdout",
     "output_type": "stream",
     "text": [
      "True\n"
     ]
    }
   ],
   "source": [
    "print(True or False)"
   ]
  },
  {
   "cell_type": "code",
   "execution_count": null,
   "id": "f508536e",
   "metadata": {
    "id": "f508536e",
    "outputId": "87f32b1f-ecaa-4376-9585-76056594fd4d"
   },
   "outputs": [
    {
     "name": "stdout",
     "output_type": "stream",
     "text": [
      "False\n"
     ]
    }
   ],
   "source": [
    "print(False or False)"
   ]
  },
  {
   "cell_type": "code",
   "execution_count": null,
   "id": "2d472b3a",
   "metadata": {
    "id": "2d472b3a",
    "outputId": "946c50b2-4cf5-4dac-c088-8d6607cc1035"
   },
   "outputs": [
    {
     "data": {
      "text/plain": [
       "True"
      ]
     },
     "execution_count": 14,
     "metadata": {},
     "output_type": "execute_result"
    }
   ],
   "source": [
    "True and False and not False or True or not False\n",
    "#     F               T                    T\n",
    "#               F\n",
    "#                            T\n",
    "#                                   T"
   ]
  },
  {
   "cell_type": "code",
   "execution_count": 12,
   "id": "97f13fc5",
   "metadata": {
    "colab": {
     "base_uri": "https://localhost:8080/"
    },
    "executionInfo": {
     "elapsed": 5,
     "status": "ok",
     "timestamp": 1683095256408,
     "user": {
      "displayName": "Mohamed Mahmoud Ali",
      "userId": "09893787734904302111"
     },
     "user_tz": -180
    },
    "id": "97f13fc5",
    "outputId": "763b06f4-ee32-425d-8a15-65fd8c6f830b"
   },
   "outputs": [
    {
     "data": {
      "text/plain": [
       "True"
      ]
     },
     "execution_count": 12,
     "metadata": {},
     "output_type": "execute_result"
    }
   ],
   "source": [
    "True and False and not False or True or not False and not False or True or not False"
   ]
  },
  {
   "cell_type": "markdown",
   "id": "5a24df83",
   "metadata": {
    "id": "5a24df83"
   },
   "source": [
    "4. Relational O."
   ]
  },
  {
   "cell_type": "code",
   "execution_count": null,
   "id": "3671bfe5",
   "metadata": {
    "id": "3671bfe5"
   },
   "outputs": [],
   "source": [
    "> , < , >=  , <=  , != , =="
   ]
  },
  {
   "cell_type": "code",
   "execution_count": 13,
   "id": "6c971f9e",
   "metadata": {
    "colab": {
     "base_uri": "https://localhost:8080/"
    },
    "executionInfo": {
     "elapsed": 4,
     "status": "ok",
     "timestamp": 1683095267820,
     "user": {
      "displayName": "Mohamed Mahmoud Ali",
      "userId": "09893787734904302111"
     },
     "user_tz": -180
    },
    "id": "6c971f9e",
    "outputId": "71423009-cf22-4582-90b3-6f4bc5e04bf5"
   },
   "outputs": [
    {
     "data": {
      "text/plain": [
       "True"
      ]
     },
     "execution_count": 13,
     "metadata": {},
     "output_type": "execute_result"
    }
   ],
   "source": [
    "10 > 5"
   ]
  },
  {
   "cell_type": "code",
   "execution_count": 14,
   "id": "9daab97f",
   "metadata": {
    "colab": {
     "base_uri": "https://localhost:8080/"
    },
    "executionInfo": {
     "elapsed": 4,
     "status": "ok",
     "timestamp": 1683095270030,
     "user": {
      "displayName": "Mohamed Mahmoud Ali",
      "userId": "09893787734904302111"
     },
     "user_tz": -180
    },
    "id": "9daab97f",
    "outputId": "6979740d-87d0-4a33-b434-25bfa2b1a7d1"
   },
   "outputs": [
    {
     "data": {
      "text/plain": [
       "True"
      ]
     },
     "execution_count": 14,
     "metadata": {},
     "output_type": "execute_result"
    }
   ],
   "source": [
    "10 >= 10"
   ]
  },
  {
   "cell_type": "code",
   "execution_count": 15,
   "id": "5a1ac375",
   "metadata": {
    "colab": {
     "base_uri": "https://localhost:8080/"
    },
    "executionInfo": {
     "elapsed": 2,
     "status": "ok",
     "timestamp": 1683095273262,
     "user": {
      "displayName": "Mohamed Mahmoud Ali",
      "userId": "09893787734904302111"
     },
     "user_tz": -180
    },
    "id": "5a1ac375",
    "outputId": "c33ce3d4-1e19-458b-96ff-79eae34074ab"
   },
   "outputs": [
    {
     "data": {
      "text/plain": [
       "False"
      ]
     },
     "execution_count": 15,
     "metadata": {},
     "output_type": "execute_result"
    }
   ],
   "source": [
    "10 != 10"
   ]
  },
  {
   "cell_type": "code",
   "execution_count": 16,
   "id": "5b2bdf09",
   "metadata": {
    "colab": {
     "base_uri": "https://localhost:8080/"
    },
    "executionInfo": {
     "elapsed": 2,
     "status": "ok",
     "timestamp": 1683095276093,
     "user": {
      "displayName": "Mohamed Mahmoud Ali",
      "userId": "09893787734904302111"
     },
     "user_tz": -180
    },
    "id": "5b2bdf09",
    "outputId": "5bfc106b-b9f8-436e-f44d-957621fd82a2"
   },
   "outputs": [
    {
     "data": {
      "text/plain": [
       "False"
      ]
     },
     "execution_count": 16,
     "metadata": {},
     "output_type": "execute_result"
    }
   ],
   "source": [
    "10 == 11"
   ]
  },
  {
   "cell_type": "code",
   "execution_count": null,
   "id": "da4cb4aa",
   "metadata": {
    "id": "da4cb4aa",
    "outputId": "0b5b29d1-682e-4689-e80f-b834cba06164"
   },
   "outputs": [
    {
     "data": {
      "text/plain": [
       "True"
      ]
     },
     "execution_count": 19,
     "metadata": {},
     "output_type": "execute_result"
    }
   ],
   "source": [
    "10 == 10"
   ]
  },
  {
   "cell_type": "markdown",
   "id": "90f90f49",
   "metadata": {
    "id": "90f90f49"
   },
   "source": [
    "5. Assignment O."
   ]
  },
  {
   "cell_type": "code",
   "execution_count": null,
   "id": "814ffcaf",
   "metadata": {
    "id": "814ffcaf"
   },
   "outputs": [],
   "source": [
    "= , += , -= , *= , /= , %= , //= , **="
   ]
  },
  {
   "cell_type": "code",
   "execution_count": null,
   "id": "8e48e1cb",
   "metadata": {
    "id": "8e48e1cb",
    "outputId": "efc70694-a96f-46e0-f271-6af72313728f"
   },
   "outputs": [
    {
     "name": "stdout",
     "output_type": "stream",
     "text": [
      "15\n"
     ]
    }
   ],
   "source": [
    "a = 10\n",
    "a += 5   # a = a + 5\n",
    "print(a)"
   ]
  },
  {
   "cell_type": "code",
   "execution_count": null,
   "id": "8cf07fe1",
   "metadata": {
    "id": "8cf07fe1",
    "outputId": "08520f7e-7c24-4f6b-9479-1b0612496e0d"
   },
   "outputs": [
    {
     "name": "stdout",
     "output_type": "stream",
     "text": [
      "0\n"
     ]
    }
   ],
   "source": [
    "a = 10\n",
    "a %= 2   # a = a % 2\n",
    "print(a)"
   ]
  },
  {
   "cell_type": "code",
   "execution_count": null,
   "id": "2e6b162e",
   "metadata": {
    "id": "2e6b162e",
    "outputId": "c15e209a-04e4-4595-af7c-c4625b75a0ac"
   },
   "outputs": [
    {
     "name": "stdout",
     "output_type": "stream",
     "text": [
      "100\n"
     ]
    }
   ],
   "source": [
    "a = 10\n",
    "a **= 2   # a = a ** 2\n",
    "print(a)"
   ]
  },
  {
   "cell_type": "code",
   "execution_count": null,
   "id": "6d9129b1",
   "metadata": {
    "id": "6d9129b1"
   },
   "outputs": [],
   "source": [
    "++\n",
    "--"
   ]
  },
  {
   "cell_type": "code",
   "execution_count": 19,
   "id": "c8122b3c",
   "metadata": {
    "colab": {
     "base_uri": "https://localhost:8080/"
    },
    "executionInfo": {
     "elapsed": 2,
     "status": "ok",
     "timestamp": 1683095361315,
     "user": {
      "displayName": "Mohamed Mahmoud Ali",
      "userId": "09893787734904302111"
     },
     "user_tz": -180
    },
    "id": "c8122b3c",
    "outputId": "77f73ed9-b10c-46cb-bbd3-d632f6adae93"
   },
   "outputs": [
    {
     "name": "stdout",
     "output_type": "stream",
     "text": [
      "11\n"
     ]
    }
   ],
   "source": [
    "a = 10\n",
    "a += 1\n",
    "print(a)"
   ]
  },
  {
   "cell_type": "markdown",
   "id": "a7e9edfd",
   "metadata": {
    "id": "a7e9edfd"
   },
   "source": [
    "6. Bitwise O."
   ]
  },
  {
   "cell_type": "code",
   "execution_count": null,
   "id": "e05224d4",
   "metadata": {
    "id": "e05224d4"
   },
   "outputs": [],
   "source": [
    "&  bitwise and\n",
    "|  bitwise  or\n",
    "^  bitwise  xor\n",
    "<<          left shift\n",
    ">>          right shift"
   ]
  },
  {
   "cell_type": "code",
   "execution_count": null,
   "id": "feb6617f",
   "metadata": {
    "id": "feb6617f"
   },
   "outputs": [],
   "source": [
    "1024    512    256    128    64    32    16    8    4    2    1\n",
    "#                                              1    0    0    1\n",
    "#                             1     0     1    1    0    0    0 \n",
    "#                                              1    1    1    1"
   ]
  },
  {
   "cell_type": "code",
   "execution_count": null,
   "id": "7b5ba1b5",
   "metadata": {
    "id": "7b5ba1b5"
   },
   "outputs": [],
   "source": [
    "1 byte  -  8 bits\n",
    "2 byte  -  16 bits\n",
    "4 byte  -  32 bits"
   ]
  },
  {
   "cell_type": "code",
   "execution_count": null,
   "id": "d0db4689",
   "metadata": {
    "id": "d0db4689"
   },
   "outputs": [],
   "source": [
    "Truth Table\n",
    "\n",
    "0  &  0  -- 0\n",
    "0  &  1  -- 0\n",
    "1  &  0  -- 0\n",
    "1  &  1  -- 1\n"
   ]
  },
  {
   "cell_type": "code",
   "execution_count": null,
   "id": "2ff5ebbc",
   "metadata": {
    "id": "2ff5ebbc",
    "outputId": "aa3e8ee6-1d14-481f-efc2-3fdc82adf141"
   },
   "outputs": [
    {
     "data": {
      "text/plain": [
       "0"
      ]
     },
     "execution_count": 24,
     "metadata": {},
     "output_type": "execute_result"
    }
   ],
   "source": [
    "8 & 2   # 1000\n",
    "        # 0010\n",
    "        # 0000"
   ]
  },
  {
   "cell_type": "code",
   "execution_count": null,
   "id": "5af927c4",
   "metadata": {
    "id": "5af927c4",
    "outputId": "bb41b02e-d08d-4f23-e284-1e30285b765f"
   },
   "outputs": [
    {
     "data": {
      "text/plain": [
       "0"
      ]
     },
     "execution_count": 25,
     "metadata": {},
     "output_type": "execute_result"
    }
   ],
   "source": [
    "11 & 4  # 1011\n",
    "        # 0100\n",
    "        # 0000"
   ]
  },
  {
   "cell_type": "code",
   "execution_count": 21,
   "id": "999805d0",
   "metadata": {
    "colab": {
     "base_uri": "https://localhost:8080/"
    },
    "executionInfo": {
     "elapsed": 429,
     "status": "ok",
     "timestamp": 1683095525415,
     "user": {
      "displayName": "Mohamed Mahmoud Ali",
      "userId": "09893787734904302111"
     },
     "user_tz": -180
    },
    "id": "999805d0",
    "outputId": "0305e8a5-2abb-4fce-a994-7c54272efe8e"
   },
   "outputs": [
    {
     "data": {
      "text/plain": [
       "5"
      ]
     },
     "execution_count": 21,
     "metadata": {},
     "output_type": "execute_result"
    }
   ],
   "source": [
    "15 & 5  # 1101\n",
    "        # 0101\n",
    "        # 0101"
   ]
  },
  {
   "cell_type": "code",
   "execution_count": null,
   "id": "286f437c",
   "metadata": {
    "id": "286f437c"
   },
   "outputs": [],
   "source": [
    "Truth Table\n",
    "\n",
    "0  |  0  -- 0\n",
    "0  |  1  -- 1\n",
    "1  |  0  -- 1\n",
    "1  |  1  -- 1\n"
   ]
  },
  {
   "cell_type": "code",
   "execution_count": null,
   "id": "f3d6d741",
   "metadata": {
    "id": "f3d6d741",
    "outputId": "28dcbd73-4853-4222-e44e-e855e39e595e"
   },
   "outputs": [
    {
     "data": {
      "text/plain": [
       "15"
      ]
     },
     "execution_count": 27,
     "metadata": {},
     "output_type": "execute_result"
    }
   ],
   "source": [
    "7 | 9  # 0111\n",
    "       # 1001\n",
    "       # 1111"
   ]
  },
  {
   "cell_type": "code",
   "execution_count": null,
   "id": "bbbe7fa7",
   "metadata": {
    "id": "bbbe7fa7"
   },
   "outputs": [],
   "source": [
    "Truth Table\n",
    "\n",
    "0  ^  0  -- 0\n",
    "0  ^  1  -- 1\n",
    "1  ^  0  -- 1\n",
    "1  ^  1  -- 0\n"
   ]
  },
  {
   "cell_type": "code",
   "execution_count": null,
   "id": "96a41861",
   "metadata": {
    "id": "96a41861",
    "outputId": "35169069-87ac-4971-e8e3-fe7cc071ca1f"
   },
   "outputs": [
    {
     "data": {
      "text/plain": [
       "9"
      ]
     },
     "execution_count": 28,
     "metadata": {},
     "output_type": "execute_result"
    }
   ],
   "source": [
    "15 ^ 6  # 1111\n",
    "        # 0110\n",
    "        # 1001"
   ]
  },
  {
   "cell_type": "code",
   "execution_count": 22,
   "id": "afd33e67",
   "metadata": {
    "colab": {
     "base_uri": "https://localhost:8080/"
    },
    "executionInfo": {
     "elapsed": 421,
     "status": "ok",
     "timestamp": 1683095598348,
     "user": {
      "displayName": "Mohamed Mahmoud Ali",
      "userId": "09893787734904302111"
     },
     "user_tz": -180
    },
    "id": "afd33e67",
    "outputId": "2473b188-2791-4206-eadd-3bf143fd2a87"
   },
   "outputs": [
    {
     "data": {
      "text/plain": [
       "32"
      ]
     },
     "execution_count": 22,
     "metadata": {},
     "output_type": "execute_result"
    }
   ],
   "source": [
    "8 << 2   # 000100000\n"
   ]
  },
  {
   "cell_type": "code",
   "execution_count": null,
   "id": "f94c7dae",
   "metadata": {
    "id": "f94c7dae",
    "outputId": "7551fb6b-ecf5-420b-876e-88c5e6dad16e"
   },
   "outputs": [
    {
     "data": {
      "text/plain": [
       "88"
      ]
     },
     "execution_count": 30,
     "metadata": {},
     "output_type": "execute_result"
    }
   ],
   "source": [
    "11 << 3  # 01011000"
   ]
  },
  {
   "cell_type": "code",
   "execution_count": 23,
   "id": "2e3af273",
   "metadata": {
    "colab": {
     "base_uri": "https://localhost:8080/"
    },
    "executionInfo": {
     "elapsed": 493,
     "status": "ok",
     "timestamp": 1683095612805,
     "user": {
      "displayName": "Mohamed Mahmoud Ali",
      "userId": "09893787734904302111"
     },
     "user_tz": -180
    },
    "id": "2e3af273",
    "outputId": "f63c44fe-68c5-4582-f0cc-5d66f2fbd10c"
   },
   "outputs": [
    {
     "data": {
      "text/plain": [
       "1"
      ]
     },
     "execution_count": 23,
     "metadata": {},
     "output_type": "execute_result"
    }
   ],
   "source": [
    "# right shift\n",
    "\n",
    "7 >> 2    # 00000001"
   ]
  },
  {
   "cell_type": "code",
   "execution_count": null,
   "id": "56ee1e12",
   "metadata": {
    "id": "56ee1e12"
   },
   "outputs": [],
   "source": []
  }
 ],
 "metadata": {
  "colab": {
   "provenance": []
  },
  "kernelspec": {
   "display_name": "Python 3 (ipykernel)",
   "language": "python",
   "name": "python3"
  },
  "language_info": {
   "codemirror_mode": {
    "name": "ipython",
    "version": 3
   },
   "file_extension": ".py",
   "mimetype": "text/x-python",
   "name": "python",
   "nbconvert_exporter": "python",
   "pygments_lexer": "ipython3",
   "version": "3.10.9"
  }
 },
 "nbformat": 4,
 "nbformat_minor": 5
}
