{
 "cells": [
  {
   "cell_type": "markdown",
   "id": "42bc82cf",
   "metadata": {
    "id": "42bc82cf"
   },
   "source": [
    "# Functions"
   ]
  },
  {
   "cell_type": "code",
   "execution_count": null,
   "id": "fd4adff4",
   "metadata": {
    "id": "fd4adff4",
    "outputId": "a52d1476-adca-4885-fcab-078816d3e31f"
   },
   "outputs": [
    {
     "name": "stdout",
     "output_type": "stream",
     "text": [
      "Hello\n"
     ]
    }
   ],
   "source": [
    "print(\"Hello\")"
   ]
  },
  {
   "cell_type": "code",
   "execution_count": null,
   "id": "6c6c14ad",
   "metadata": {
    "id": "6c6c14ad"
   },
   "outputs": [],
   "source": [
    "def indore():                  # definition of a function\n",
    "    print(\"Hello Indore\")\n",
    "    print(\"I am the best!\")"
   ]
  },
  {
   "cell_type": "code",
   "execution_count": null,
   "id": "b9a62af8",
   "metadata": {
    "id": "b9a62af8",
    "outputId": "53d09d1d-79cd-40cf-ca84-8dea8a5d2cd4"
   },
   "outputs": [
    {
     "name": "stdout",
     "output_type": "stream",
     "text": [
      "Hello Indore\n",
      "I am the best!\n"
     ]
    }
   ],
   "source": [
    "indore()                     # calling of a function"
   ]
  },
  {
   "cell_type": "code",
   "execution_count": null,
   "id": "565bb08a",
   "metadata": {
    "id": "565bb08a",
    "outputId": "cb195bb5-d8e2-4d9a-968f-6d64794ac20d"
   },
   "outputs": [
    {
     "name": "stdout",
     "output_type": "stream",
     "text": [
      "Help on built-in function max in module builtins:\n",
      "\n",
      "max(...)\n",
      "    max(iterable, *[, default=obj, key=func]) -> value\n",
      "    max(arg1, arg2, *args, *[, key=func]) -> value\n",
      "    \n",
      "    With a single iterable argument, return its biggest item. The\n",
      "    default keyword-only argument specifies an object to return if\n",
      "    the provided iterable is empty.\n",
      "    With two or more arguments, return the largest argument.\n",
      "\n"
     ]
    }
   ],
   "source": [
    "help(max)"
   ]
  },
  {
   "cell_type": "code",
   "execution_count": null,
   "id": "afbf3d66",
   "metadata": {
    "id": "afbf3d66"
   },
   "outputs": [],
   "source": [
    "max?"
   ]
  },
  {
   "cell_type": "code",
   "execution_count": null,
   "id": "f554fd88",
   "metadata": {
    "id": "f554fd88",
    "outputId": "a4bd8b3c-f95f-44cc-f10f-30d08be2e4e9",
    "scrolled": true
   },
   "outputs": [
    {
     "name": "stdout",
     "output_type": "stream",
     "text": [
      "1\n",
      "2\n",
      "3\n"
     ]
    }
   ],
   "source": [
    "def paint():\n",
    "    print(1)\n",
    "    print(2)\n",
    "    print(3)\n",
    "\n",
    "paint()"
   ]
  },
  {
   "cell_type": "code",
   "execution_count": null,
   "id": "8a1a56c3",
   "metadata": {
    "id": "8a1a56c3",
    "outputId": "2cdb85d5-b5ff-4694-f47c-7d400c5308dc"
   },
   "outputs": [
    {
     "name": "stdout",
     "output_type": "stream",
     "text": [
      "1\n",
      "2\n",
      "3\n",
      "Hello\n",
      "1\n",
      "2\n",
      "3\n",
      "Hello\n",
      "1\n",
      "2\n",
      "3\n"
     ]
    }
   ],
   "source": [
    "paint()\n",
    "print(\"Hello\")\n",
    "paint()\n",
    "print(\"Hello\")\n",
    "paint()"
   ]
  },
  {
   "cell_type": "code",
   "execution_count": null,
   "id": "e68a2ab1",
   "metadata": {
    "id": "e68a2ab1",
    "outputId": "b5d4174b-9468-4623-d690-5d405aa704fe"
   },
   "outputs": [
    {
     "ename": "NameError",
     "evalue": "name 'hello' is not defined",
     "output_type": "error",
     "traceback": [
      "\u001b[1;31m---------------------------------------------------------------------------\u001b[0m",
      "\u001b[1;31mNameError\u001b[0m                                 Traceback (most recent call last)",
      "\u001b[1;32m<ipython-input-9-ec0ffb3daaa0>\u001b[0m in \u001b[0;36m<module>\u001b[1;34m\u001b[0m\n\u001b[1;32m----> 1\u001b[1;33m \u001b[0mhello\u001b[0m\u001b[1;33m(\u001b[0m\u001b[1;33m)\u001b[0m\u001b[1;33m\u001b[0m\u001b[1;33m\u001b[0m\u001b[0m\n\u001b[0m\u001b[0;32m      2\u001b[0m \u001b[1;33m\u001b[0m\u001b[0m\n\u001b[0;32m      3\u001b[0m \u001b[1;32mdef\u001b[0m \u001b[0mhello\u001b[0m\u001b[1;33m(\u001b[0m\u001b[1;33m)\u001b[0m\u001b[1;33m:\u001b[0m\u001b[1;33m\u001b[0m\u001b[1;33m\u001b[0m\u001b[0m\n\u001b[0;32m      4\u001b[0m     \u001b[0mprint\u001b[0m\u001b[1;33m(\u001b[0m\u001b[1;34m\"Hello User\"\u001b[0m\u001b[1;33m)\u001b[0m\u001b[1;33m\u001b[0m\u001b[1;33m\u001b[0m\u001b[0m\n",
      "\u001b[1;31mNameError\u001b[0m: name 'hello' is not defined"
     ]
    }
   ],
   "source": [
    "hello()\n",
    "\n",
    "def hello():\n",
    "    print(\"Hello User\")"
   ]
  },
  {
   "cell_type": "markdown",
   "id": "465b3911",
   "metadata": {
    "id": "465b3911"
   },
   "source": [
    "# Arguments"
   ]
  },
  {
   "cell_type": "code",
   "execution_count": null,
   "id": "d470c9cb",
   "metadata": {
    "id": "d470c9cb",
    "outputId": "db328bc9-f071-4dbe-b17c-0a2408028e33"
   },
   "outputs": [
    {
     "name": "stdout",
     "output_type": "stream",
     "text": [
      "Hello\n"
     ]
    }
   ],
   "source": [
    "print(\"Hello\")"
   ]
  },
  {
   "cell_type": "code",
   "execution_count": null,
   "id": "4842cade",
   "metadata": {
    "id": "4842cade"
   },
   "outputs": [],
   "source": [
    "def indore(a):         # a = \"Hi\"\n",
    "    print(a + \"!!\")"
   ]
  },
  {
   "cell_type": "code",
   "execution_count": null,
   "id": "c9360916",
   "metadata": {
    "id": "c9360916",
    "outputId": "9fc73e69-ae68-4699-ce4a-dd04c920e60d"
   },
   "outputs": [
    {
     "name": "stdout",
     "output_type": "stream",
     "text": [
      "Hi!!\n"
     ]
    }
   ],
   "source": [
    "indore(\"Hi\")"
   ]
  },
  {
   "cell_type": "code",
   "execution_count": null,
   "id": "515787f1",
   "metadata": {
    "id": "515787f1",
    "outputId": "e498f2b1-242c-4127-d938-171f1901f6af"
   },
   "outputs": [
    {
     "name": "stdout",
     "output_type": "stream",
     "text": [
      "Hello!!\n",
      "India!!\n",
      "Chennai!!\n"
     ]
    }
   ],
   "source": [
    "indore(\"Hello\")\n",
    "indore(\"India\")\n",
    "indore(\"Chennai\")"
   ]
  },
  {
   "cell_type": "code",
   "execution_count": null,
   "id": "55ddbe40",
   "metadata": {
    "id": "55ddbe40"
   },
   "outputs": [],
   "source": [
    "def add(x , y):\n",
    "    print(x + y)"
   ]
  },
  {
   "cell_type": "code",
   "execution_count": null,
   "id": "7f7d61b8",
   "metadata": {
    "id": "7f7d61b8",
    "outputId": "1e045593-f564-4cc2-9f96-002914fdc36d"
   },
   "outputs": [
    {
     "ename": "TypeError",
     "evalue": "add() missing 1 required positional argument: 'y'",
     "output_type": "error",
     "traceback": [
      "\u001b[1;31m---------------------------------------------------------------------------\u001b[0m",
      "\u001b[1;31mTypeError\u001b[0m                                 Traceback (most recent call last)",
      "\u001b[1;32m<ipython-input-16-fb866b66e1c7>\u001b[0m in \u001b[0;36m<module>\u001b[1;34m\u001b[0m\n\u001b[1;32m----> 1\u001b[1;33m \u001b[0madd\u001b[0m\u001b[1;33m(\u001b[0m\u001b[1;36m10\u001b[0m\u001b[1;33m)\u001b[0m\u001b[1;33m\u001b[0m\u001b[1;33m\u001b[0m\u001b[0m\n\u001b[0m",
      "\u001b[1;31mTypeError\u001b[0m: add() missing 1 required positional argument: 'y'"
     ]
    }
   ],
   "source": [
    "add(10)"
   ]
  },
  {
   "cell_type": "code",
   "execution_count": null,
   "id": "c5caa984",
   "metadata": {
    "id": "c5caa984",
    "outputId": "5190ca06-56fc-4cc4-af46-bd030697ca23"
   },
   "outputs": [
    {
     "ename": "TypeError",
     "evalue": "add() missing 2 required positional arguments: 'x' and 'y'",
     "output_type": "error",
     "traceback": [
      "\u001b[1;31m---------------------------------------------------------------------------\u001b[0m",
      "\u001b[1;31mTypeError\u001b[0m                                 Traceback (most recent call last)",
      "\u001b[1;32m<ipython-input-17-d5d29de3ed94>\u001b[0m in \u001b[0;36m<module>\u001b[1;34m\u001b[0m\n\u001b[1;32m----> 1\u001b[1;33m \u001b[0madd\u001b[0m\u001b[1;33m(\u001b[0m\u001b[1;33m)\u001b[0m\u001b[1;33m\u001b[0m\u001b[1;33m\u001b[0m\u001b[0m\n\u001b[0m",
      "\u001b[1;31mTypeError\u001b[0m: add() missing 2 required positional arguments: 'x' and 'y'"
     ]
    }
   ],
   "source": [
    "add()"
   ]
  },
  {
   "cell_type": "code",
   "execution_count": null,
   "id": "d10ae7bd",
   "metadata": {
    "id": "d10ae7bd",
    "outputId": "abbb607d-17d5-4b5f-acce-c33806ddec0c"
   },
   "outputs": [
    {
     "ename": "TypeError",
     "evalue": "add() takes 2 positional arguments but 3 were given",
     "output_type": "error",
     "traceback": [
      "\u001b[1;31m---------------------------------------------------------------------------\u001b[0m",
      "\u001b[1;31mTypeError\u001b[0m                                 Traceback (most recent call last)",
      "\u001b[1;32m<ipython-input-18-ff1b6584ceb8>\u001b[0m in \u001b[0;36m<module>\u001b[1;34m\u001b[0m\n\u001b[1;32m----> 1\u001b[1;33m \u001b[0madd\u001b[0m\u001b[1;33m(\u001b[0m\u001b[1;36m1\u001b[0m\u001b[1;33m,\u001b[0m\u001b[1;36m2\u001b[0m\u001b[1;33m,\u001b[0m\u001b[1;36m3\u001b[0m\u001b[1;33m)\u001b[0m\u001b[1;33m\u001b[0m\u001b[1;33m\u001b[0m\u001b[0m\n\u001b[0m",
      "\u001b[1;31mTypeError\u001b[0m: add() takes 2 positional arguments but 3 were given"
     ]
    }
   ],
   "source": [
    "add(1,2,3)"
   ]
  },
  {
   "cell_type": "code",
   "execution_count": null,
   "id": "2535ac26",
   "metadata": {
    "id": "2535ac26"
   },
   "outputs": [],
   "source": [
    "def add(x , y):\n",
    "    print(x + y)"
   ]
  },
  {
   "cell_type": "code",
   "execution_count": null,
   "id": "d595cd7f",
   "metadata": {
    "id": "d595cd7f",
    "outputId": "0f8e82f3-bcdb-4666-84c1-69f9ac8088ba"
   },
   "outputs": [
    {
     "name": "stdout",
     "output_type": "stream",
     "text": [
      "30\n"
     ]
    }
   ],
   "source": [
    "add(10,20)"
   ]
  },
  {
   "cell_type": "code",
   "execution_count": null,
   "id": "c3b6ab0d",
   "metadata": {
    "id": "c3b6ab0d",
    "outputId": "9ff1de10-7cd5-43a6-a14a-3eaff92bad3e"
   },
   "outputs": [
    {
     "name": "stdout",
     "output_type": "stream",
     "text": [
      "15\n"
     ]
    }
   ],
   "source": [
    "add(7,8)"
   ]
  },
  {
   "cell_type": "code",
   "execution_count": null,
   "id": "cd58ad61",
   "metadata": {
    "id": "cd58ad61"
   },
   "outputs": [],
   "source": [
    "1. Create a function which takes a value and print reverse of it"
   ]
  },
  {
   "cell_type": "code",
   "execution_count": null,
   "id": "7a6d70ab",
   "metadata": {
    "id": "7a6d70ab"
   },
   "outputs": [],
   "source": [
    "2. Create a function which takes a value and check if it a pallindrome or not"
   ]
  },
  {
   "cell_type": "code",
   "execution_count": null,
   "id": "e2de2df1",
   "metadata": {
    "id": "e2de2df1",
    "outputId": "7c02c309-9b2a-4d57-9d8b-8dd04e7cc587"
   },
   "outputs": [
    {
     "name": "stdout",
     "output_type": "stream",
     "text": [
      "8\n"
     ]
    },
    {
     "ename": "NameError",
     "evalue": "name 'v' is not defined",
     "output_type": "error",
     "traceback": [
      "\u001b[1;31m---------------------------------------------------------------------------\u001b[0m",
      "\u001b[1;31mNameError\u001b[0m                                 Traceback (most recent call last)",
      "\u001b[1;32m<ipython-input-1-e2cb702230d4>\u001b[0m in \u001b[0;36m<module>\u001b[1;34m\u001b[0m\n\u001b[0;32m      4\u001b[0m \u001b[1;33m\u001b[0m\u001b[0m\n\u001b[0;32m      5\u001b[0m \u001b[0madd\u001b[0m\u001b[1;33m(\u001b[0m\u001b[1;36m7\u001b[0m\u001b[1;33m)\u001b[0m\u001b[1;33m\u001b[0m\u001b[1;33m\u001b[0m\u001b[0m\n\u001b[1;32m----> 6\u001b[1;33m \u001b[0mprint\u001b[0m\u001b[1;33m(\u001b[0m\u001b[0mv\u001b[0m\u001b[1;33m)\u001b[0m\u001b[1;33m\u001b[0m\u001b[1;33m\u001b[0m\u001b[0m\n\u001b[0m",
      "\u001b[1;31mNameError\u001b[0m: name 'v' is not defined"
     ]
    }
   ],
   "source": [
    "def add(v):          # local variable\n",
    "    v += 1\n",
    "    print(v)         #8\n",
    "\n",
    "add(7)\n",
    "print(v)"
   ]
  },
  {
   "cell_type": "code",
   "execution_count": 1,
   "id": "f73f4f52",
   "metadata": {
    "colab": {
     "base_uri": "https://localhost:8080/"
    },
    "executionInfo": {
     "elapsed": 6,
     "status": "ok",
     "timestamp": 1683706422938,
     "user": {
      "displayName": "Mohamed Mahmoud Ali",
      "userId": "09893787734904302111"
     },
     "user_tz": -180
    },
    "id": "f73f4f52",
    "outputId": "a449ce7c-620c-468b-d5a1-d764c8e8d9c1"
   },
   "outputs": [
    {
     "name": "stdout",
     "output_type": "stream",
     "text": [
      "8\n",
      "2\n"
     ]
    }
   ],
   "source": [
    "x = 2                # global variable\n",
    "def add(x):          # local variable\n",
    "    x += 1\n",
    "    print(x)         #8\n",
    "\n",
    "add(7)\n",
    "print(x)"
   ]
  },
  {
   "cell_type": "markdown",
   "id": "29abbe89",
   "metadata": {
    "id": "29abbe89"
   },
   "source": [
    "# Return Statement"
   ]
  },
  {
   "cell_type": "code",
   "execution_count": 5,
   "id": "ef0c92f0",
   "metadata": {
    "colab": {
     "base_uri": "https://localhost:8080/"
    },
    "executionInfo": {
     "elapsed": 4,
     "status": "ok",
     "timestamp": 1683706512408,
     "user": {
      "displayName": "Mohamed Mahmoud Ali",
      "userId": "09893787734904302111"
     },
     "user_tz": -180
    },
    "id": "ef0c92f0",
    "outputId": "41f861c7-2d4e-4163-c01a-b0fd021c1624"
   },
   "outputs": [
    {
     "name": "stdout",
     "output_type": "stream",
     "text": [
      "5\n"
     ]
    }
   ],
   "source": [
    "def play(x , y):\n",
    "    if x >= y:\n",
    "        return x\n",
    "    else:\n",
    "        return y\n",
    "\n",
    "win= play(5,3)\n",
    "print(win)"
   ]
  },
  {
   "cell_type": "code",
   "execution_count": null,
   "id": "48439438",
   "metadata": {
    "id": "48439438",
    "outputId": "2e668c18-f925-4c5e-8ca6-954e79b393a8"
   },
   "outputs": [
    {
     "name": "stdout",
     "output_type": "stream",
     "text": [
      "9\n"
     ]
    }
   ],
   "source": [
    "a = play(7,9)\n",
    "#      9\n",
    "\n",
    "print(a)"
   ]
  },
  {
   "cell_type": "code",
   "execution_count": null,
   "id": "b62eda1d",
   "metadata": {
    "id": "b62eda1d",
    "outputId": "c0216206-856a-45e4-9f9e-821042c7529e"
   },
   "outputs": [
    {
     "name": "stdout",
     "output_type": "stream",
     "text": [
      "3\n"
     ]
    }
   ],
   "source": [
    "l = [1,2,3]\n",
    "print(max(l))"
   ]
  },
  {
   "cell_type": "code",
   "execution_count": null,
   "id": "6bec9737",
   "metadata": {
    "id": "6bec9737",
    "outputId": "4234780f-8d24-42d5-d35e-b055a1e8530b"
   },
   "outputs": [
    {
     "name": "stdout",
     "output_type": "stream",
     "text": [
      "1\n"
     ]
    }
   ],
   "source": [
    "b = min(l)\n",
    "print(b)"
   ]
  },
  {
   "cell_type": "code",
   "execution_count": 7,
   "id": "f04db2f7",
   "metadata": {
    "colab": {
     "base_uri": "https://localhost:8080/"
    },
    "executionInfo": {
     "elapsed": 3,
     "status": "ok",
     "timestamp": 1683706575419,
     "user": {
      "displayName": "Mohamed Mahmoud Ali",
      "userId": "09893787734904302111"
     },
     "user_tz": -180
    },
    "id": "f04db2f7",
    "outputId": "9f27d2f2-bec3-408b-c76a-bee20a77d2af"
   },
   "outputs": [
    {
     "name": "stdout",
     "output_type": "stream",
     "text": [
      "23\n"
     ]
    }
   ],
   "source": [
    "def sub(x,y):\n",
    "    t = x + y\n",
    "    return t\n",
    "    print(\"Hello\")\n",
    "\n",
    "print(sub(12,11))"
   ]
  },
  {
   "cell_type": "code",
   "execution_count": null,
   "id": "9f0447b4",
   "metadata": {
    "id": "9f0447b4",
    "outputId": "1a0ee0c6-3753-4209-d8ae-a5e7b31ed7c8"
   },
   "outputs": [
    {
     "name": "stdout",
     "output_type": "stream",
     "text": [
      "1\n",
      "2\n"
     ]
    }
   ],
   "source": [
    "def pre():\n",
    "    print(1)\n",
    "    print(2)\n",
    "    return\n",
    "    print(3)\n",
    "    print(4)\n",
    "    \n",
    "pre()"
   ]
  },
  {
   "cell_type": "markdown",
   "id": "3dfc1121",
   "metadata": {
    "id": "3dfc1121"
   },
   "source": [
    "# Default Arguments"
   ]
  },
  {
   "cell_type": "code",
   "execution_count": 11,
   "id": "j7yZQA1Lu8Jm",
   "metadata": {
    "colab": {
     "base_uri": "https://localhost:8080/"
    },
    "executionInfo": {
     "elapsed": 3,
     "status": "ok",
     "timestamp": 1683706744436,
     "user": {
      "displayName": "Mohamed Mahmoud Ali",
      "userId": "09893787734904302111"
     },
     "user_tz": -180
    },
    "id": "j7yZQA1Lu8Jm",
    "outputId": "7a785860-65f7-4828-bf21-2043864bc829"
   },
   "outputs": [
    {
     "data": {
      "text/plain": [
       "25"
      ]
     },
     "execution_count": 11,
     "metadata": {},
     "output_type": "execute_result"
    }
   ],
   "source": [
    "def power(x,p=2):\n",
    "  powered = 1\n",
    "  for i in range(p):\n",
    "    powered= powered * x\n",
    "  return powered\n",
    "\n",
    "power(5)"
   ]
  },
  {
   "cell_type": "code",
   "execution_count": null,
   "id": "bd0ea1c9",
   "metadata": {
    "id": "bd0ea1c9",
    "outputId": "896e6c52-8abc-4179-83f3-7d6e531c2d5a"
   },
   "outputs": [
    {
     "data": {
      "text/plain": [
       "'HelloHelloHello'"
      ]
     },
     "execution_count": 11,
     "metadata": {},
     "output_type": "execute_result"
    }
   ],
   "source": [
    "\"Hello\" * 3"
   ]
  },
  {
   "cell_type": "code",
   "execution_count": null,
   "id": "aa8048e3",
   "metadata": {
    "id": "aa8048e3"
   },
   "outputs": [],
   "source": [
    "def say(msg, times=1):\n",
    "    print(msg * times)"
   ]
  },
  {
   "cell_type": "code",
   "execution_count": null,
   "id": "4c6a0a05",
   "metadata": {
    "id": "4c6a0a05",
    "outputId": "efa4b8dd-0cae-482b-d4e1-33d90b144ae0"
   },
   "outputs": [
    {
     "name": "stdout",
     "output_type": "stream",
     "text": [
      "Hi\n"
     ]
    }
   ],
   "source": [
    "say(\"Hi\")"
   ]
  },
  {
   "cell_type": "code",
   "execution_count": null,
   "id": "f52e3603",
   "metadata": {
    "id": "f52e3603",
    "outputId": "01104bbc-cc34-4a54-b42a-4cdfdea48e74"
   },
   "outputs": [
    {
     "name": "stdout",
     "output_type": "stream",
     "text": [
      "HiHiHi\n"
     ]
    }
   ],
   "source": [
    "say(\"Hi\", 3)"
   ]
  },
  {
   "cell_type": "code",
   "execution_count": null,
   "id": "36bfc818",
   "metadata": {
    "id": "36bfc818",
    "outputId": "0bf32a26-cb56-4fd6-d59b-b3bf323e8ea5"
   },
   "outputs": [
    {
     "ename": "TypeError",
     "evalue": "say() missing 1 required positional argument: 'msg'",
     "output_type": "error",
     "traceback": [
      "\u001b[1;31m---------------------------------------------------------------------------\u001b[0m",
      "\u001b[1;31mTypeError\u001b[0m                                 Traceback (most recent call last)",
      "\u001b[1;32m<ipython-input-15-3a322e9040a0>\u001b[0m in \u001b[0;36m<module>\u001b[1;34m\u001b[0m\n\u001b[1;32m----> 1\u001b[1;33m \u001b[0msay\u001b[0m\u001b[1;33m(\u001b[0m\u001b[0mtimes\u001b[0m\u001b[1;33m=\u001b[0m\u001b[1;36m4\u001b[0m\u001b[1;33m)\u001b[0m\u001b[1;33m\u001b[0m\u001b[1;33m\u001b[0m\u001b[0m\n\u001b[0m",
      "\u001b[1;31mTypeError\u001b[0m: say() missing 1 required positional argument: 'msg'"
     ]
    }
   ],
   "source": [
    "say(times=4)"
   ]
  },
  {
   "cell_type": "code",
   "execution_count": null,
   "id": "cd29077f",
   "metadata": {
    "id": "cd29077f",
    "outputId": "a1a92820-6a77-4ae5-ba06-12a29bf270ac"
   },
   "outputs": [
    {
     "ename": "SyntaxError",
     "evalue": "positional argument follows keyword argument (<ipython-input-16-bfb693be80d9>, line 1)",
     "output_type": "error",
     "traceback": [
      "\u001b[1;36m  File \u001b[1;32m\"<ipython-input-16-bfb693be80d9>\"\u001b[1;36m, line \u001b[1;32m1\u001b[0m\n\u001b[1;33m    say(times=4, \"Bye\")\u001b[0m\n\u001b[1;37m                 ^\u001b[0m\n\u001b[1;31mSyntaxError\u001b[0m\u001b[1;31m:\u001b[0m positional argument follows keyword argument\n"
     ]
    }
   ],
   "source": [
    "say(times=4, \"Bye\")"
   ]
  },
  {
   "cell_type": "code",
   "execution_count": null,
   "id": "04a7da04",
   "metadata": {
    "id": "04a7da04",
    "outputId": "dcd838bd-b881-418b-ce48-66842a896b61"
   },
   "outputs": [
    {
     "name": "stdout",
     "output_type": "stream",
     "text": [
      "ByeByeByeBye\n"
     ]
    }
   ],
   "source": [
    "say(times=4, msg=\"Bye\")"
   ]
  },
  {
   "cell_type": "code",
   "execution_count": null,
   "id": "09a245b5",
   "metadata": {
    "id": "09a245b5",
    "outputId": "d366f669-ad58-43b3-ad24-b76d3917cde2"
   },
   "outputs": [
    {
     "ename": "TypeError",
     "evalue": "say() missing 1 required positional argument: 'times'",
     "output_type": "error",
     "traceback": [
      "\u001b[1;31m---------------------------------------------------------------------------\u001b[0m",
      "\u001b[1;31mTypeError\u001b[0m                                 Traceback (most recent call last)",
      "\u001b[1;32m<ipython-input-17-050c4047a40e>\u001b[0m in \u001b[0;36m<module>\u001b[1;34m\u001b[0m\n\u001b[0;32m      2\u001b[0m     \u001b[0mprint\u001b[0m\u001b[1;33m(\u001b[0m\u001b[0mmsg\u001b[0m \u001b[1;33m*\u001b[0m \u001b[0mtimes\u001b[0m\u001b[1;33m)\u001b[0m\u001b[1;33m\u001b[0m\u001b[1;33m\u001b[0m\u001b[0m\n\u001b[0;32m      3\u001b[0m \u001b[1;33m\u001b[0m\u001b[0m\n\u001b[1;32m----> 4\u001b[1;33m \u001b[0msay\u001b[0m\u001b[1;33m(\u001b[0m\u001b[1;34m\"Hi\"\u001b[0m\u001b[1;33m)\u001b[0m\u001b[1;33m\u001b[0m\u001b[1;33m\u001b[0m\u001b[0m\n\u001b[0m",
      "\u001b[1;31mTypeError\u001b[0m: say() missing 1 required positional argument: 'times'"
     ]
    }
   ],
   "source": [
    "def say(msg, times):\n",
    "    print(msg * times)\n",
    "\n",
    "say(\"Hi\")"
   ]
  },
  {
   "cell_type": "code",
   "execution_count": null,
   "id": "b9a1ac0a",
   "metadata": {
    "id": "b9a1ac0a"
   },
   "outputs": [],
   "source": [
    "def said(a, b=5, c=10):\n",
    "    print(a)\n",
    "    print(b)\n",
    "    print(c)"
   ]
  },
  {
   "cell_type": "code",
   "execution_count": null,
   "id": "f2a7a21e",
   "metadata": {
    "id": "f2a7a21e",
    "outputId": "cda429b5-6f3a-4198-a009-832e65776eb9"
   },
   "outputs": [
    {
     "name": "stdout",
     "output_type": "stream",
     "text": [
      "3\n",
      "7\n",
      "10\n"
     ]
    }
   ],
   "source": [
    "said(3,7)"
   ]
  },
  {
   "cell_type": "code",
   "execution_count": null,
   "id": "140174fe",
   "metadata": {
    "id": "140174fe",
    "outputId": "bee16a17-dca4-4bcd-e598-44ec90b02bd4"
   },
   "outputs": [
    {
     "name": "stdout",
     "output_type": "stream",
     "text": [
      "25\n",
      "5\n",
      "24\n"
     ]
    }
   ],
   "source": [
    "said(25, c = 24)"
   ]
  },
  {
   "cell_type": "code",
   "execution_count": null,
   "id": "de1d2957",
   "metadata": {
    "id": "de1d2957",
    "outputId": "cb519312-f6af-49aa-fe42-f01bd510141b"
   },
   "outputs": [
    {
     "name": "stdout",
     "output_type": "stream",
     "text": [
      "100\n",
      "5\n",
      "50\n"
     ]
    }
   ],
   "source": [
    "said(c = 50, a = 100)"
   ]
  },
  {
   "cell_type": "code",
   "execution_count": 12,
   "id": "eaca5b5f",
   "metadata": {
    "colab": {
     "base_uri": "https://localhost:8080/"
    },
    "executionInfo": {
     "elapsed": 5,
     "status": "ok",
     "timestamp": 1683707006653,
     "user": {
      "displayName": "Mohamed Mahmoud Ali",
      "userId": "09893787734904302111"
     },
     "user_tz": -180
    },
    "id": "eaca5b5f",
    "outputId": "6e26e08f-d861-46d8-9d36-9a6d07117960"
   },
   "outputs": [
    {
     "name": "stdout",
     "output_type": "stream",
     "text": [
      "1\n",
      "0\n"
     ]
    }
   ],
   "source": [
    "i = 0\n",
    "\n",
    "def change(i):\n",
    "    i += 1\n",
    "    return 1\n",
    "\n",
    "print(change(1))\n",
    "print(i)"
   ]
  },
  {
   "cell_type": "code",
   "execution_count": null,
   "id": "d37d4aea",
   "metadata": {
    "id": "d37d4aea",
    "outputId": "ecf2d7b6-9ba3-47b4-822a-c64e6b9f48e4"
   },
   "outputs": [
    {
     "name": "stdout",
     "output_type": "stream",
     "text": [
      "1\n"
     ]
    }
   ],
   "source": [
    "print(change(1))"
   ]
  },
  {
   "cell_type": "code",
   "execution_count": null,
   "id": "fcd676e3",
   "metadata": {
    "id": "fcd676e3",
    "outputId": "49943667-770c-4160-efc7-3c3c8419ec1c"
   },
   "outputs": [
    {
     "name": "stdout",
     "output_type": "stream",
     "text": [
      "1\n"
     ]
    }
   ],
   "source": [
    "s = change(1)\n",
    "print(s)"
   ]
  },
  {
   "cell_type": "code",
   "execution_count": null,
   "id": "39d91f7c",
   "metadata": {
    "id": "39d91f7c"
   },
   "outputs": [],
   "source": []
  }
 ],
 "metadata": {
  "colab": {
   "provenance": []
  },
  "kernelspec": {
   "display_name": "Python 3 (ipykernel)",
   "language": "python",
   "name": "python3"
  },
  "language_info": {
   "codemirror_mode": {
    "name": "ipython",
    "version": 3
   },
   "file_extension": ".py",
   "mimetype": "text/x-python",
   "name": "python",
   "nbconvert_exporter": "python",
   "pygments_lexer": "ipython3",
   "version": "3.10.9"
  }
 },
 "nbformat": 4,
 "nbformat_minor": 5
}
