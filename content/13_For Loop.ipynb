{
 "cells": [
  {
   "cell_type": "markdown",
   "id": "c40bd46f",
   "metadata": {
    "id": "c40bd46f"
   },
   "source": [
    "# Range function"
   ]
  },
  {
   "cell_type": "code",
   "execution_count": 1,
   "id": "5fbe9495",
   "metadata": {
    "colab": {
     "base_uri": "https://localhost:8080/"
    },
    "executionInfo": {
     "elapsed": 475,
     "status": "ok",
     "timestamp": 1683619719342,
     "user": {
      "displayName": "Mohamed Mahmoud Ali",
      "userId": "09893787734904302111"
     },
     "user_tz": -180
    },
    "id": "5fbe9495",
    "outputId": "6677a4f6-51e6-4e20-fa32-63f1d1b931bd"
   },
   "outputs": [
    {
     "name": "stdout",
     "output_type": "stream",
     "text": [
      "range(0, 5)\n"
     ]
    }
   ],
   "source": [
    "n = range(5)\n",
    "print(n)"
   ]
  },
  {
   "cell_type": "code",
   "execution_count": 2,
   "id": "73bbeae4",
   "metadata": {
    "colab": {
     "base_uri": "https://localhost:8080/"
    },
    "executionInfo": {
     "elapsed": 1636,
     "status": "ok",
     "timestamp": 1683619730714,
     "user": {
      "displayName": "Mohamed Mahmoud Ali",
      "userId": "09893787734904302111"
     },
     "user_tz": -180
    },
    "id": "73bbeae4",
    "outputId": "cae66cf5-668a-4bdc-f1c4-0cb332d3986a"
   },
   "outputs": [
    {
     "name": "stdout",
     "output_type": "stream",
     "text": [
      "[0, 1, 2, 3, 4]\n"
     ]
    }
   ],
   "source": [
    "n = list(range(5))\n",
    "\n",
    "print(n)"
   ]
  },
  {
   "cell_type": "code",
   "execution_count": 3,
   "id": "14293f86",
   "metadata": {
    "colab": {
     "base_uri": "https://localhost:8080/"
    },
    "executionInfo": {
     "elapsed": 714,
     "status": "ok",
     "timestamp": 1683619741799,
     "user": {
      "displayName": "Mohamed Mahmoud Ali",
      "userId": "09893787734904302111"
     },
     "user_tz": -180
    },
    "id": "14293f86",
    "outputId": "786151fc-3672-48ce-96ff-af78f2e75dc8"
   },
   "outputs": [
    {
     "name": "stdout",
     "output_type": "stream",
     "text": [
      "[3, 4, 5, 6, 7, 8, 9, 10, 11, 12, 13, 14]\n"
     ]
    }
   ],
   "source": [
    "n = list(range(3,15))\n",
    "\n",
    "print(n)"
   ]
  },
  {
   "cell_type": "code",
   "execution_count": null,
   "id": "9cb64b05",
   "metadata": {
    "id": "9cb64b05",
    "outputId": "0987c005-7770-445c-e2c1-6210661595ce"
   },
   "outputs": [
    {
     "name": "stdout",
     "output_type": "stream",
     "text": [
      "[5, 7, 9, 11, 13, 15, 17, 19]\n"
     ]
    }
   ],
   "source": [
    "n = list(range(5,20,2))\n",
    "\n",
    "print(n)"
   ]
  },
  {
   "cell_type": "code",
   "execution_count": null,
   "id": "5c143824",
   "metadata": {
    "id": "5c143824",
    "outputId": "8c18173b-072f-4d08-9448-dedb2f5e3a99"
   },
   "outputs": [
    {
     "name": "stdout",
     "output_type": "stream",
     "text": [
      "[5, 8, 11, 14, 17]\n"
     ]
    }
   ],
   "source": [
    "n = list(range(5,20,3))\n",
    "\n",
    "print(n)"
   ]
  },
  {
   "cell_type": "code",
   "execution_count": null,
   "id": "432bc939",
   "metadata": {
    "id": "432bc939",
    "outputId": "644dc72a-9ef4-4d67-cfce-9e4aa4a23f7f"
   },
   "outputs": [
    {
     "name": "stdout",
     "output_type": "stream",
     "text": [
      "True\n"
     ]
    }
   ],
   "source": [
    "print(range(20) == range(0,20))"
   ]
  },
  {
   "cell_type": "markdown",
   "id": "424cfe7b",
   "metadata": {
    "id": "424cfe7b"
   },
   "source": [
    "# For loop"
   ]
  },
  {
   "cell_type": "code",
   "execution_count": null,
   "id": "e03da3e8",
   "metadata": {
    "id": "e03da3e8",
    "outputId": "0fb1f21e-abbf-4406-8f5d-38b5a1b7abf8"
   },
   "outputs": [
    {
     "name": "stdout",
     "output_type": "stream",
     "text": [
      "True\n"
     ]
    }
   ],
   "source": [
    "l = [\"A\", \"B\", 5, \"C\"]\n",
    "\n",
    "\n",
    "print(5 in l)"
   ]
  },
  {
   "cell_type": "code",
   "execution_count": null,
   "id": "f34860cf",
   "metadata": {
    "id": "f34860cf",
    "outputId": "8a24b3aa-97d6-4ec5-9982-c151f0752d38"
   },
   "outputs": [
    {
     "name": "stdout",
     "output_type": "stream",
     "text": [
      "False\n"
     ]
    }
   ],
   "source": [
    "print(5 not in l)"
   ]
  },
  {
   "cell_type": "code",
   "execution_count": null,
   "id": "ee2f4f53",
   "metadata": {
    "id": "ee2f4f53",
    "outputId": "56238f4a-f93d-4d82-83e0-d6b86dcaaf0b"
   },
   "outputs": [
    {
     "name": "stdout",
     "output_type": "stream",
     "text": [
      "A\n",
      "B\n",
      "5\n",
      "C\n"
     ]
    }
   ],
   "source": [
    "l = [\"A\", \"B\", 5, \"C\"]\n",
    "#              i\n",
    "#  \"B\" in l\n",
    "for y in l:\n",
    "    print(y)"
   ]
  },
  {
   "cell_type": "code",
   "execution_count": null,
   "id": "nBgvRe_Gj2mj",
   "metadata": {
    "id": "nBgvRe_Gj2mj"
   },
   "outputs": [],
   "source": []
  },
  {
   "cell_type": "code",
   "execution_count": null,
   "id": "96435e3e",
   "metadata": {
    "id": "96435e3e",
    "outputId": "cbc52be1-95fe-49ba-adf4-61a06b9d2b5d"
   },
   "outputs": [
    {
     "name": "stdout",
     "output_type": "stream",
     "text": [
      "0\n",
      "1\n",
      "2\n",
      "3\n",
      "4\n"
     ]
    }
   ],
   "source": [
    "#                i\n",
    "#        0,1,2,3,4\n",
    "\n",
    "for i in range(5):\n",
    "    print(i)"
   ]
  },
  {
   "cell_type": "markdown",
   "id": "d6a9a4b5",
   "metadata": {
    "id": "d6a9a4b5"
   },
   "source": [
    "# Questions"
   ]
  },
  {
   "cell_type": "code",
   "execution_count": null,
   "id": "27ad7bac",
   "metadata": {
    "id": "27ad7bac",
    "outputId": "4349953a-9bc2-44b6-a6e3-a7ab3947ed99"
   },
   "outputs": [
    {
     "name": "stdout",
     "output_type": "stream",
     "text": [
      "['ab', 'cd']\n"
     ]
    }
   ],
   "source": [
    "x = ['ab', 'cd']\n",
    "#           i\n",
    "for i in x:\n",
    "    i.upper()\n",
    "\n",
    "print(x)"
   ]
  },
  {
   "cell_type": "code",
   "execution_count": 2,
   "id": "955b2195",
   "metadata": {
    "id": "955b2195",
    "outputId": "093b13d3-f01d-41b3-f813-a53e537a588c"
   },
   "outputs": [
    {
     "name": "stdout",
     "output_type": "stream",
     "text": [
      "AB\n",
      "CD\n",
      "['ab', 'cd']\n"
     ]
    }
   ],
   "source": [
    "x = ['ab', 'cd']\n",
    "#           i\n",
    "for i in x:\n",
    "    print(i.upper())\n",
    "\n",
    "print(x)"
   ]
  },
  {
   "cell_type": "code",
   "execution_count": null,
   "id": "3f4f7fce",
   "metadata": {
    "id": "3f4f7fce",
    "outputId": "ac25546e-25b3-478e-e90d-96c2c228f46c"
   },
   "outputs": [
    {
     "name": "stdout",
     "output_type": "stream",
     "text": [
      "a\n",
      "b\n",
      "c\n",
      "d\n"
     ]
    }
   ],
   "source": [
    "s = \"abcd\"\n",
    "#       i\n",
    "for i in s:\n",
    "    print(i)"
   ]
  },
  {
   "cell_type": "code",
   "execution_count": 4,
   "id": "4fe325db",
   "metadata": {
    "id": "4fe325db",
    "outputId": "4b2fe852-a1c9-4efe-94b4-b7088540a3a2"
   },
   "outputs": [
    {
     "name": "stdout",
     "output_type": "stream",
     "text": [
      "a\n",
      "b\n",
      "c\n",
      "d\n",
      "abcd\n"
     ]
    }
   ],
   "source": [
    "s = \"abcd\"\n",
    "#       i\n",
    "for i in s:\n",
    "    print(i)\n",
    "s.upper()\n",
    "print(s)"
   ]
  },
  {
   "cell_type": "code",
   "execution_count": null,
   "id": "ecec34a9",
   "metadata": {
    "id": "ecec34a9",
    "outputId": "0844c0a7-e349-4c09-d816-c24925bd5109"
   },
   "outputs": [
    {
     "name": "stdout",
     "output_type": "stream",
     "text": [
      "A\n",
      "B\n",
      "C\n",
      "D\n"
     ]
    }
   ],
   "source": [
    "s = \"abcd\"\n",
    "#       i\n",
    "for i in s:\n",
    "    print(i.upper())"
   ]
  },
  {
   "cell_type": "code",
   "execution_count": null,
   "id": "b379020d",
   "metadata": {
    "id": "b379020d",
    "outputId": "398fb461-a82f-447c-f27d-d46fdb897837"
   },
   "outputs": [
    {
     "ename": "TypeError",
     "evalue": "'str' object cannot be interpreted as an integer",
     "output_type": "error",
     "traceback": [
      "\u001b[1;31m---------------------------------------------------------------------------\u001b[0m",
      "\u001b[1;31mTypeError\u001b[0m                                 Traceback (most recent call last)",
      "\u001b[1;32m<ipython-input-17-5ce0c16ff0bb>\u001b[0m in \u001b[0;36m<module>\u001b[1;34m\u001b[0m\n\u001b[0;32m      1\u001b[0m \u001b[0ms\u001b[0m \u001b[1;33m=\u001b[0m \u001b[1;34m\"abcd\"\u001b[0m\u001b[1;33m\u001b[0m\u001b[1;33m\u001b[0m\u001b[0m\n\u001b[0;32m      2\u001b[0m \u001b[1;33m\u001b[0m\u001b[0m\n\u001b[1;32m----> 3\u001b[1;33m \u001b[1;32mfor\u001b[0m \u001b[0mi\u001b[0m \u001b[1;32min\u001b[0m \u001b[0mrange\u001b[0m\u001b[1;33m(\u001b[0m\u001b[0ms\u001b[0m\u001b[1;33m)\u001b[0m\u001b[1;33m:\u001b[0m\u001b[1;33m\u001b[0m\u001b[1;33m\u001b[0m\u001b[0m\n\u001b[0m\u001b[0;32m      4\u001b[0m     \u001b[0mprint\u001b[0m\u001b[1;33m(\u001b[0m\u001b[0mi\u001b[0m\u001b[1;33m)\u001b[0m\u001b[1;33m\u001b[0m\u001b[1;33m\u001b[0m\u001b[0m\n",
      "\u001b[1;31mTypeError\u001b[0m: 'str' object cannot be interpreted as an integer"
     ]
    }
   ],
   "source": [
    "s = \"abcd\"\n",
    "\n",
    "for i in range(s):\n",
    "    print(i)"
   ]
  },
  {
   "cell_type": "code",
   "execution_count": null,
   "id": "99f81011",
   "metadata": {
    "id": "99f81011",
    "outputId": "bb7ef023-f4f9-44ca-ae11-1d3db8a37fe0"
   },
   "outputs": [
    {
     "name": "stdout",
     "output_type": "stream",
     "text": [
      "0\n",
      "1\n",
      "2\n",
      "3\n"
     ]
    }
   ],
   "source": [
    "s = \"abcd\"\n",
    "#           0,1,2,3\n",
    "for i in range(len(s)):\n",
    "    print(i)"
   ]
  },
  {
   "cell_type": "code",
   "execution_count": 5,
   "id": "eac54cec",
   "metadata": {
    "id": "eac54cec",
    "outputId": "296d8c3f-a416-4974-9c43-c3fb7346ed64"
   },
   "outputs": [
    {
     "ename": "AttributeError",
     "evalue": "'int' object has no attribute 'upper'",
     "output_type": "error",
     "traceback": [
      "\u001b[1;31m---------------------------------------------------------------------------\u001b[0m",
      "\u001b[1;31mAttributeError\u001b[0m                            Traceback (most recent call last)",
      "Cell \u001b[1;32mIn[5], line 4\u001b[0m\n\u001b[0;32m      1\u001b[0m s \u001b[38;5;241m=\u001b[39m \u001b[38;5;124m\"\u001b[39m\u001b[38;5;124mabcd\u001b[39m\u001b[38;5;124m\"\u001b[39m\n\u001b[0;32m      3\u001b[0m \u001b[38;5;28;01mfor\u001b[39;00m i \u001b[38;5;129;01min\u001b[39;00m \u001b[38;5;28mrange\u001b[39m(\u001b[38;5;28mlen\u001b[39m(s)):\n\u001b[1;32m----> 4\u001b[0m     \u001b[38;5;28mprint\u001b[39m(\u001b[43mi\u001b[49m\u001b[38;5;241;43m.\u001b[39;49m\u001b[43mupper\u001b[49m())\n",
      "\u001b[1;31mAttributeError\u001b[0m: 'int' object has no attribute 'upper'"
     ]
    }
   ],
   "source": [
    "s = \"abcd\"\n",
    "\n",
    "for i in range(len(s)):\n",
    "    print(i.upper())"
   ]
  },
  {
   "cell_type": "code",
   "execution_count": null,
   "id": "9cc7c1b7",
   "metadata": {
    "id": "9cc7c1b7",
    "outputId": "0e2e476c-9e85-4f70-85eb-c1e618a560c2"
   },
   "outputs": [
    {
     "name": "stdout",
     "output_type": "stream",
     "text": [
      "abcd\n"
     ]
    }
   ],
   "source": [
    "s = \"abcd\"\n",
    "\n",
    "for i in range(len(s)):\n",
    "    s[i].upper()\n",
    "print(s)"
   ]
  },
  {
   "cell_type": "code",
   "execution_count": null,
   "id": "75cabfa7",
   "metadata": {
    "id": "75cabfa7",
    "outputId": "70e14341-5c67-422d-8a00-fab670893cb5",
    "scrolled": true
   },
   "outputs": [
    {
     "name": "stdout",
     "output_type": "stream",
     "text": [
      "a\n",
      "a\n",
      "a\n",
      "a\n",
      "a\n"
     ]
    }
   ],
   "source": [
    "s = \"ab,cd\"\n",
    "#           0 1 2 3\n",
    "for i in range(len(s)):\n",
    "    s = 'a'\n",
    "    print(s)"
   ]
  },
  {
   "cell_type": "code",
   "execution_count": null,
   "id": "84b359f9",
   "metadata": {
    "id": "84b359f9",
    "outputId": "094903c0-ee08-49d6-f6e2-42a2e6d3e801"
   },
   "outputs": [
    {
     "name": "stdout",
     "output_type": "stream",
     "text": [
      ",\n"
     ]
    }
   ],
   "source": [
    "s = \"ab,cd\"\n",
    "\n",
    "print(s[2])"
   ]
  },
  {
   "cell_type": "code",
   "execution_count": null,
   "id": "b42220eb",
   "metadata": {
    "id": "b42220eb",
    "outputId": "a793d7b1-96af-472f-ce45-94313681470b"
   },
   "outputs": [
    {
     "name": "stdout",
     "output_type": "stream",
     "text": [
      "abcd\n",
      "a\n",
      "a\n",
      "a\n"
     ]
    }
   ],
   "source": [
    "s = \"abcd\"\n",
    "#         0 1 2 3\n",
    "for i in range(len(s)):\n",
    "    print(s)\n",
    "    s = 'a'"
   ]
  },
  {
   "cell_type": "code",
   "execution_count": null,
   "id": "1b9eff87",
   "metadata": {
    "id": "1b9eff87",
    "outputId": "10712ff5-4a73-4017-e519-4aa6b92d4369"
   },
   "outputs": [
    {
     "ename": "TypeError",
     "evalue": "'int' object is not iterable",
     "output_type": "error",
     "traceback": [
      "\u001b[1;31m---------------------------------------------------------------------------\u001b[0m",
      "\u001b[1;31mTypeError\u001b[0m                                 Traceback (most recent call last)",
      "\u001b[1;32m<ipython-input-32-de06556e6c96>\u001b[0m in \u001b[0;36m<module>\u001b[1;34m\u001b[0m\n\u001b[0;32m      1\u001b[0m \u001b[0mx\u001b[0m \u001b[1;33m=\u001b[0m \u001b[1;36m123\u001b[0m\u001b[1;33m\u001b[0m\u001b[1;33m\u001b[0m\u001b[0m\n\u001b[0;32m      2\u001b[0m \u001b[1;33m\u001b[0m\u001b[0m\n\u001b[1;32m----> 3\u001b[1;33m \u001b[1;32mfor\u001b[0m \u001b[0mi\u001b[0m \u001b[1;32min\u001b[0m \u001b[0mx\u001b[0m\u001b[1;33m:\u001b[0m\u001b[1;33m\u001b[0m\u001b[1;33m\u001b[0m\u001b[0m\n\u001b[0m\u001b[0;32m      4\u001b[0m     \u001b[0mprint\u001b[0m\u001b[1;33m(\u001b[0m\u001b[0mi\u001b[0m\u001b[1;33m)\u001b[0m\u001b[1;33m\u001b[0m\u001b[1;33m\u001b[0m\u001b[0m\n",
      "\u001b[1;31mTypeError\u001b[0m: 'int' object is not iterable"
     ]
    }
   ],
   "source": [
    "x = 123\n",
    "\n",
    "for i in x:\n",
    "    print(i)"
   ]
  },
  {
   "cell_type": "code",
   "execution_count": null,
   "id": "19ea3665",
   "metadata": {
    "id": "19ea3665",
    "outputId": "71a05b0c-d71e-4f33-f134-e2db11608177"
   },
   "outputs": [
    {
     "name": "stdout",
     "output_type": "stream",
     "text": [
      "1\n",
      "2\n",
      "3\n"
     ]
    }
   ],
   "source": [
    "x = \"123\"\n",
    "\n",
    "for i in x:\n",
    "    print(i)"
   ]
  },
  {
   "cell_type": "markdown",
   "id": "e4c56c69",
   "metadata": {
    "id": "e4c56c69"
   },
   "source": [
    "# Loop else"
   ]
  },
  {
   "cell_type": "code",
   "execution_count": null,
   "id": "b6cac8d9",
   "metadata": {
    "id": "b6cac8d9",
    "outputId": "86faa319-80e5-4313-a0fa-bac9f4fe4979"
   },
   "outputs": [
    {
     "name": "stdout",
     "output_type": "stream",
     "text": [
      "Indore\n"
     ]
    }
   ],
   "source": [
    "for i in range(10):\n",
    "    if i == 99:\n",
    "        break\n",
    "else:\n",
    "    print(\"Indore\")"
   ]
  },
  {
   "cell_type": "code",
   "execution_count": null,
   "id": "663ad637",
   "metadata": {
    "id": "663ad637",
    "outputId": "e81ff030-3f57-4a2c-8e0b-b1d872fc4a66"
   },
   "outputs": [
    {
     "name": "stdout",
     "output_type": "stream",
     "text": [
      "Five\n"
     ]
    }
   ],
   "source": [
    "for i in range(10):\n",
    "    if i == 5:\n",
    "        print(\"Five\")\n",
    "        break\n",
    "else:\n",
    "    print(\"Indore\")"
   ]
  },
  {
   "cell_type": "code",
   "execution_count": null,
   "id": "f5e18549",
   "metadata": {
    "id": "f5e18549",
    "outputId": "71a8f07b-2b46-4e08-9856-85dd2c01343e"
   },
   "outputs": [
    {
     "name": "stdout",
     "output_type": "stream",
     "text": [
      "Five\n",
      "Indore\n"
     ]
    }
   ],
   "source": [
    "for i in range(10):\n",
    "    if i == 5:\n",
    "        print(\"Five\")\n",
    "else:\n",
    "    print(\"Indore\")"
   ]
  },
  {
   "cell_type": "code",
   "execution_count": null,
   "id": "fc739de6",
   "metadata": {
    "id": "fc739de6",
    "outputId": "bbeec835-2780-481c-9438-1d75ef868da4"
   },
   "outputs": [
    {
     "name": "stdout",
     "output_type": "stream",
     "text": [
      "7\n",
      "7\n",
      "7\n",
      "7\n",
      "7\n",
      "7\n",
      "6\n"
     ]
    }
   ],
   "source": [
    "for i in range(10):\n",
    "    if i > 5:\n",
    "        print(i)\n",
    "        break\n",
    "    else:\n",
    "        print(\"7\")"
   ]
  },
  {
   "cell_type": "markdown",
   "id": "18af79d5",
   "metadata": {
    "id": "18af79d5"
   },
   "source": [
    "# nested for loop"
   ]
  },
  {
   "cell_type": "code",
   "execution_count": null,
   "id": "e6372a7c",
   "metadata": {
    "id": "e6372a7c",
    "outputId": "3de71b88-c8d1-4b50-ec67-bed10a0a99e7"
   },
   "outputs": [
    {
     "data": {
      "text/plain": [
       "[0]"
      ]
     },
     "execution_count": 39,
     "metadata": {},
     "output_type": "execute_result"
    }
   ],
   "source": [
    "list(range(1))"
   ]
  },
  {
   "cell_type": "code",
   "execution_count": null,
   "id": "22ae41c8",
   "metadata": {
    "id": "22ae41c8"
   },
   "outputs": [],
   "source": [
    "*\n",
    "**\n",
    "***\n",
    "****\n",
    "*****"
   ]
  },
  {
   "cell_type": "code",
   "execution_count": null,
   "id": "f192a6ed",
   "metadata": {
    "id": "f192a6ed",
    "outputId": "76b04125-373b-4346-d99a-8c40940aab16"
   },
   "outputs": [
    {
     "name": "stdout",
     "output_type": "stream",
     "text": [
      "*\n",
      "**\n",
      "***\n",
      "****\n",
      "*****\n"
     ]
    }
   ],
   "source": [
    "for i in range(5):\n",
    "    for j in range(i+1):\n",
    "        print(\"*\", end=\"\")\n",
    "    print()"
   ]
  },
  {
   "cell_type": "code",
   "execution_count": null,
   "id": "d52d9aed",
   "metadata": {
    "id": "d52d9aed"
   },
   "outputs": [],
   "source": [
    "# fibonacii series\n",
    "\n",
    "## 0 1 1 2 3 5 8\n",
    "#  a b c\n",
    "#    a b c"
   ]
  },
  {
   "cell_type": "code",
   "execution_count": null,
   "id": "bbea4a27",
   "metadata": {
    "id": "bbea4a27",
    "outputId": "2c2e735d-65ee-45fa-d6e3-e98a3a02dfcb"
   },
   "outputs": [
    {
     "name": "stdout",
     "output_type": "stream",
     "text": [
      "Enter limit 4\n",
      "0  1  1  2  "
     ]
    }
   ],
   "source": [
    "n = int(input(\"Enter limit \"))\n",
    "\n",
    "a = 0\n",
    "b = 1\n",
    "\n",
    "for i in range(0,n):\n",
    "    print(a, end=\"  \")\n",
    "    c = a + b\n",
    "    a = b\n",
    "    b = c\n"
   ]
  },
  {
   "cell_type": "code",
   "execution_count": null,
   "id": "bb184874",
   "metadata": {
    "id": "bb184874",
    "outputId": "35e0fec5-d47a-4c06-f1ee-f3b3e9ec0e13"
   },
   "outputs": [
    {
     "name": "stdout",
     "output_type": "stream",
     "text": [
      "Enter limit 7\n",
      "0  1  1  2  3  5  8  \n",
      "Sum =  20\n"
     ]
    }
   ],
   "source": [
    "n = int(input(\"Enter limit \"))\n",
    "\n",
    "a = 0\n",
    "b = 1\n",
    "s = 0\n",
    "\n",
    "for i in range(0,n):\n",
    "    s = s + a\n",
    "    print(a, end=\"  \")\n",
    "    c = a + b\n",
    "    a = b\n",
    "    b = c\n",
    "print(\"\\nSum = \", s)"
   ]
  },
  {
   "cell_type": "code",
   "execution_count": null,
   "id": "76afaa86",
   "metadata": {
    "id": "76afaa86"
   },
   "outputs": [],
   "source": []
  }
 ],
 "metadata": {
  "colab": {
   "provenance": []
  },
  "kernelspec": {
   "display_name": "Python 3 (ipykernel)",
   "language": "python",
   "name": "python3"
  },
  "language_info": {
   "codemirror_mode": {
    "name": "ipython",
    "version": 3
   },
   "file_extension": ".py",
   "mimetype": "text/x-python",
   "name": "python",
   "nbconvert_exporter": "python",
   "pygments_lexer": "ipython3",
   "version": "3.10.9"
  }
 },
 "nbformat": 4,
 "nbformat_minor": 5
}
