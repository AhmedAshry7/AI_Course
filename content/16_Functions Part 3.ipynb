{
 "cells": [
  {
   "cell_type": "markdown",
   "id": "42bc82cf",
   "metadata": {
    "id": "42bc82cf"
   },
   "source": [
    "# Functions"
   ]
  },
  {
   "cell_type": "code",
   "execution_count": null,
   "id": "fd4adff4",
   "metadata": {
    "id": "fd4adff4",
    "outputId": "81bf61a9-e39d-4f24-c1e1-41a94d931196"
   },
   "outputs": [
    {
     "name": "stdout",
     "output_type": "stream",
     "text": [
      "Hello\n"
     ]
    }
   ],
   "source": [
    "print(\"Hello\")"
   ]
  },
  {
   "cell_type": "code",
   "execution_count": null,
   "id": "6c6c14ad",
   "metadata": {
    "id": "6c6c14ad"
   },
   "outputs": [],
   "source": [
    "def indore():                  # definition of a function\n",
    "    print(\"Hello Indore\")\n",
    "    print(\"I am the best!\")"
   ]
  },
  {
   "cell_type": "code",
   "execution_count": null,
   "id": "b9a62af8",
   "metadata": {
    "id": "b9a62af8",
    "outputId": "2c029fa8-2c20-412d-d213-b571002dec3b"
   },
   "outputs": [
    {
     "name": "stdout",
     "output_type": "stream",
     "text": [
      "Hello Indore\n",
      "I am the best!\n"
     ]
    }
   ],
   "source": [
    "indore()                     # calling of a function"
   ]
  },
  {
   "cell_type": "code",
   "execution_count": null,
   "id": "565bb08a",
   "metadata": {
    "id": "565bb08a",
    "outputId": "8631ff0c-1e7d-4330-d60e-3dbb29613333"
   },
   "outputs": [
    {
     "name": "stdout",
     "output_type": "stream",
     "text": [
      "Help on built-in function max in module builtins:\n",
      "\n",
      "max(...)\n",
      "    max(iterable, *[, default=obj, key=func]) -> value\n",
      "    max(arg1, arg2, *args, *[, key=func]) -> value\n",
      "    \n",
      "    With a single iterable argument, return its biggest item. The\n",
      "    default keyword-only argument specifies an object to return if\n",
      "    the provided iterable is empty.\n",
      "    With two or more arguments, return the largest argument.\n",
      "\n"
     ]
    }
   ],
   "source": [
    "help(max)"
   ]
  },
  {
   "cell_type": "code",
   "execution_count": null,
   "id": "afbf3d66",
   "metadata": {
    "id": "afbf3d66"
   },
   "outputs": [],
   "source": [
    "max?"
   ]
  },
  {
   "cell_type": "code",
   "execution_count": null,
   "id": "f554fd88",
   "metadata": {
    "id": "f554fd88",
    "outputId": "61e78b3e-eaa5-4742-e853-60cb300e4078",
    "scrolled": true
   },
   "outputs": [
    {
     "name": "stdout",
     "output_type": "stream",
     "text": [
      "1\n",
      "2\n",
      "3\n"
     ]
    }
   ],
   "source": [
    "def paint():\n",
    "    print(1)\n",
    "    print(2)\n",
    "    print(3)\n",
    "\n",
    "paint()"
   ]
  },
  {
   "cell_type": "code",
   "execution_count": null,
   "id": "8a1a56c3",
   "metadata": {
    "id": "8a1a56c3",
    "outputId": "bc5bca59-a3d2-422d-c87e-1d72eaac27d1"
   },
   "outputs": [
    {
     "name": "stdout",
     "output_type": "stream",
     "text": [
      "1\n",
      "2\n",
      "3\n",
      "Hello\n",
      "1\n",
      "2\n",
      "3\n",
      "Hello\n",
      "1\n",
      "2\n",
      "3\n"
     ]
    }
   ],
   "source": [
    "paint()\n",
    "print(\"Hello\")\n",
    "paint()\n",
    "print(\"Hello\")\n",
    "paint()"
   ]
  },
  {
   "cell_type": "code",
   "execution_count": null,
   "id": "e68a2ab1",
   "metadata": {
    "id": "e68a2ab1",
    "outputId": "46c091ca-dd65-44a0-81a2-188a709defdc"
   },
   "outputs": [
    {
     "ename": "NameError",
     "evalue": "name 'hello' is not defined",
     "output_type": "error",
     "traceback": [
      "\u001b[1;31m---------------------------------------------------------------------------\u001b[0m",
      "\u001b[1;31mNameError\u001b[0m                                 Traceback (most recent call last)",
      "\u001b[1;32m<ipython-input-9-ec0ffb3daaa0>\u001b[0m in \u001b[0;36m<module>\u001b[1;34m\u001b[0m\n\u001b[1;32m----> 1\u001b[1;33m \u001b[0mhello\u001b[0m\u001b[1;33m(\u001b[0m\u001b[1;33m)\u001b[0m\u001b[1;33m\u001b[0m\u001b[1;33m\u001b[0m\u001b[0m\n\u001b[0m\u001b[0;32m      2\u001b[0m \u001b[1;33m\u001b[0m\u001b[0m\n\u001b[0;32m      3\u001b[0m \u001b[1;32mdef\u001b[0m \u001b[0mhello\u001b[0m\u001b[1;33m(\u001b[0m\u001b[1;33m)\u001b[0m\u001b[1;33m:\u001b[0m\u001b[1;33m\u001b[0m\u001b[1;33m\u001b[0m\u001b[0m\n\u001b[0;32m      4\u001b[0m     \u001b[0mprint\u001b[0m\u001b[1;33m(\u001b[0m\u001b[1;34m\"Hello User\"\u001b[0m\u001b[1;33m)\u001b[0m\u001b[1;33m\u001b[0m\u001b[1;33m\u001b[0m\u001b[0m\n",
      "\u001b[1;31mNameError\u001b[0m: name 'hello' is not defined"
     ]
    }
   ],
   "source": [
    "hello()\n",
    "\n",
    "def hello():\n",
    "    print(\"Hello User\")"
   ]
  },
  {
   "cell_type": "markdown",
   "id": "465b3911",
   "metadata": {
    "id": "465b3911"
   },
   "source": [
    "# Arguments"
   ]
  },
  {
   "cell_type": "code",
   "execution_count": null,
   "id": "d470c9cb",
   "metadata": {
    "id": "d470c9cb",
    "outputId": "27544b7b-2e64-49fe-9853-7832dc728b39"
   },
   "outputs": [
    {
     "name": "stdout",
     "output_type": "stream",
     "text": [
      "Hello\n"
     ]
    }
   ],
   "source": [
    "print(\"Hello\")"
   ]
  },
  {
   "cell_type": "code",
   "execution_count": null,
   "id": "4842cade",
   "metadata": {
    "id": "4842cade"
   },
   "outputs": [],
   "source": [
    "def indore(a):         # a = \"Hi\"\n",
    "    print(a + \"!!\")"
   ]
  },
  {
   "cell_type": "code",
   "execution_count": null,
   "id": "c9360916",
   "metadata": {
    "id": "c9360916",
    "outputId": "b2a00ffa-bb68-430a-fc11-8e47b8e9c620"
   },
   "outputs": [
    {
     "name": "stdout",
     "output_type": "stream",
     "text": [
      "Hi!!\n"
     ]
    }
   ],
   "source": [
    "indore(\"Hi\")"
   ]
  },
  {
   "cell_type": "code",
   "execution_count": null,
   "id": "515787f1",
   "metadata": {
    "id": "515787f1",
    "outputId": "d91acfb3-0aad-47f3-86d0-cb0d95f7970c"
   },
   "outputs": [
    {
     "name": "stdout",
     "output_type": "stream",
     "text": [
      "Hello!!\n",
      "India!!\n",
      "Chennai!!\n"
     ]
    }
   ],
   "source": [
    "indore(\"Hello\")\n",
    "indore(\"India\")\n",
    "indore(\"Chennai\")"
   ]
  },
  {
   "cell_type": "code",
   "execution_count": null,
   "id": "55ddbe40",
   "metadata": {
    "id": "55ddbe40"
   },
   "outputs": [],
   "source": [
    "def add(x , y):\n",
    "    print(x + y)"
   ]
  },
  {
   "cell_type": "code",
   "execution_count": null,
   "id": "7f7d61b8",
   "metadata": {
    "id": "7f7d61b8",
    "outputId": "9965d9d3-81e1-42ba-e4a6-eedff177282c"
   },
   "outputs": [
    {
     "ename": "TypeError",
     "evalue": "add() missing 1 required positional argument: 'y'",
     "output_type": "error",
     "traceback": [
      "\u001b[1;31m---------------------------------------------------------------------------\u001b[0m",
      "\u001b[1;31mTypeError\u001b[0m                                 Traceback (most recent call last)",
      "\u001b[1;32m<ipython-input-16-fb866b66e1c7>\u001b[0m in \u001b[0;36m<module>\u001b[1;34m\u001b[0m\n\u001b[1;32m----> 1\u001b[1;33m \u001b[0madd\u001b[0m\u001b[1;33m(\u001b[0m\u001b[1;36m10\u001b[0m\u001b[1;33m)\u001b[0m\u001b[1;33m\u001b[0m\u001b[1;33m\u001b[0m\u001b[0m\n\u001b[0m",
      "\u001b[1;31mTypeError\u001b[0m: add() missing 1 required positional argument: 'y'"
     ]
    }
   ],
   "source": [
    "add(10)"
   ]
  },
  {
   "cell_type": "code",
   "execution_count": null,
   "id": "c5caa984",
   "metadata": {
    "id": "c5caa984",
    "outputId": "de2412d2-a7fa-4b23-8259-8cd6495d5d09"
   },
   "outputs": [
    {
     "ename": "TypeError",
     "evalue": "add() missing 2 required positional arguments: 'x' and 'y'",
     "output_type": "error",
     "traceback": [
      "\u001b[1;31m---------------------------------------------------------------------------\u001b[0m",
      "\u001b[1;31mTypeError\u001b[0m                                 Traceback (most recent call last)",
      "\u001b[1;32m<ipython-input-17-d5d29de3ed94>\u001b[0m in \u001b[0;36m<module>\u001b[1;34m\u001b[0m\n\u001b[1;32m----> 1\u001b[1;33m \u001b[0madd\u001b[0m\u001b[1;33m(\u001b[0m\u001b[1;33m)\u001b[0m\u001b[1;33m\u001b[0m\u001b[1;33m\u001b[0m\u001b[0m\n\u001b[0m",
      "\u001b[1;31mTypeError\u001b[0m: add() missing 2 required positional arguments: 'x' and 'y'"
     ]
    }
   ],
   "source": [
    "add()"
   ]
  },
  {
   "cell_type": "code",
   "execution_count": null,
   "id": "d10ae7bd",
   "metadata": {
    "id": "d10ae7bd",
    "outputId": "8904df6d-c729-4c7e-c679-c810cedde71e"
   },
   "outputs": [
    {
     "ename": "TypeError",
     "evalue": "add() takes 2 positional arguments but 3 were given",
     "output_type": "error",
     "traceback": [
      "\u001b[1;31m---------------------------------------------------------------------------\u001b[0m",
      "\u001b[1;31mTypeError\u001b[0m                                 Traceback (most recent call last)",
      "\u001b[1;32m<ipython-input-18-ff1b6584ceb8>\u001b[0m in \u001b[0;36m<module>\u001b[1;34m\u001b[0m\n\u001b[1;32m----> 1\u001b[1;33m \u001b[0madd\u001b[0m\u001b[1;33m(\u001b[0m\u001b[1;36m1\u001b[0m\u001b[1;33m,\u001b[0m\u001b[1;36m2\u001b[0m\u001b[1;33m,\u001b[0m\u001b[1;36m3\u001b[0m\u001b[1;33m)\u001b[0m\u001b[1;33m\u001b[0m\u001b[1;33m\u001b[0m\u001b[0m\n\u001b[0m",
      "\u001b[1;31mTypeError\u001b[0m: add() takes 2 positional arguments but 3 were given"
     ]
    }
   ],
   "source": [
    "add(1,2,3)"
   ]
  },
  {
   "cell_type": "code",
   "execution_count": null,
   "id": "2535ac26",
   "metadata": {
    "id": "2535ac26"
   },
   "outputs": [],
   "source": [
    "def add(x , y):\n",
    "    print(x + y)"
   ]
  },
  {
   "cell_type": "code",
   "execution_count": null,
   "id": "d595cd7f",
   "metadata": {
    "id": "d595cd7f",
    "outputId": "132efec8-3cec-4314-d442-ee3cabf6aff0"
   },
   "outputs": [
    {
     "name": "stdout",
     "output_type": "stream",
     "text": [
      "30\n"
     ]
    }
   ],
   "source": [
    "add(10,20)"
   ]
  },
  {
   "cell_type": "code",
   "execution_count": null,
   "id": "c3b6ab0d",
   "metadata": {
    "id": "c3b6ab0d",
    "outputId": "70c49d8d-4c60-4fdc-f1b8-46639f3c9b46"
   },
   "outputs": [
    {
     "name": "stdout",
     "output_type": "stream",
     "text": [
      "15\n"
     ]
    }
   ],
   "source": [
    "add(7,8)"
   ]
  },
  {
   "cell_type": "code",
   "execution_count": null,
   "id": "cd58ad61",
   "metadata": {
    "id": "cd58ad61"
   },
   "outputs": [],
   "source": [
    "1. Create a function which takes a value and print reverse of it"
   ]
  },
  {
   "cell_type": "code",
   "execution_count": null,
   "id": "7a6d70ab",
   "metadata": {
    "id": "7a6d70ab"
   },
   "outputs": [],
   "source": [
    "2. Create a function which takes a value and check if it a pallindrome or not"
   ]
  },
  {
   "cell_type": "code",
   "execution_count": null,
   "id": "e2de2df1",
   "metadata": {
    "id": "e2de2df1",
    "outputId": "92f990f8-f762-402b-b0fc-2b468c6b7808"
   },
   "outputs": [
    {
     "name": "stdout",
     "output_type": "stream",
     "text": [
      "8\n"
     ]
    },
    {
     "ename": "NameError",
     "evalue": "name 'v' is not defined",
     "output_type": "error",
     "traceback": [
      "\u001b[1;31m---------------------------------------------------------------------------\u001b[0m",
      "\u001b[1;31mNameError\u001b[0m                                 Traceback (most recent call last)",
      "\u001b[1;32m<ipython-input-1-e2cb702230d4>\u001b[0m in \u001b[0;36m<module>\u001b[1;34m\u001b[0m\n\u001b[0;32m      4\u001b[0m \u001b[1;33m\u001b[0m\u001b[0m\n\u001b[0;32m      5\u001b[0m \u001b[0madd\u001b[0m\u001b[1;33m(\u001b[0m\u001b[1;36m7\u001b[0m\u001b[1;33m)\u001b[0m\u001b[1;33m\u001b[0m\u001b[1;33m\u001b[0m\u001b[0m\n\u001b[1;32m----> 6\u001b[1;33m \u001b[0mprint\u001b[0m\u001b[1;33m(\u001b[0m\u001b[0mv\u001b[0m\u001b[1;33m)\u001b[0m\u001b[1;33m\u001b[0m\u001b[1;33m\u001b[0m\u001b[0m\n\u001b[0m",
      "\u001b[1;31mNameError\u001b[0m: name 'v' is not defined"
     ]
    }
   ],
   "source": [
    "def add(v):          # local variable\n",
    "    v += 1\n",
    "    print(v)         #8\n",
    "\n",
    "add(7)\n",
    "print(v)"
   ]
  },
  {
   "cell_type": "code",
   "execution_count": null,
   "id": "f73f4f52",
   "metadata": {
    "id": "f73f4f52",
    "outputId": "4ca0f678-524a-48fc-b142-fb97cde22ffc"
   },
   "outputs": [
    {
     "name": "stdout",
     "output_type": "stream",
     "text": [
      "8\n",
      "2\n"
     ]
    }
   ],
   "source": [
    "x = 2                # global variable\n",
    "def add(x):          # local variable\n",
    "    x += 1\n",
    "    print(x)         #8\n",
    "\n",
    "add(7)\n",
    "print(x)"
   ]
  },
  {
   "cell_type": "markdown",
   "id": "29abbe89",
   "metadata": {
    "id": "29abbe89"
   },
   "source": [
    "# Return Statement"
   ]
  },
  {
   "cell_type": "code",
   "execution_count": null,
   "id": "ef0c92f0",
   "metadata": {
    "id": "ef0c92f0",
    "outputId": "4b223821-1582-4340-eedc-0a4d8e5cea0d"
   },
   "outputs": [
    {
     "name": "stdout",
     "output_type": "stream",
     "text": [
      "5\n"
     ]
    }
   ],
   "source": [
    "def play(x , y):\n",
    "    if x >= y:\n",
    "        return x\n",
    "    else:\n",
    "        return y\n",
    "\n",
    "print(play(5,3))"
   ]
  },
  {
   "cell_type": "code",
   "execution_count": null,
   "id": "48439438",
   "metadata": {
    "id": "48439438",
    "outputId": "f6a49f9f-5fa9-427a-c6b1-2b93255f930a"
   },
   "outputs": [
    {
     "name": "stdout",
     "output_type": "stream",
     "text": [
      "9\n"
     ]
    }
   ],
   "source": [
    "a = play(7,9)\n",
    "#      9\n",
    "\n",
    "print(a)"
   ]
  },
  {
   "cell_type": "code",
   "execution_count": null,
   "id": "b62eda1d",
   "metadata": {
    "id": "b62eda1d",
    "outputId": "853f7e3e-8004-49a2-ec0b-1f3eee86bf60"
   },
   "outputs": [
    {
     "name": "stdout",
     "output_type": "stream",
     "text": [
      "3\n"
     ]
    }
   ],
   "source": [
    "l = [1,2,3]\n",
    "print(max(l))"
   ]
  },
  {
   "cell_type": "code",
   "execution_count": null,
   "id": "6bec9737",
   "metadata": {
    "id": "6bec9737",
    "outputId": "34c41eae-df83-4b04-c97a-62a6ea0134ab"
   },
   "outputs": [
    {
     "name": "stdout",
     "output_type": "stream",
     "text": [
      "1\n"
     ]
    }
   ],
   "source": [
    "b = min(l)\n",
    "print(b)"
   ]
  },
  {
   "cell_type": "code",
   "execution_count": null,
   "id": "f04db2f7",
   "metadata": {
    "id": "f04db2f7",
    "outputId": "3cced914-2c09-4aaa-e9b2-c739c86335dd"
   },
   "outputs": [
    {
     "name": "stdout",
     "output_type": "stream",
     "text": [
      "23\n"
     ]
    }
   ],
   "source": [
    "def sub(x,y):\n",
    "    t = x + y\n",
    "    return t\n",
    "    print(\"Hello\")\n",
    "\n",
    "print(sub(12,11))"
   ]
  },
  {
   "cell_type": "code",
   "execution_count": null,
   "id": "9f0447b4",
   "metadata": {
    "id": "9f0447b4",
    "outputId": "7f59366b-0f26-4c72-bdbc-879db6786384"
   },
   "outputs": [
    {
     "name": "stdout",
     "output_type": "stream",
     "text": [
      "1\n",
      "2\n"
     ]
    }
   ],
   "source": [
    "def pre():\n",
    "    print(1)\n",
    "    print(2)\n",
    "    return\n",
    "    print(3)\n",
    "    print(4)\n",
    "    \n",
    "pre()"
   ]
  },
  {
   "cell_type": "markdown",
   "id": "3dfc1121",
   "metadata": {
    "id": "3dfc1121"
   },
   "source": [
    "# Default Arguments"
   ]
  },
  {
   "cell_type": "code",
   "execution_count": null,
   "id": "bd0ea1c9",
   "metadata": {
    "id": "bd0ea1c9",
    "outputId": "6312a74b-9be7-41b4-e91b-0a354306b147"
   },
   "outputs": [
    {
     "data": {
      "text/plain": [
       "'HelloHelloHello'"
      ]
     },
     "execution_count": 11,
     "metadata": {},
     "output_type": "execute_result"
    }
   ],
   "source": [
    "\"Hello\" * 3"
   ]
  },
  {
   "cell_type": "code",
   "execution_count": null,
   "id": "aa8048e3",
   "metadata": {
    "id": "aa8048e3"
   },
   "outputs": [],
   "source": [
    "def say(msg, times=1):\n",
    "    print(msg * times)"
   ]
  },
  {
   "cell_type": "code",
   "execution_count": null,
   "id": "4c6a0a05",
   "metadata": {
    "id": "4c6a0a05",
    "outputId": "27270fec-1b23-4cfb-9d23-f8c4150432a0"
   },
   "outputs": [
    {
     "name": "stdout",
     "output_type": "stream",
     "text": [
      "Hi\n"
     ]
    }
   ],
   "source": [
    "say(\"Hi\")"
   ]
  },
  {
   "cell_type": "code",
   "execution_count": null,
   "id": "f52e3603",
   "metadata": {
    "id": "f52e3603",
    "outputId": "2901ee49-4369-4f30-c307-8e34aa3b44a6"
   },
   "outputs": [
    {
     "name": "stdout",
     "output_type": "stream",
     "text": [
      "HiHiHi\n"
     ]
    }
   ],
   "source": [
    "say(\"Hi\", 3)"
   ]
  },
  {
   "cell_type": "code",
   "execution_count": null,
   "id": "36bfc818",
   "metadata": {
    "id": "36bfc818",
    "outputId": "b7a671ed-a98e-48ba-e117-c071f3c62d64"
   },
   "outputs": [
    {
     "ename": "TypeError",
     "evalue": "say() missing 1 required positional argument: 'msg'",
     "output_type": "error",
     "traceback": [
      "\u001b[1;31m---------------------------------------------------------------------------\u001b[0m",
      "\u001b[1;31mTypeError\u001b[0m                                 Traceback (most recent call last)",
      "\u001b[1;32m<ipython-input-15-3a322e9040a0>\u001b[0m in \u001b[0;36m<module>\u001b[1;34m\u001b[0m\n\u001b[1;32m----> 1\u001b[1;33m \u001b[0msay\u001b[0m\u001b[1;33m(\u001b[0m\u001b[0mtimes\u001b[0m\u001b[1;33m=\u001b[0m\u001b[1;36m4\u001b[0m\u001b[1;33m)\u001b[0m\u001b[1;33m\u001b[0m\u001b[1;33m\u001b[0m\u001b[0m\n\u001b[0m",
      "\u001b[1;31mTypeError\u001b[0m: say() missing 1 required positional argument: 'msg'"
     ]
    }
   ],
   "source": [
    "say(times=4)"
   ]
  },
  {
   "cell_type": "code",
   "execution_count": null,
   "id": "cd29077f",
   "metadata": {
    "id": "cd29077f",
    "outputId": "d543e575-e9e6-458c-9d06-05b0865a3eba"
   },
   "outputs": [
    {
     "ename": "SyntaxError",
     "evalue": "positional argument follows keyword argument (<ipython-input-16-bfb693be80d9>, line 1)",
     "output_type": "error",
     "traceback": [
      "\u001b[1;36m  File \u001b[1;32m\"<ipython-input-16-bfb693be80d9>\"\u001b[1;36m, line \u001b[1;32m1\u001b[0m\n\u001b[1;33m    say(times=4, \"Bye\")\u001b[0m\n\u001b[1;37m                 ^\u001b[0m\n\u001b[1;31mSyntaxError\u001b[0m\u001b[1;31m:\u001b[0m positional argument follows keyword argument\n"
     ]
    }
   ],
   "source": [
    "say(times=4, \"Bye\")"
   ]
  },
  {
   "cell_type": "code",
   "execution_count": null,
   "id": "04a7da04",
   "metadata": {
    "id": "04a7da04",
    "outputId": "8aad3820-7fd1-43c1-fc3f-3319d727497a"
   },
   "outputs": [
    {
     "name": "stdout",
     "output_type": "stream",
     "text": [
      "ByeByeByeBye\n"
     ]
    }
   ],
   "source": [
    "say(times=4, msg=\"Bye\")"
   ]
  },
  {
   "cell_type": "code",
   "execution_count": null,
   "id": "09a245b5",
   "metadata": {
    "id": "09a245b5",
    "outputId": "7f96d9cb-53e9-4663-ee99-c5360ebb409e"
   },
   "outputs": [
    {
     "ename": "TypeError",
     "evalue": "say() missing 1 required positional argument: 'times'",
     "output_type": "error",
     "traceback": [
      "\u001b[1;31m---------------------------------------------------------------------------\u001b[0m",
      "\u001b[1;31mTypeError\u001b[0m                                 Traceback (most recent call last)",
      "\u001b[1;32m<ipython-input-17-050c4047a40e>\u001b[0m in \u001b[0;36m<module>\u001b[1;34m\u001b[0m\n\u001b[0;32m      2\u001b[0m     \u001b[0mprint\u001b[0m\u001b[1;33m(\u001b[0m\u001b[0mmsg\u001b[0m \u001b[1;33m*\u001b[0m \u001b[0mtimes\u001b[0m\u001b[1;33m)\u001b[0m\u001b[1;33m\u001b[0m\u001b[1;33m\u001b[0m\u001b[0m\n\u001b[0;32m      3\u001b[0m \u001b[1;33m\u001b[0m\u001b[0m\n\u001b[1;32m----> 4\u001b[1;33m \u001b[0msay\u001b[0m\u001b[1;33m(\u001b[0m\u001b[1;34m\"Hi\"\u001b[0m\u001b[1;33m)\u001b[0m\u001b[1;33m\u001b[0m\u001b[1;33m\u001b[0m\u001b[0m\n\u001b[0m",
      "\u001b[1;31mTypeError\u001b[0m: say() missing 1 required positional argument: 'times'"
     ]
    }
   ],
   "source": [
    "def say(msg, times):\n",
    "    print(msg * times)\n",
    "\n",
    "say(\"Hi\")"
   ]
  },
  {
   "cell_type": "code",
   "execution_count": null,
   "id": "b9a1ac0a",
   "metadata": {
    "id": "b9a1ac0a"
   },
   "outputs": [],
   "source": [
    "def said(a, b=5, c=10):\n",
    "    print(a)\n",
    "    print(b)\n",
    "    print(c)"
   ]
  },
  {
   "cell_type": "code",
   "execution_count": null,
   "id": "f2a7a21e",
   "metadata": {
    "id": "f2a7a21e",
    "outputId": "9c6c0c44-fe6a-4689-d9a5-dfac5f6a3987"
   },
   "outputs": [
    {
     "name": "stdout",
     "output_type": "stream",
     "text": [
      "3\n",
      "7\n",
      "10\n"
     ]
    }
   ],
   "source": [
    "said(3,7)"
   ]
  },
  {
   "cell_type": "code",
   "execution_count": null,
   "id": "140174fe",
   "metadata": {
    "id": "140174fe",
    "outputId": "caf1a9f5-cc5a-45a1-90c0-3f418d5c7aff"
   },
   "outputs": [
    {
     "name": "stdout",
     "output_type": "stream",
     "text": [
      "25\n",
      "5\n",
      "24\n"
     ]
    }
   ],
   "source": [
    "said(25, c = 24)"
   ]
  },
  {
   "cell_type": "code",
   "execution_count": null,
   "id": "de1d2957",
   "metadata": {
    "id": "de1d2957",
    "outputId": "58e5d80d-714b-4024-9997-5bb6a70c50c8"
   },
   "outputs": [
    {
     "name": "stdout",
     "output_type": "stream",
     "text": [
      "100\n",
      "5\n",
      "50\n"
     ]
    }
   ],
   "source": [
    "said(c = 50, a = 100)"
   ]
  },
  {
   "cell_type": "code",
   "execution_count": null,
   "id": "eaca5b5f",
   "metadata": {
    "id": "eaca5b5f",
    "outputId": "8dfe5284-0880-431f-f45c-23adae948469"
   },
   "outputs": [
    {
     "name": "stdout",
     "output_type": "stream",
     "text": [
      "0\n"
     ]
    }
   ],
   "source": [
    "i = 0\n",
    "\n",
    "def change(i):\n",
    "    i += 1\n",
    "    return 1\n",
    "\n",
    "change(1)\n",
    "print(i)"
   ]
  },
  {
   "cell_type": "code",
   "execution_count": null,
   "id": "d37d4aea",
   "metadata": {
    "id": "d37d4aea",
    "outputId": "eeb69287-8151-41a2-e1db-e0c54d8f1f9d"
   },
   "outputs": [
    {
     "name": "stdout",
     "output_type": "stream",
     "text": [
      "1\n"
     ]
    }
   ],
   "source": [
    "print(change(1))"
   ]
  },
  {
   "cell_type": "code",
   "execution_count": null,
   "id": "fcd676e3",
   "metadata": {
    "id": "fcd676e3",
    "outputId": "56c6a7b7-8c29-4475-e217-26c104751ddd"
   },
   "outputs": [
    {
     "name": "stdout",
     "output_type": "stream",
     "text": [
      "1\n"
     ]
    }
   ],
   "source": [
    "s = change(1)\n",
    "print(s)"
   ]
  },
  {
   "cell_type": "markdown",
   "id": "26dc1465",
   "metadata": {
    "id": "26dc1465"
   },
   "source": [
    "# Reference Function"
   ]
  },
  {
   "cell_type": "code",
   "execution_count": null,
   "id": "745c406e",
   "metadata": {
    "id": "745c406e",
    "outputId": "1d88858e-7fa9-4bb5-ec9c-a2722828504a"
   },
   "outputs": [
    {
     "name": "stdout",
     "output_type": "stream",
     "text": [
      "200\n"
     ]
    }
   ],
   "source": [
    "def multiply(x,y):\n",
    "    return x * y\n",
    "\n",
    "\n",
    "operator = multiply       # reference\n",
    "\n",
    "print(operator(10,20))\n",
    "#     multiply(10,20)"
   ]
  },
  {
   "cell_type": "code",
   "execution_count": null,
   "id": "44c0f639",
   "metadata": {
    "id": "44c0f639",
    "outputId": "f84dbe68-fe32-44ee-fbe8-dff68bc87dcc"
   },
   "outputs": [
    {
     "name": "stdout",
     "output_type": "stream",
     "text": [
      "200\n"
     ]
    }
   ],
   "source": [
    "def multiply(x,y):\n",
    "    return x * y\n",
    "\n",
    "\n",
    "a = multiply       # reference\n",
    "\n",
    "print(a(10,20))\n",
    "#     multiply(10,20)"
   ]
  },
  {
   "cell_type": "code",
   "execution_count": null,
   "id": "2f5cc56b",
   "metadata": {
    "id": "2f5cc56b",
    "outputId": "e65a7fd2-c22f-4e00-dd01-65a8382d72b9"
   },
   "outputs": [
    {
     "data": {
      "text/plain": [
       "100"
      ]
     },
     "execution_count": 3,
     "metadata": {},
     "output_type": "execute_result"
    }
   ],
   "source": [
    "multiply(5,20)"
   ]
  },
  {
   "cell_type": "code",
   "execution_count": 1,
   "id": "aafc46a9",
   "metadata": {
    "colab": {
     "base_uri": "https://localhost:8080/"
    },
    "executionInfo": {
     "elapsed": 5,
     "status": "ok",
     "timestamp": 1683785906117,
     "user": {
      "displayName": "Mohamed Mahmoud Ali",
      "userId": "09893787734904302111"
     },
     "user_tz": -180
    },
    "id": "aafc46a9",
    "outputId": "d2934c66-f9fa-47ec-9109-69bed2a0ae99"
   },
   "outputs": [
    {
     "name": "stdout",
     "output_type": "stream",
     "text": [
      "10\n",
      "10\n"
     ]
    }
   ],
   "source": [
    "a = 10\n",
    "b = a\n",
    "\n",
    "print(b)\n",
    "print(a)\n",
    "a=4\n"
   ]
  },
  {
   "cell_type": "markdown",
   "id": "f721f591",
   "metadata": {
    "id": "f721f591"
   },
   "source": [
    "# Functions as an Argument"
   ]
  },
  {
   "cell_type": "code",
   "execution_count": null,
   "id": "456a42b8",
   "metadata": {
    "id": "456a42b8",
    "outputId": "355f891b-26a3-415b-d3b7-93b54052f06c"
   },
   "outputs": [
    {
     "name": "stdout",
     "output_type": "stream",
     "text": [
      "30\n"
     ]
    }
   ],
   "source": [
    "def sub(x,y):\n",
    "    return x + y\n",
    "\n",
    "def add(blue, x, y):     # blue = sub,  x = 5,  y = 10\n",
    "    return blue(blue(x,y), blue(x,y))\n",
    "    #       sub(sub(5,10), sub(5,10))\n",
    "    #       sub(    15   ,    15    )\n",
    "    #                   30\n",
    "\n",
    "a = 5\n",
    "b = 10\n",
    "\n",
    "print(add(sub, a, b))"
   ]
  },
  {
   "cell_type": "code",
   "execution_count": 3,
   "id": "c5905a9c",
   "metadata": {
    "colab": {
     "base_uri": "https://localhost:8080/"
    },
    "executionInfo": {
     "elapsed": 4,
     "status": "ok",
     "timestamp": 1683786062598,
     "user": {
      "displayName": "Mohamed Mahmoud Ali",
      "userId": "09893787734904302111"
     },
     "user_tz": -180
    },
    "id": "c5905a9c",
    "outputId": "7af890f9-7265-43f2-97d9-6846aeebeeb0"
   },
   "outputs": [
    {
     "name": "stdout",
     "output_type": "stream",
     "text": [
      "49\n"
     ]
    }
   ],
   "source": [
    "def square(x):\n",
    "    return x * x\n",
    "\n",
    "def test(Ali, x):\n",
    "    print(Ali(x))\n",
    "    \n",
    "test(square, 7)"
   ]
  },
  {
   "cell_type": "code",
   "execution_count": 2,
   "id": "4afa1fc7",
   "metadata": {
    "id": "4afa1fc7",
    "outputId": "d27b41a8-6302-4297-8b3b-8749a73e0eba"
   },
   "outputs": [
    {
     "name": "stdout",
     "output_type": "stream",
     "text": [
      "3\n",
      "1\n"
     ]
    }
   ],
   "source": [
    "def green(red, a):\n",
    "    print(red(a))\n",
    "    \n",
    "green(max,[1,2,3])\n",
    "green(min,[1,2,3])"
   ]
  },
  {
   "cell_type": "code",
   "execution_count": null,
   "id": "5915da82",
   "metadata": {
    "id": "5915da82",
    "outputId": "a07d3de7-2740-4826-f2ad-39ecc63a5b21"
   },
   "outputs": [
    {
     "name": "stdout",
     "output_type": "stream",
     "text": [
      "0\n"
     ]
    }
   ],
   "source": [
    "def printn(x):\n",
    "    for i in range(x):\n",
    "        print(i)\n",
    "        return\n",
    "    \n",
    "printn(10)"
   ]
  },
  {
   "cell_type": "markdown",
   "id": "8ea6d5ec",
   "metadata": {
    "id": "8ea6d5ec"
   },
   "source": [
    "# Doc String\n",
    "\n",
    "Documentation String"
   ]
  },
  {
   "cell_type": "code",
   "execution_count": null,
   "id": "9ddac470",
   "metadata": {
    "id": "9ddac470",
    "outputId": "8a3463b6-a92c-4213-e23d-e3b8f30eacd3"
   },
   "outputs": [
    {
     "name": "stdout",
     "output_type": "stream",
     "text": [
      "Help on built-in function max in module builtins:\n",
      "\n",
      "max(...)\n",
      "    max(iterable, *[, default=obj, key=func]) -> value\n",
      "    max(arg1, arg2, *args, *[, key=func]) -> value\n",
      "    \n",
      "    With a single iterable argument, return its biggest item. The\n",
      "    default keyword-only argument specifies an object to return if\n",
      "    the provided iterable is empty.\n",
      "    With two or more arguments, return the largest argument.\n",
      "\n"
     ]
    }
   ],
   "source": [
    "help(max)"
   ]
  },
  {
   "cell_type": "code",
   "execution_count": null,
   "id": "24549292",
   "metadata": {
    "id": "24549292",
    "outputId": "9b1c5d22-1873-4796-a6ce-8328dff3f89c"
   },
   "outputs": [
    {
     "name": "stdout",
     "output_type": "stream",
     "text": [
      "Help on built-in function print in module builtins:\n",
      "\n",
      "print(...)\n",
      "    print(value, ..., sep=' ', end='\\n', file=sys.stdout, flush=False)\n",
      "    \n",
      "    Prints the values to a stream, or to sys.stdout by default.\n",
      "    Optional keyword arguments:\n",
      "    file:  a file-like object (stream); defaults to the current sys.stdout.\n",
      "    sep:   string inserted between values, default a space.\n",
      "    end:   string appended after the last value, default a newline.\n",
      "    flush: whether to forcibly flush the stream.\n",
      "\n"
     ]
    }
   ],
   "source": [
    "help(print)"
   ]
  },
  {
   "cell_type": "code",
   "execution_count": null,
   "id": "26d24104",
   "metadata": {
    "id": "26d24104"
   },
   "outputs": [],
   "source": [
    "def indore():\n",
    "    \"\"\"\n",
    "    this function will return hello string\n",
    "    and also print 5\n",
    "    \"\"\"\n",
    "    print(\"Hello\")\n",
    "    print(5)"
   ]
  },
  {
   "cell_type": "code",
   "execution_count": null,
   "id": "b82898ca",
   "metadata": {
    "id": "b82898ca",
    "outputId": "1c4d5434-26e9-4ac1-caa9-4468f004599a"
   },
   "outputs": [
    {
     "name": "stdout",
     "output_type": "stream",
     "text": [
      "Hello\n",
      "5\n"
     ]
    }
   ],
   "source": [
    "indore()"
   ]
  },
  {
   "cell_type": "code",
   "execution_count": null,
   "id": "bec26e05",
   "metadata": {
    "id": "bec26e05",
    "outputId": "b5f77237-cc3e-4c89-f7ec-e924d48b59b7"
   },
   "outputs": [
    {
     "name": "stdout",
     "output_type": "stream",
     "text": [
      "Help on function indore in module __main__:\n",
      "\n",
      "indore()\n",
      "    this function will return hello string\n",
      "    and also print 5\n",
      "\n"
     ]
    }
   ],
   "source": [
    "help(indore)"
   ]
  },
  {
   "cell_type": "code",
   "execution_count": null,
   "id": "1c6e4d00",
   "metadata": {
    "id": "1c6e4d00",
    "outputId": "e0e2c150-f059-4955-af55-85b5a4ea714c"
   },
   "outputs": [
    {
     "name": "stdout",
     "output_type": "stream",
     "text": [
      "\n",
      "    this function will return hello string\n",
      "    and also print 5\n",
      "    \n"
     ]
    }
   ],
   "source": [
    "print(indore.__doc__)      # dunders /  magic methods"
   ]
  },
  {
   "cell_type": "code",
   "execution_count": null,
   "id": "44ab1fa2",
   "metadata": {
    "id": "44ab1fa2",
    "outputId": "4c76a34f-1766-48a5-8d83-e6d7194922a8"
   },
   "outputs": [
    {
     "name": "stdout",
     "output_type": "stream",
     "text": [
      "Hello\n",
      "5\n"
     ]
    }
   ],
   "source": [
    "indore()"
   ]
  },
  {
   "cell_type": "markdown",
   "id": "9be457bf",
   "metadata": {
    "id": "9be457bf"
   },
   "source": [
    "# Lambda Function\n",
    "\n",
    "anonymous function"
   ]
  },
  {
   "cell_type": "code",
   "execution_count": null,
   "id": "79406558",
   "metadata": {
    "id": "79406558"
   },
   "outputs": [],
   "source": [
    "lambda arguments : expression"
   ]
  },
  {
   "cell_type": "code",
   "execution_count": 3,
   "id": "30728f8a",
   "metadata": {
    "id": "30728f8a"
   },
   "outputs": [],
   "source": [
    "def cube(y):\n",
    "    return y*y*y\n",
    "\n",
    "g = lambda x: x*x*x"
   ]
  },
  {
   "cell_type": "code",
   "execution_count": 4,
   "id": "66818e35",
   "metadata": {
    "id": "66818e35",
    "outputId": "52fd5ac9-f245-4986-afb4-4428f3129e43"
   },
   "outputs": [
    {
     "name": "stdout",
     "output_type": "stream",
     "text": [
      "64\n"
     ]
    }
   ],
   "source": [
    "print(cube(4))"
   ]
  },
  {
   "cell_type": "code",
   "execution_count": null,
   "id": "acfdb043",
   "metadata": {
    "id": "acfdb043",
    "outputId": "c925523c-a31f-4cc9-9608-ebeb20f6d56d"
   },
   "outputs": [
    {
     "name": "stdout",
     "output_type": "stream",
     "text": [
      "343\n"
     ]
    }
   ],
   "source": [
    "print(g(7))"
   ]
  },
  {
   "cell_type": "markdown",
   "id": "01c94db0",
   "metadata": {
    "id": "01c94db0"
   },
   "source": [
    "# Filter Function"
   ]
  },
  {
   "cell_type": "code",
   "execution_count": null,
   "id": "bb4faa37",
   "metadata": {
    "id": "bb4faa37",
    "outputId": "860809fc-b363-430a-eb61-1b03a294e203"
   },
   "outputs": [
    {
     "name": "stdout",
     "output_type": "stream",
     "text": [
      "[22, 44]\n"
     ]
    }
   ],
   "source": [
    "n = [11,22,33,44,55]\n",
    "\n",
    "r = list(filter(lambda x: x%2 == 0 , n))\n",
    "\n",
    "print(r)"
   ]
  },
  {
   "cell_type": "code",
   "execution_count": null,
   "id": "517ebe3b",
   "metadata": {
    "id": "517ebe3b",
    "outputId": "b811e6a6-747c-4091-8d09-1ea5e7fb9ab0"
   },
   "outputs": [
    {
     "name": "stdout",
     "output_type": "stream",
     "text": [
      "['A', 'C']\n"
     ]
    }
   ],
   "source": [
    "n = [\"A\",\"B\",\"C\"]\n",
    "\n",
    "r = list(filter(lambda x: x == \"A\" or x == \"C\" , n))\n",
    "\n",
    "print(r)"
   ]
  },
  {
   "cell_type": "markdown",
   "id": "3ffcc2bf",
   "metadata": {
    "id": "3ffcc2bf"
   },
   "source": [
    "# map function"
   ]
  },
  {
   "cell_type": "code",
   "execution_count": 7,
   "id": "1ada72ef",
   "metadata": {
    "colab": {
     "base_uri": "https://localhost:8080/"
    },
    "executionInfo": {
     "elapsed": 439,
     "status": "ok",
     "timestamp": 1683786515366,
     "user": {
      "displayName": "Mohamed Mahmoud Ali",
      "userId": "09893787734904302111"
     },
     "user_tz": -180
    },
    "id": "1ada72ef",
    "outputId": "54e2b955-be55-4783-be8f-f643b750dcd2"
   },
   "outputs": [
    {
     "name": "stdout",
     "output_type": "stream",
     "text": [
      "[6, 7, 8, 9, 10]\n"
     ]
    }
   ],
   "source": [
    "n = [1,2,3,4,5]\n",
    "\n",
    "r = list(map(lambda x: x + 5, n))\n",
    "\n",
    "print(r)"
   ]
  },
  {
   "cell_type": "code",
   "execution_count": 9,
   "id": "2833b344",
   "metadata": {
    "colab": {
     "base_uri": "https://localhost:8080/"
    },
    "executionInfo": {
     "elapsed": 2803,
     "status": "ok",
     "timestamp": 1683787822124,
     "user": {
      "displayName": "Mohamed Mahmoud Ali",
      "userId": "09893787734904302111"
     },
     "user_tz": -180
    },
    "id": "2833b344",
    "outputId": "9c972ef5-818a-449f-fd24-9e5aeebfc4d7"
   },
   "outputs": [
    {
     "name": "stdout",
     "output_type": "stream",
     "text": [
      "5\n",
      "25\n"
     ]
    }
   ],
   "source": [
    "n = int(input())\n",
    "r= lambda n : n*n\n",
    "print(r(n))"
   ]
  },
  {
   "cell_type": "code",
   "execution_count": 10,
   "id": "imepHtCElq7V",
   "metadata": {
    "colab": {
     "base_uri": "https://localhost:8080/"
    },
    "executionInfo": {
     "elapsed": 12896,
     "status": "ok",
     "timestamp": 1683788073757,
     "user": {
      "displayName": "Mohamed Mahmoud Ali",
      "userId": "09893787734904302111"
     },
     "user_tz": -180
    },
    "id": "imepHtCElq7V",
    "outputId": "ca2fee88-c060-46b9-9cb9-addbfde4401d"
   },
   "outputs": [
    {
     "name": "stdout",
     "output_type": "stream",
     "text": [
      "insert a temperature in Celsius: 10\n",
      "insert a temperature in Celsius: 50\n",
      "insert a temperature in Celsius: 60\n",
      "[50.0, 122.0, 140.0]\n"
     ]
    }
   ],
   "source": [
    "celsius = []\n",
    "celsius.append(int(input(\"insert a temperature in Celsius: \")))\n",
    "celsius.append(int(input(\"insert a temperature in Celsius: \")))\n",
    "celsius.append(int(input(\"insert a temperature in Celsius: \")))\n",
    "conversion = lambda c: (9/5)*c + 32\n",
    "farenheit = list(map(conversion, celsius))\n",
    "print(farenheit)"
   ]
  },
  {
   "cell_type": "code",
   "execution_count": 11,
   "id": "BFJqjgenmXBm",
   "metadata": {
    "colab": {
     "base_uri": "https://localhost:8080/"
    },
    "executionInfo": {
     "elapsed": 2,
     "status": "ok",
     "timestamp": 1683788254228,
     "user": {
      "displayName": "Mohamed Mahmoud Ali",
      "userId": "09893787734904302111"
     },
     "user_tz": -180
    },
    "id": "BFJqjgenmXBm",
    "outputId": "a9042a9f-9151-4df8-8ccf-1c5592a23c8f"
   },
   "outputs": [
    {
     "name": "stdout",
     "output_type": "stream",
     "text": [
      "[54.0, 50.4, 41.4, 43.2, 63.0]\n"
     ]
    }
   ],
   "source": [
    "n = [30,28,23,24,35]\n",
    "\n",
    "r = list(map(lambda x: (9/5)*x, n))\n",
    "\n",
    "print(r)\n",
    "\n"
   ]
  }
 ],
 "metadata": {
  "colab": {
   "provenance": []
  },
  "kernelspec": {
   "display_name": "Python 3 (ipykernel)",
   "language": "python",
   "name": "python3"
  },
  "language_info": {
   "codemirror_mode": {
    "name": "ipython",
    "version": 3
   },
   "file_extension": ".py",
   "mimetype": "text/x-python",
   "name": "python",
   "nbconvert_exporter": "python",
   "pygments_lexer": "ipython3",
   "version": "3.10.9"
  }
 },
 "nbformat": 4,
 "nbformat_minor": 5
}
